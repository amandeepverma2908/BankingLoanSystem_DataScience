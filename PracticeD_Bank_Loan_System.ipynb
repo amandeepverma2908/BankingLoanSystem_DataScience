{
  "nbformat": 4,
  "nbformat_minor": 0,
  "metadata": {
    "colab": {
      "name": "PracticeD_Bank_Loan_System.ipynb",
      "provenance": [],
      "collapsed_sections": []
    },
    "kernelspec": {
      "display_name": "Python 3",
      "language": "python",
      "name": "python3"
    },
    "language_info": {
      "codemirror_mode": {
        "name": "ipython",
        "version": 3
      },
      "file_extension": ".py",
      "mimetype": "text/x-python",
      "name": "python",
      "nbconvert_exporter": "python",
      "pygments_lexer": "ipython3",
      "version": "3.7.4"
    }
  },
  "cells": [
    {
      "cell_type": "markdown",
      "metadata": {
        "id": "PpSTOIMpGqnH"
      },
      "source": [
        "# Keras API Project Exercise\n",
        "\n",
        "## The Data\n",
        "\n",
        "We will be using a subset of the LendingClub DataSet obtained from Kaggle: https://www.kaggle.com/wordsforthewise/lending-club\n",
        "\n",
        "## NOTE: Do not download the full zip from the link! We provide a special version of this file that has some extra feature engineering for you to do. You won't be able to follow along with the original file!\n",
        "\n",
        "LendingClub is a US peer-to-peer lending company, headquartered in San Francisco, California.[3] It was the first peer-to-peer lender to register its offerings as securities with the Securities and Exchange Commission (SEC), and to offer loan trading on a secondary market. LendingClub is the world's largest peer-to-peer lending platform.\n",
        "\n",
        "### Our Goal\n",
        "\n",
        "Given historical data on loans given out with information on whether or not the borrower defaulted (charge-off), can we build a model thatcan predict wether or nor a borrower will pay back their loan? This way in the future when we get a new potential customer we can assess whether or not they are likely to pay back the loan. Keep in mind classification metrics when evaluating the performance of your model!\n",
        "\n",
        "The \"loan_status\" column contains our label.\n",
        "\n",
        "### Data Overview"
      ]
    },
    {
      "cell_type": "markdown",
      "metadata": {
        "id": "aPhNn6XUGqnH"
      },
      "source": [
        "----\n",
        "-----\n",
        "There are many LendingClub data sets on Kaggle. Here is the information on this particular data set:\n",
        "\n",
        "<table border=\"1\" class=\"dataframe\">\n",
        "  <thead>\n",
        "    <tr style=\"text-align: right;\">\n",
        "      <th></th>\n",
        "      <th>LoanStatNew</th>\n",
        "      <th>Description</th>\n",
        "    </tr>\n",
        "  </thead>\n",
        "  <tbody>\n",
        "    <tr>\n",
        "      <th>0</th>\n",
        "      <td>loan_amnt</td>\n",
        "      <td>The listed amount of the loan applied for by the borrower. If at some point in time, the credit department reduces the loan amount, then it will be reflected in this value.</td>\n",
        "    </tr>\n",
        "    <tr>\n",
        "      <th>1</th>\n",
        "      <td>term</td>\n",
        "      <td>The number of payments on the loan. Values are in months and can be either 36 or 60.</td>\n",
        "    </tr>\n",
        "    <tr>\n",
        "      <th>2</th>\n",
        "      <td>int_rate</td>\n",
        "      <td>Interest Rate on the loan</td>\n",
        "    </tr>\n",
        "    <tr>\n",
        "      <th>3</th>\n",
        "      <td>installment</td>\n",
        "      <td>The monthly payment owed by the borrower if the loan originates.</td>\n",
        "    </tr>\n",
        "    <tr>\n",
        "      <th>4</th>\n",
        "      <td>grade</td>\n",
        "      <td>LC assigned loan grade</td>\n",
        "    </tr>\n",
        "    <tr>\n",
        "      <th>5</th>\n",
        "      <td>sub_grade</td>\n",
        "      <td>LC assigned loan subgrade</td>\n",
        "    </tr>\n",
        "    <tr>\n",
        "      <th>6</th>\n",
        "      <td>emp_title</td>\n",
        "      <td>The job title supplied by the Borrower when applying for the loan.*</td>\n",
        "    </tr>\n",
        "    <tr>\n",
        "      <th>7</th>\n",
        "      <td>emp_length</td>\n",
        "      <td>Employment length in years. Possible values are between 0 and 10 where 0 means less than one year and 10 means ten or more years.</td>\n",
        "    </tr>\n",
        "    <tr>\n",
        "      <th>8</th>\n",
        "      <td>home_ownership</td>\n",
        "      <td>The home ownership status provided by the borrower during registration or obtained from the credit report. Our values are: RENT, OWN, MORTGAGE, OTHER</td>\n",
        "    </tr>\n",
        "    <tr>\n",
        "      <th>9</th>\n",
        "      <td>annual_inc</td>\n",
        "      <td>The self-reported annual income provided by the borrower during registration.</td>\n",
        "    </tr>\n",
        "    <tr>\n",
        "      <th>10</th>\n",
        "      <td>verification_status</td>\n",
        "      <td>Indicates if income was verified by LC, not verified, or if the income source was verified</td>\n",
        "    </tr>\n",
        "    <tr>\n",
        "      <th>11</th>\n",
        "      <td>issue_d</td>\n",
        "      <td>The month which the loan was funded</td>\n",
        "    </tr>\n",
        "    <tr>\n",
        "      <th>12</th>\n",
        "      <td>loan_status</td>\n",
        "      <td>Current status of the loan</td>\n",
        "    </tr>\n",
        "    <tr>\n",
        "      <th>13</th>\n",
        "      <td>purpose</td>\n",
        "      <td>A category provided by the borrower for the loan request.</td>\n",
        "    </tr>\n",
        "    <tr>\n",
        "      <th>14</th>\n",
        "      <td>title</td>\n",
        "      <td>The loan title provided by the borrower</td>\n",
        "    </tr>\n",
        "    <tr>\n",
        "      <th>15</th>\n",
        "      <td>zip_code</td>\n",
        "      <td>The first 3 numbers of the zip code provided by the borrower in the loan application.</td>\n",
        "    </tr>\n",
        "    <tr>\n",
        "      <th>16</th>\n",
        "      <td>addr_state</td>\n",
        "      <td>The state provided by the borrower in the loan application</td>\n",
        "    </tr>\n",
        "    <tr>\n",
        "      <th>17</th>\n",
        "      <td>dti</td>\n",
        "      <td>A ratio calculated using the borrower’s total monthly debt payments on the total debt obligations, excluding mortgage and the requested LC loan, divided by the borrower’s self-reported monthly income.</td>\n",
        "    </tr>\n",
        "    <tr>\n",
        "      <th>18</th>\n",
        "      <td>earliest_cr_line</td>\n",
        "      <td>The month the borrower's earliest reported credit line was opened</td>\n",
        "    </tr>\n",
        "    <tr>\n",
        "      <th>19</th>\n",
        "      <td>open_acc</td>\n",
        "      <td>The number of open credit lines in the borrower's credit file.</td>\n",
        "    </tr>\n",
        "    <tr>\n",
        "      <th>20</th>\n",
        "      <td>pub_rec</td>\n",
        "      <td>Number of derogatory public records</td>\n",
        "    </tr>\n",
        "    <tr>\n",
        "      <th>21</th>\n",
        "      <td>revol_bal</td>\n",
        "      <td>Total credit revolving balance</td>\n",
        "    </tr>\n",
        "    <tr>\n",
        "      <th>22</th>\n",
        "      <td>revol_util</td>\n",
        "      <td>Revolving line utilization rate, or the amount of credit the borrower is using relative to all available revolving credit.</td>\n",
        "    </tr>\n",
        "    <tr>\n",
        "      <th>23</th>\n",
        "      <td>total_acc</td>\n",
        "      <td>The total number of credit lines currently in the borrower's credit file</td>\n",
        "    </tr>\n",
        "    <tr>\n",
        "      <th>24</th>\n",
        "      <td>initial_list_status</td>\n",
        "      <td>The initial listing status of the loan. Possible values are – W, F</td>\n",
        "    </tr>\n",
        "    <tr>\n",
        "      <th>25</th>\n",
        "      <td>application_type</td>\n",
        "      <td>Indicates whether the loan is an individual application or a joint application with two co-borrowers</td>\n",
        "    </tr>\n",
        "    <tr>\n",
        "      <th>26</th>\n",
        "      <td>mort_acc</td>\n",
        "      <td>Number of mortgage accounts.</td>\n",
        "    </tr>\n",
        "    <tr>\n",
        "      <th>27</th>\n",
        "      <td>pub_rec_bankruptcies</td>\n",
        "      <td>Number of public record bankruptcies</td>\n",
        "    </tr>\n",
        "  </tbody>\n",
        "</table>\n",
        "\n",
        "---\n",
        "----"
      ]
    },
    {
      "cell_type": "markdown",
      "metadata": {
        "id": "Y4qsQDukGqnL"
      },
      "source": [
        "## Starter Code\n",
        "\n",
        "#### Note: We also provide feature information on the data as a .csv file for easy lookup throughout the notebook:"
      ]
    },
    {
      "cell_type": "code",
      "metadata": {
        "id": "1Wn2JxV9GqnM"
      },
      "source": [
        "import pandas as pd\n",
        "import numpy as np\n",
        "\n",
        "import seaborn as sns\n",
        "import matplotlib.pyplot as plt\n",
        "import missingno as msno"
      ],
      "execution_count": 1,
      "outputs": []
    },
    {
      "cell_type": "code",
      "metadata": {
        "id": "Ec2VI-YnHgNo",
        "colab": {
          "resources": {
            "http://localhost:8080/nbextensions/google.colab/files.js": {
              "data": "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",
              "ok": true,
              "headers": [
                [
                  "content-type",
                  "application/javascript"
                ]
              ],
              "status": 200,
              "status_text": ""
            }
          },
          "base_uri": "https://localhost:8080/",
          "height": 73
        },
        "outputId": "523c4342-137f-4641-dd4a-3e6363b3a2be"
      },
      "source": [
        "from google.colab import files\n",
        "uploaded = files.upload()"
      ],
      "execution_count": 2,
      "outputs": [
        {
          "output_type": "display_data",
          "data": {
            "text/html": [
              "\n",
              "     <input type=\"file\" id=\"files-8dd7287f-ca73-4ca6-b564-570fde8a14da\" name=\"files[]\" multiple disabled\n",
              "        style=\"border:none\" />\n",
              "     <output id=\"result-8dd7287f-ca73-4ca6-b564-570fde8a14da\">\n",
              "      Upload widget is only available when the cell has been executed in the\n",
              "      current browser session. Please rerun this cell to enable.\n",
              "      </output>\n",
              "      <script src=\"/nbextensions/google.colab/files.js\"></script> "
            ],
            "text/plain": [
              "<IPython.core.display.HTML object>"
            ]
          },
          "metadata": {
            "tags": []
          }
        },
        {
          "output_type": "stream",
          "text": [
            "Saving lending_club_info.csv to lending_club_info.csv\n"
          ],
          "name": "stdout"
        }
      ]
    },
    {
      "cell_type": "code",
      "metadata": {
        "colab": {
          "base_uri": "https://localhost:8080/",
          "height": 225
        },
        "id": "4zruJpAJGqnN",
        "outputId": "aafea89f-be90-483a-ad93-619d0903aaca"
      },
      "source": [
        "import io\n",
        "data_info = pd.read_csv(io.BytesIO(uploaded['lending_club_info.csv']),index_col='LoanStatNew')\n",
        "data_info.head()"
      ],
      "execution_count": 3,
      "outputs": [
        {
          "output_type": "execute_result",
          "data": {
            "text/html": [
              "<div>\n",
              "<style scoped>\n",
              "    .dataframe tbody tr th:only-of-type {\n",
              "        vertical-align: middle;\n",
              "    }\n",
              "\n",
              "    .dataframe tbody tr th {\n",
              "        vertical-align: top;\n",
              "    }\n",
              "\n",
              "    .dataframe thead th {\n",
              "        text-align: right;\n",
              "    }\n",
              "</style>\n",
              "<table border=\"1\" class=\"dataframe\">\n",
              "  <thead>\n",
              "    <tr style=\"text-align: right;\">\n",
              "      <th></th>\n",
              "      <th>Description</th>\n",
              "    </tr>\n",
              "    <tr>\n",
              "      <th>LoanStatNew</th>\n",
              "      <th></th>\n",
              "    </tr>\n",
              "  </thead>\n",
              "  <tbody>\n",
              "    <tr>\n",
              "      <th>loan_amnt</th>\n",
              "      <td>The listed amount of the loan applied for by t...</td>\n",
              "    </tr>\n",
              "    <tr>\n",
              "      <th>term</th>\n",
              "      <td>The number of payments on the loan. Values are...</td>\n",
              "    </tr>\n",
              "    <tr>\n",
              "      <th>int_rate</th>\n",
              "      <td>Interest Rate on the loan</td>\n",
              "    </tr>\n",
              "    <tr>\n",
              "      <th>installment</th>\n",
              "      <td>The monthly payment owed by the borrower if th...</td>\n",
              "    </tr>\n",
              "    <tr>\n",
              "      <th>grade</th>\n",
              "      <td>LC assigned loan grade</td>\n",
              "    </tr>\n",
              "  </tbody>\n",
              "</table>\n",
              "</div>"
            ],
            "text/plain": [
              "                                                   Description\n",
              "LoanStatNew                                                   \n",
              "loan_amnt    The listed amount of the loan applied for by t...\n",
              "term         The number of payments on the loan. Values are...\n",
              "int_rate                             Interest Rate on the loan\n",
              "installment  The monthly payment owed by the borrower if th...\n",
              "grade                                   LC assigned loan grade"
            ]
          },
          "metadata": {
            "tags": []
          },
          "execution_count": 3
        }
      ]
    },
    {
      "cell_type": "code",
      "metadata": {
        "colab": {
          "base_uri": "https://localhost:8080/"
        },
        "id": "aXNc3i8sGqnN",
        "outputId": "b4356bd1-0af1-45b4-f3ec-6fa939c510af"
      },
      "source": [
        "print(data_info.loc['revol_util']['Description'])"
      ],
      "execution_count": 4,
      "outputs": [
        {
          "output_type": "stream",
          "text": [
            "Revolving line utilization rate, or the amount of credit the borrower is using relative to all available revolving credit.\n"
          ],
          "name": "stdout"
        }
      ]
    },
    {
      "cell_type": "code",
      "metadata": {
        "id": "1XyXZY9lGqnO"
      },
      "source": [
        "def feat_info(col_name):\n",
        "    print(data_info.loc[col_name]['Description'])"
      ],
      "execution_count": 5,
      "outputs": []
    },
    {
      "cell_type": "code",
      "metadata": {
        "colab": {
          "base_uri": "https://localhost:8080/"
        },
        "id": "e4KqhYflGqnP",
        "outputId": "0a6f14a3-d86f-4f0b-99f5-b6efbfb145dd"
      },
      "source": [
        "feat_info('mort_acc')"
      ],
      "execution_count": 6,
      "outputs": [
        {
          "output_type": "stream",
          "text": [
            "Number of mortgage accounts.\n"
          ],
          "name": "stdout"
        }
      ]
    },
    {
      "cell_type": "markdown",
      "metadata": {
        "id": "gZu6HsU4GqnP"
      },
      "source": [
        "## Loading the data and other imports"
      ]
    },
    {
      "cell_type": "code",
      "metadata": {
        "id": "BKZfT9e9GqnP"
      },
      "source": [
        "import pandas as pd\n",
        "import numpy as np\n",
        "import matplotlib.pyplot as plt\n",
        "import seaborn as sns\n",
        "\n",
        "# might be needed depending on your version of Jupyter\n",
        "%matplotlib inline"
      ],
      "execution_count": 7,
      "outputs": []
    },
    {
      "cell_type": "code",
      "metadata": {
        "colab": {
          "resources": {
            "http://localhost:8080/nbextensions/google.colab/files.js": {
              "data": "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",
              "ok": true,
              "headers": [
                [
                  "content-type",
                  "application/javascript"
                ]
              ],
              "status": 200,
              "status_text": ""
            }
          },
          "base_uri": "https://localhost:8080/",
          "height": 73
        },
        "id": "Zqh4DM3wGqnQ",
        "outputId": "52e546d1-c2a9-40f5-d98e-6ef02b1c42a6"
      },
      "source": [
        "uploaded = files.upload()\n",
        "#df=pd.read_csv('lending_club_loan_two.csv')"
      ],
      "execution_count": 9,
      "outputs": [
        {
          "output_type": "display_data",
          "data": {
            "text/html": [
              "\n",
              "     <input type=\"file\" id=\"files-8756f8dc-b2fc-4f35-9c7d-a2208ede36d0\" name=\"files[]\" multiple disabled\n",
              "        style=\"border:none\" />\n",
              "     <output id=\"result-8756f8dc-b2fc-4f35-9c7d-a2208ede36d0\">\n",
              "      Upload widget is only available when the cell has been executed in the\n",
              "      current browser session. Please rerun this cell to enable.\n",
              "      </output>\n",
              "      <script src=\"/nbextensions/google.colab/files.js\"></script> "
            ],
            "text/plain": [
              "<IPython.core.display.HTML object>"
            ]
          },
          "metadata": {
            "tags": []
          }
        },
        {
          "output_type": "stream",
          "text": [
            "Saving lending_club_loan_two.csv to lending_club_loan_two.csv\n"
          ],
          "name": "stdout"
        }
      ]
    },
    {
      "cell_type": "code",
      "metadata": {
        "colab": {
          "base_uri": "https://localhost:8080/",
          "height": 1000
        },
        "id": "2N2T3C-ZNrYh",
        "outputId": "b008e360-3f4a-4f5c-91e6-b35e80ab6492"
      },
      "source": [
        "df = pd.read_csv(io.BytesIO(uploaded['lending_club_loan_two.csv']))\n",
        "df.head(20)"
      ],
      "execution_count": 10,
      "outputs": [
        {
          "output_type": "execute_result",
          "data": {
            "text/html": [
              "<div>\n",
              "<style scoped>\n",
              "    .dataframe tbody tr th:only-of-type {\n",
              "        vertical-align: middle;\n",
              "    }\n",
              "\n",
              "    .dataframe tbody tr th {\n",
              "        vertical-align: top;\n",
              "    }\n",
              "\n",
              "    .dataframe thead th {\n",
              "        text-align: right;\n",
              "    }\n",
              "</style>\n",
              "<table border=\"1\" class=\"dataframe\">\n",
              "  <thead>\n",
              "    <tr style=\"text-align: right;\">\n",
              "      <th></th>\n",
              "      <th>loan_amnt</th>\n",
              "      <th>term</th>\n",
              "      <th>int_rate</th>\n",
              "      <th>installment</th>\n",
              "      <th>grade</th>\n",
              "      <th>sub_grade</th>\n",
              "      <th>emp_title</th>\n",
              "      <th>emp_length</th>\n",
              "      <th>home_ownership</th>\n",
              "      <th>annual_inc</th>\n",
              "      <th>verification_status</th>\n",
              "      <th>issue_d</th>\n",
              "      <th>loan_status</th>\n",
              "      <th>purpose</th>\n",
              "      <th>title</th>\n",
              "      <th>dti</th>\n",
              "      <th>earliest_cr_line</th>\n",
              "      <th>open_acc</th>\n",
              "      <th>pub_rec</th>\n",
              "      <th>revol_bal</th>\n",
              "      <th>revol_util</th>\n",
              "      <th>total_acc</th>\n",
              "      <th>initial_list_status</th>\n",
              "      <th>application_type</th>\n",
              "      <th>mort_acc</th>\n",
              "      <th>pub_rec_bankruptcies</th>\n",
              "      <th>address</th>\n",
              "    </tr>\n",
              "  </thead>\n",
              "  <tbody>\n",
              "    <tr>\n",
              "      <th>0</th>\n",
              "      <td>10000.0</td>\n",
              "      <td>36 months</td>\n",
              "      <td>11.44</td>\n",
              "      <td>329.48</td>\n",
              "      <td>B</td>\n",
              "      <td>B4</td>\n",
              "      <td>Marketing</td>\n",
              "      <td>10+ years</td>\n",
              "      <td>RENT</td>\n",
              "      <td>117000.0</td>\n",
              "      <td>Not Verified</td>\n",
              "      <td>Jan-2015</td>\n",
              "      <td>Fully Paid</td>\n",
              "      <td>vacation</td>\n",
              "      <td>Vacation</td>\n",
              "      <td>26.24</td>\n",
              "      <td>Jun-1990</td>\n",
              "      <td>16.0</td>\n",
              "      <td>0.0</td>\n",
              "      <td>36369.0</td>\n",
              "      <td>41.8</td>\n",
              "      <td>25.0</td>\n",
              "      <td>w</td>\n",
              "      <td>INDIVIDUAL</td>\n",
              "      <td>0.0</td>\n",
              "      <td>0.0</td>\n",
              "      <td>0174 Michelle Gateway\\r\\nMendozaberg, OK 22690</td>\n",
              "    </tr>\n",
              "    <tr>\n",
              "      <th>1</th>\n",
              "      <td>8000.0</td>\n",
              "      <td>36 months</td>\n",
              "      <td>11.99</td>\n",
              "      <td>265.68</td>\n",
              "      <td>B</td>\n",
              "      <td>B5</td>\n",
              "      <td>Credit analyst</td>\n",
              "      <td>4 years</td>\n",
              "      <td>MORTGAGE</td>\n",
              "      <td>65000.0</td>\n",
              "      <td>Not Verified</td>\n",
              "      <td>Jan-2015</td>\n",
              "      <td>Fully Paid</td>\n",
              "      <td>debt_consolidation</td>\n",
              "      <td>Debt consolidation</td>\n",
              "      <td>22.05</td>\n",
              "      <td>Jul-2004</td>\n",
              "      <td>17.0</td>\n",
              "      <td>0.0</td>\n",
              "      <td>20131.0</td>\n",
              "      <td>53.3</td>\n",
              "      <td>27.0</td>\n",
              "      <td>f</td>\n",
              "      <td>INDIVIDUAL</td>\n",
              "      <td>3.0</td>\n",
              "      <td>0.0</td>\n",
              "      <td>1076 Carney Fort Apt. 347\\r\\nLoganmouth, SD 05113</td>\n",
              "    </tr>\n",
              "    <tr>\n",
              "      <th>2</th>\n",
              "      <td>15600.0</td>\n",
              "      <td>36 months</td>\n",
              "      <td>10.49</td>\n",
              "      <td>506.97</td>\n",
              "      <td>B</td>\n",
              "      <td>B3</td>\n",
              "      <td>Statistician</td>\n",
              "      <td>&lt; 1 year</td>\n",
              "      <td>RENT</td>\n",
              "      <td>43057.0</td>\n",
              "      <td>Source Verified</td>\n",
              "      <td>Jan-2015</td>\n",
              "      <td>Fully Paid</td>\n",
              "      <td>credit_card</td>\n",
              "      <td>Credit card refinancing</td>\n",
              "      <td>12.79</td>\n",
              "      <td>Aug-2007</td>\n",
              "      <td>13.0</td>\n",
              "      <td>0.0</td>\n",
              "      <td>11987.0</td>\n",
              "      <td>92.2</td>\n",
              "      <td>26.0</td>\n",
              "      <td>f</td>\n",
              "      <td>INDIVIDUAL</td>\n",
              "      <td>0.0</td>\n",
              "      <td>0.0</td>\n",
              "      <td>87025 Mark Dale Apt. 269\\r\\nNew Sabrina, WV 05113</td>\n",
              "    </tr>\n",
              "    <tr>\n",
              "      <th>3</th>\n",
              "      <td>7200.0</td>\n",
              "      <td>36 months</td>\n",
              "      <td>6.49</td>\n",
              "      <td>220.65</td>\n",
              "      <td>A</td>\n",
              "      <td>A2</td>\n",
              "      <td>Client Advocate</td>\n",
              "      <td>6 years</td>\n",
              "      <td>RENT</td>\n",
              "      <td>54000.0</td>\n",
              "      <td>Not Verified</td>\n",
              "      <td>Nov-2014</td>\n",
              "      <td>Fully Paid</td>\n",
              "      <td>credit_card</td>\n",
              "      <td>Credit card refinancing</td>\n",
              "      <td>2.60</td>\n",
              "      <td>Sep-2006</td>\n",
              "      <td>6.0</td>\n",
              "      <td>0.0</td>\n",
              "      <td>5472.0</td>\n",
              "      <td>21.5</td>\n",
              "      <td>13.0</td>\n",
              "      <td>f</td>\n",
              "      <td>INDIVIDUAL</td>\n",
              "      <td>0.0</td>\n",
              "      <td>0.0</td>\n",
              "      <td>823 Reid Ford\\r\\nDelacruzside, MA 00813</td>\n",
              "    </tr>\n",
              "    <tr>\n",
              "      <th>4</th>\n",
              "      <td>24375.0</td>\n",
              "      <td>60 months</td>\n",
              "      <td>17.27</td>\n",
              "      <td>609.33</td>\n",
              "      <td>C</td>\n",
              "      <td>C5</td>\n",
              "      <td>Destiny Management Inc.</td>\n",
              "      <td>9 years</td>\n",
              "      <td>MORTGAGE</td>\n",
              "      <td>55000.0</td>\n",
              "      <td>Verified</td>\n",
              "      <td>Apr-2013</td>\n",
              "      <td>Charged Off</td>\n",
              "      <td>credit_card</td>\n",
              "      <td>Credit Card Refinance</td>\n",
              "      <td>33.95</td>\n",
              "      <td>Mar-1999</td>\n",
              "      <td>13.0</td>\n",
              "      <td>0.0</td>\n",
              "      <td>24584.0</td>\n",
              "      <td>69.8</td>\n",
              "      <td>43.0</td>\n",
              "      <td>f</td>\n",
              "      <td>INDIVIDUAL</td>\n",
              "      <td>1.0</td>\n",
              "      <td>0.0</td>\n",
              "      <td>679 Luna Roads\\r\\nGreggshire, VA 11650</td>\n",
              "    </tr>\n",
              "    <tr>\n",
              "      <th>5</th>\n",
              "      <td>20000.0</td>\n",
              "      <td>36 months</td>\n",
              "      <td>13.33</td>\n",
              "      <td>677.07</td>\n",
              "      <td>C</td>\n",
              "      <td>C3</td>\n",
              "      <td>HR Specialist</td>\n",
              "      <td>10+ years</td>\n",
              "      <td>MORTGAGE</td>\n",
              "      <td>86788.0</td>\n",
              "      <td>Verified</td>\n",
              "      <td>Sep-2015</td>\n",
              "      <td>Fully Paid</td>\n",
              "      <td>debt_consolidation</td>\n",
              "      <td>Debt consolidation</td>\n",
              "      <td>16.31</td>\n",
              "      <td>Jan-2005</td>\n",
              "      <td>8.0</td>\n",
              "      <td>0.0</td>\n",
              "      <td>25757.0</td>\n",
              "      <td>100.6</td>\n",
              "      <td>23.0</td>\n",
              "      <td>f</td>\n",
              "      <td>INDIVIDUAL</td>\n",
              "      <td>4.0</td>\n",
              "      <td>0.0</td>\n",
              "      <td>1726 Cooper Passage Suite 129\\r\\nNorth Deniseb...</td>\n",
              "    </tr>\n",
              "    <tr>\n",
              "      <th>6</th>\n",
              "      <td>18000.0</td>\n",
              "      <td>36 months</td>\n",
              "      <td>5.32</td>\n",
              "      <td>542.07</td>\n",
              "      <td>A</td>\n",
              "      <td>A1</td>\n",
              "      <td>Software Development Engineer</td>\n",
              "      <td>2 years</td>\n",
              "      <td>MORTGAGE</td>\n",
              "      <td>125000.0</td>\n",
              "      <td>Source Verified</td>\n",
              "      <td>Sep-2015</td>\n",
              "      <td>Fully Paid</td>\n",
              "      <td>home_improvement</td>\n",
              "      <td>Home improvement</td>\n",
              "      <td>1.36</td>\n",
              "      <td>Aug-2005</td>\n",
              "      <td>8.0</td>\n",
              "      <td>0.0</td>\n",
              "      <td>4178.0</td>\n",
              "      <td>4.9</td>\n",
              "      <td>25.0</td>\n",
              "      <td>f</td>\n",
              "      <td>INDIVIDUAL</td>\n",
              "      <td>3.0</td>\n",
              "      <td>0.0</td>\n",
              "      <td>1008 Erika Vista Suite 748\\r\\nEast Stephanie, ...</td>\n",
              "    </tr>\n",
              "    <tr>\n",
              "      <th>7</th>\n",
              "      <td>13000.0</td>\n",
              "      <td>36 months</td>\n",
              "      <td>11.14</td>\n",
              "      <td>426.47</td>\n",
              "      <td>B</td>\n",
              "      <td>B2</td>\n",
              "      <td>Office Depot</td>\n",
              "      <td>10+ years</td>\n",
              "      <td>RENT</td>\n",
              "      <td>46000.0</td>\n",
              "      <td>Not Verified</td>\n",
              "      <td>Sep-2012</td>\n",
              "      <td>Fully Paid</td>\n",
              "      <td>credit_card</td>\n",
              "      <td>No More Credit Cards</td>\n",
              "      <td>26.87</td>\n",
              "      <td>Sep-1994</td>\n",
              "      <td>11.0</td>\n",
              "      <td>0.0</td>\n",
              "      <td>13425.0</td>\n",
              "      <td>64.5</td>\n",
              "      <td>15.0</td>\n",
              "      <td>f</td>\n",
              "      <td>INDIVIDUAL</td>\n",
              "      <td>0.0</td>\n",
              "      <td>0.0</td>\n",
              "      <td>USCGC Nunez\\r\\nFPO AE 30723</td>\n",
              "    </tr>\n",
              "    <tr>\n",
              "      <th>8</th>\n",
              "      <td>18900.0</td>\n",
              "      <td>60 months</td>\n",
              "      <td>10.99</td>\n",
              "      <td>410.84</td>\n",
              "      <td>B</td>\n",
              "      <td>B3</td>\n",
              "      <td>Application Architect</td>\n",
              "      <td>10+ years</td>\n",
              "      <td>RENT</td>\n",
              "      <td>103000.0</td>\n",
              "      <td>Verified</td>\n",
              "      <td>Oct-2014</td>\n",
              "      <td>Fully Paid</td>\n",
              "      <td>debt_consolidation</td>\n",
              "      <td>Debt consolidation</td>\n",
              "      <td>12.52</td>\n",
              "      <td>Jun-1994</td>\n",
              "      <td>13.0</td>\n",
              "      <td>0.0</td>\n",
              "      <td>18637.0</td>\n",
              "      <td>32.9</td>\n",
              "      <td>40.0</td>\n",
              "      <td>w</td>\n",
              "      <td>INDIVIDUAL</td>\n",
              "      <td>3.0</td>\n",
              "      <td>0.0</td>\n",
              "      <td>USCGC Tran\\r\\nFPO AP 22690</td>\n",
              "    </tr>\n",
              "    <tr>\n",
              "      <th>9</th>\n",
              "      <td>26300.0</td>\n",
              "      <td>36 months</td>\n",
              "      <td>16.29</td>\n",
              "      <td>928.40</td>\n",
              "      <td>C</td>\n",
              "      <td>C5</td>\n",
              "      <td>Regado Biosciences</td>\n",
              "      <td>3 years</td>\n",
              "      <td>MORTGAGE</td>\n",
              "      <td>115000.0</td>\n",
              "      <td>Verified</td>\n",
              "      <td>Apr-2012</td>\n",
              "      <td>Fully Paid</td>\n",
              "      <td>debt_consolidation</td>\n",
              "      <td>Debt Consolidation</td>\n",
              "      <td>23.69</td>\n",
              "      <td>Dec-1997</td>\n",
              "      <td>13.0</td>\n",
              "      <td>0.0</td>\n",
              "      <td>22171.0</td>\n",
              "      <td>82.4</td>\n",
              "      <td>37.0</td>\n",
              "      <td>f</td>\n",
              "      <td>INDIVIDUAL</td>\n",
              "      <td>1.0</td>\n",
              "      <td>0.0</td>\n",
              "      <td>3390 Luis Rue\\r\\nMauricestad, VA 00813</td>\n",
              "    </tr>\n",
              "    <tr>\n",
              "      <th>10</th>\n",
              "      <td>10000.0</td>\n",
              "      <td>36 months</td>\n",
              "      <td>13.11</td>\n",
              "      <td>337.47</td>\n",
              "      <td>B</td>\n",
              "      <td>B4</td>\n",
              "      <td>Sodexo</td>\n",
              "      <td>2 years</td>\n",
              "      <td>RENT</td>\n",
              "      <td>95000.0</td>\n",
              "      <td>Verified</td>\n",
              "      <td>Jun-2013</td>\n",
              "      <td>Fully Paid</td>\n",
              "      <td>debt_consolidation</td>\n",
              "      <td>Debt Consolidation</td>\n",
              "      <td>12.04</td>\n",
              "      <td>Dec-1990</td>\n",
              "      <td>5.0</td>\n",
              "      <td>1.0</td>\n",
              "      <td>4702.0</td>\n",
              "      <td>64.4</td>\n",
              "      <td>26.0</td>\n",
              "      <td>f</td>\n",
              "      <td>INDIVIDUAL</td>\n",
              "      <td>4.0</td>\n",
              "      <td>1.0</td>\n",
              "      <td>40245 Cody Drives\\r\\nBartlettfort, NM 00813</td>\n",
              "    </tr>\n",
              "    <tr>\n",
              "      <th>11</th>\n",
              "      <td>35000.0</td>\n",
              "      <td>36 months</td>\n",
              "      <td>14.64</td>\n",
              "      <td>1207.13</td>\n",
              "      <td>C</td>\n",
              "      <td>C3</td>\n",
              "      <td>Director Bureau of Equipment Inventory</td>\n",
              "      <td>8 years</td>\n",
              "      <td>MORTGAGE</td>\n",
              "      <td>130000.0</td>\n",
              "      <td>Verified</td>\n",
              "      <td>May-2014</td>\n",
              "      <td>Fully Paid</td>\n",
              "      <td>credit_card</td>\n",
              "      <td>Credit card refinancing</td>\n",
              "      <td>12.19</td>\n",
              "      <td>May-1984</td>\n",
              "      <td>30.0</td>\n",
              "      <td>0.0</td>\n",
              "      <td>81263.0</td>\n",
              "      <td>18.7</td>\n",
              "      <td>61.0</td>\n",
              "      <td>w</td>\n",
              "      <td>INDIVIDUAL</td>\n",
              "      <td>4.0</td>\n",
              "      <td>0.0</td>\n",
              "      <td>3126 Sean Dale Apt. 141\\r\\nSouth Matthew, MS 0...</td>\n",
              "    </tr>\n",
              "    <tr>\n",
              "      <th>12</th>\n",
              "      <td>7500.0</td>\n",
              "      <td>36 months</td>\n",
              "      <td>9.17</td>\n",
              "      <td>239.10</td>\n",
              "      <td>B</td>\n",
              "      <td>B2</td>\n",
              "      <td>Social Work/Care Manager</td>\n",
              "      <td>7 years</td>\n",
              "      <td>OWN</td>\n",
              "      <td>55000.0</td>\n",
              "      <td>Not Verified</td>\n",
              "      <td>Dec-2015</td>\n",
              "      <td>Fully Paid</td>\n",
              "      <td>debt_consolidation</td>\n",
              "      <td>Debt consolidation</td>\n",
              "      <td>28.21</td>\n",
              "      <td>Apr-1995</td>\n",
              "      <td>13.0</td>\n",
              "      <td>0.0</td>\n",
              "      <td>17838.0</td>\n",
              "      <td>54.9</td>\n",
              "      <td>35.0</td>\n",
              "      <td>w</td>\n",
              "      <td>JOINT</td>\n",
              "      <td>4.0</td>\n",
              "      <td>0.0</td>\n",
              "      <td>4173 David Extension\\r\\nWest Beckyfort, MS 70466</td>\n",
              "    </tr>\n",
              "    <tr>\n",
              "      <th>13</th>\n",
              "      <td>35000.0</td>\n",
              "      <td>60 months</td>\n",
              "      <td>12.29</td>\n",
              "      <td>783.70</td>\n",
              "      <td>C</td>\n",
              "      <td>C1</td>\n",
              "      <td>Regional Counsel</td>\n",
              "      <td>10+ years</td>\n",
              "      <td>MORTGAGE</td>\n",
              "      <td>157000.0</td>\n",
              "      <td>Verified</td>\n",
              "      <td>Apr-2015</td>\n",
              "      <td>Fully Paid</td>\n",
              "      <td>debt_consolidation</td>\n",
              "      <td>Debt consolidation</td>\n",
              "      <td>29.39</td>\n",
              "      <td>Jan-1997</td>\n",
              "      <td>17.0</td>\n",
              "      <td>0.0</td>\n",
              "      <td>113091.0</td>\n",
              "      <td>94.9</td>\n",
              "      <td>27.0</td>\n",
              "      <td>w</td>\n",
              "      <td>INDIVIDUAL</td>\n",
              "      <td>2.0</td>\n",
              "      <td>0.0</td>\n",
              "      <td>3343 Wells Mews\\r\\nShellychester, OR 29597</td>\n",
              "    </tr>\n",
              "    <tr>\n",
              "      <th>14</th>\n",
              "      <td>25975.0</td>\n",
              "      <td>36 months</td>\n",
              "      <td>6.62</td>\n",
              "      <td>797.53</td>\n",
              "      <td>A</td>\n",
              "      <td>A2</td>\n",
              "      <td>Pullman Regional Hospital</td>\n",
              "      <td>9 years</td>\n",
              "      <td>MORTGAGE</td>\n",
              "      <td>65000.0</td>\n",
              "      <td>Verified</td>\n",
              "      <td>Oct-2012</td>\n",
              "      <td>Fully Paid</td>\n",
              "      <td>small_business</td>\n",
              "      <td>Business</td>\n",
              "      <td>9.18</td>\n",
              "      <td>May-2001</td>\n",
              "      <td>9.0</td>\n",
              "      <td>0.0</td>\n",
              "      <td>5140.0</td>\n",
              "      <td>7.2</td>\n",
              "      <td>35.0</td>\n",
              "      <td>f</td>\n",
              "      <td>INDIVIDUAL</td>\n",
              "      <td>6.0</td>\n",
              "      <td>0.0</td>\n",
              "      <td>0472 Weber Manors Apt. 660\\r\\nLake Andrew, NH ...</td>\n",
              "    </tr>\n",
              "    <tr>\n",
              "      <th>15</th>\n",
              "      <td>18000.0</td>\n",
              "      <td>36 months</td>\n",
              "      <td>8.39</td>\n",
              "      <td>567.30</td>\n",
              "      <td>A</td>\n",
              "      <td>A5</td>\n",
              "      <td>firefighter</td>\n",
              "      <td>8 years</td>\n",
              "      <td>MORTGAGE</td>\n",
              "      <td>45000.0</td>\n",
              "      <td>Not Verified</td>\n",
              "      <td>Jul-2014</td>\n",
              "      <td>Fully Paid</td>\n",
              "      <td>major_purchase</td>\n",
              "      <td>Major purchase</td>\n",
              "      <td>12.81</td>\n",
              "      <td>Sep-1994</td>\n",
              "      <td>5.0</td>\n",
              "      <td>0.0</td>\n",
              "      <td>551.0</td>\n",
              "      <td>11.7</td>\n",
              "      <td>23.0</td>\n",
              "      <td>w</td>\n",
              "      <td>INDIVIDUAL</td>\n",
              "      <td>4.0</td>\n",
              "      <td>0.0</td>\n",
              "      <td>11629 Sean Hills Suite 614\\r\\nStevenfort, HI 3...</td>\n",
              "    </tr>\n",
              "    <tr>\n",
              "      <th>16</th>\n",
              "      <td>32350.0</td>\n",
              "      <td>60 months</td>\n",
              "      <td>21.98</td>\n",
              "      <td>893.11</td>\n",
              "      <td>E</td>\n",
              "      <td>E4</td>\n",
              "      <td>Comcast Corporate office</td>\n",
              "      <td>10+ years</td>\n",
              "      <td>MORTGAGE</td>\n",
              "      <td>72000.0</td>\n",
              "      <td>Verified</td>\n",
              "      <td>Feb-2013</td>\n",
              "      <td>Fully Paid</td>\n",
              "      <td>debt_consolidation</td>\n",
              "      <td>Debt consolidation</td>\n",
              "      <td>18.08</td>\n",
              "      <td>Mar-1982</td>\n",
              "      <td>16.0</td>\n",
              "      <td>0.0</td>\n",
              "      <td>23603.0</td>\n",
              "      <td>78.4</td>\n",
              "      <td>22.0</td>\n",
              "      <td>f</td>\n",
              "      <td>INDIVIDUAL</td>\n",
              "      <td>1.0</td>\n",
              "      <td>0.0</td>\n",
              "      <td>407 Briggs Lodge Suite 778\\r\\nWest Aprilboroug...</td>\n",
              "    </tr>\n",
              "    <tr>\n",
              "      <th>17</th>\n",
              "      <td>11200.0</td>\n",
              "      <td>60 months</td>\n",
              "      <td>12.29</td>\n",
              "      <td>250.79</td>\n",
              "      <td>C</td>\n",
              "      <td>C1</td>\n",
              "      <td>principal</td>\n",
              "      <td>10+ years</td>\n",
              "      <td>MORTGAGE</td>\n",
              "      <td>81000.0</td>\n",
              "      <td>Not Verified</td>\n",
              "      <td>Oct-2015</td>\n",
              "      <td>Fully Paid</td>\n",
              "      <td>debt_consolidation</td>\n",
              "      <td>Debt consolidation</td>\n",
              "      <td>12.87</td>\n",
              "      <td>Sep-1996</td>\n",
              "      <td>6.0</td>\n",
              "      <td>1.0</td>\n",
              "      <td>5874.0</td>\n",
              "      <td>54.9</td>\n",
              "      <td>20.0</td>\n",
              "      <td>w</td>\n",
              "      <td>INDIVIDUAL</td>\n",
              "      <td>5.0</td>\n",
              "      <td>1.0</td>\n",
              "      <td>487 Jennifer Parkway Suite 940\\r\\nCummingsshir...</td>\n",
              "    </tr>\n",
              "    <tr>\n",
              "      <th>18</th>\n",
              "      <td>34000.0</td>\n",
              "      <td>36 months</td>\n",
              "      <td>7.90</td>\n",
              "      <td>1063.87</td>\n",
              "      <td>A</td>\n",
              "      <td>A4</td>\n",
              "      <td>Pilot</td>\n",
              "      <td>10+ years</td>\n",
              "      <td>RENT</td>\n",
              "      <td>130580.0</td>\n",
              "      <td>Verified</td>\n",
              "      <td>Jan-2014</td>\n",
              "      <td>Fully Paid</td>\n",
              "      <td>debt_consolidation</td>\n",
              "      <td>Debt consolidation</td>\n",
              "      <td>25.40</td>\n",
              "      <td>Jan-1990</td>\n",
              "      <td>16.0</td>\n",
              "      <td>0.0</td>\n",
              "      <td>8767.0</td>\n",
              "      <td>11.9</td>\n",
              "      <td>36.0</td>\n",
              "      <td>f</td>\n",
              "      <td>INDIVIDUAL</td>\n",
              "      <td>3.0</td>\n",
              "      <td>0.0</td>\n",
              "      <td>254 Mary Ferry\\r\\nPort Kirstenborough, CO 70466</td>\n",
              "    </tr>\n",
              "    <tr>\n",
              "      <th>19</th>\n",
              "      <td>20000.0</td>\n",
              "      <td>36 months</td>\n",
              "      <td>6.97</td>\n",
              "      <td>617.27</td>\n",
              "      <td>A</td>\n",
              "      <td>A3</td>\n",
              "      <td>Registered Nurse</td>\n",
              "      <td>7 years</td>\n",
              "      <td>MORTGAGE</td>\n",
              "      <td>85000.0</td>\n",
              "      <td>Not Verified</td>\n",
              "      <td>Mar-2016</td>\n",
              "      <td>Fully Paid</td>\n",
              "      <td>debt_consolidation</td>\n",
              "      <td>Debt consolidation</td>\n",
              "      <td>18.80</td>\n",
              "      <td>Mar-2000</td>\n",
              "      <td>15.0</td>\n",
              "      <td>0.0</td>\n",
              "      <td>24195.0</td>\n",
              "      <td>55.7</td>\n",
              "      <td>38.0</td>\n",
              "      <td>w</td>\n",
              "      <td>INDIVIDUAL</td>\n",
              "      <td>1.0</td>\n",
              "      <td>0.0</td>\n",
              "      <td>Unit 8386 Box 5821\\r\\nDPO AE 05113</td>\n",
              "    </tr>\n",
              "  </tbody>\n",
              "</table>\n",
              "</div>"
            ],
            "text/plain": [
              "    loan_amnt  ...                                            address\n",
              "0     10000.0  ...     0174 Michelle Gateway\\r\\nMendozaberg, OK 22690\n",
              "1      8000.0  ...  1076 Carney Fort Apt. 347\\r\\nLoganmouth, SD 05113\n",
              "2     15600.0  ...  87025 Mark Dale Apt. 269\\r\\nNew Sabrina, WV 05113\n",
              "3      7200.0  ...            823 Reid Ford\\r\\nDelacruzside, MA 00813\n",
              "4     24375.0  ...             679 Luna Roads\\r\\nGreggshire, VA 11650\n",
              "5     20000.0  ...  1726 Cooper Passage Suite 129\\r\\nNorth Deniseb...\n",
              "6     18000.0  ...  1008 Erika Vista Suite 748\\r\\nEast Stephanie, ...\n",
              "7     13000.0  ...                        USCGC Nunez\\r\\nFPO AE 30723\n",
              "8     18900.0  ...                         USCGC Tran\\r\\nFPO AP 22690\n",
              "9     26300.0  ...             3390 Luis Rue\\r\\nMauricestad, VA 00813\n",
              "10    10000.0  ...        40245 Cody Drives\\r\\nBartlettfort, NM 00813\n",
              "11    35000.0  ...  3126 Sean Dale Apt. 141\\r\\nSouth Matthew, MS 0...\n",
              "12     7500.0  ...   4173 David Extension\\r\\nWest Beckyfort, MS 70466\n",
              "13    35000.0  ...         3343 Wells Mews\\r\\nShellychester, OR 29597\n",
              "14    25975.0  ...  0472 Weber Manors Apt. 660\\r\\nLake Andrew, NH ...\n",
              "15    18000.0  ...  11629 Sean Hills Suite 614\\r\\nStevenfort, HI 3...\n",
              "16    32350.0  ...  407 Briggs Lodge Suite 778\\r\\nWest Aprilboroug...\n",
              "17    11200.0  ...  487 Jennifer Parkway Suite 940\\r\\nCummingsshir...\n",
              "18    34000.0  ...    254 Mary Ferry\\r\\nPort Kirstenborough, CO 70466\n",
              "19    20000.0  ...                 Unit 8386 Box 5821\\r\\nDPO AE 05113\n",
              "\n",
              "[20 rows x 27 columns]"
            ]
          },
          "metadata": {
            "tags": []
          },
          "execution_count": 10
        }
      ]
    },
    {
      "cell_type": "code",
      "metadata": {
        "colab": {
          "base_uri": "https://localhost:8080/"
        },
        "id": "4jVM6oRwGqnQ",
        "outputId": "6285a174-7718-4af6-c90c-e0a5eb4cc971"
      },
      "source": [
        "df.info()"
      ],
      "execution_count": 11,
      "outputs": [
        {
          "output_type": "stream",
          "text": [
            "<class 'pandas.core.frame.DataFrame'>\n",
            "RangeIndex: 396030 entries, 0 to 396029\n",
            "Data columns (total 27 columns):\n",
            " #   Column                Non-Null Count   Dtype  \n",
            "---  ------                --------------   -----  \n",
            " 0   loan_amnt             396030 non-null  float64\n",
            " 1   term                  396030 non-null  object \n",
            " 2   int_rate              396030 non-null  float64\n",
            " 3   installment           396030 non-null  float64\n",
            " 4   grade                 396030 non-null  object \n",
            " 5   sub_grade             396030 non-null  object \n",
            " 6   emp_title             373103 non-null  object \n",
            " 7   emp_length            377729 non-null  object \n",
            " 8   home_ownership        396030 non-null  object \n",
            " 9   annual_inc            396030 non-null  float64\n",
            " 10  verification_status   396030 non-null  object \n",
            " 11  issue_d               396030 non-null  object \n",
            " 12  loan_status           396030 non-null  object \n",
            " 13  purpose               396030 non-null  object \n",
            " 14  title                 394275 non-null  object \n",
            " 15  dti                   396030 non-null  float64\n",
            " 16  earliest_cr_line      396030 non-null  object \n",
            " 17  open_acc              396030 non-null  float64\n",
            " 18  pub_rec               396030 non-null  float64\n",
            " 19  revol_bal             396030 non-null  float64\n",
            " 20  revol_util            395754 non-null  float64\n",
            " 21  total_acc             396030 non-null  float64\n",
            " 22  initial_list_status   396030 non-null  object \n",
            " 23  application_type      396030 non-null  object \n",
            " 24  mort_acc              358235 non-null  float64\n",
            " 25  pub_rec_bankruptcies  395495 non-null  float64\n",
            " 26  address               396030 non-null  object \n",
            "dtypes: float64(12), object(15)\n",
            "memory usage: 81.6+ MB\n"
          ],
          "name": "stdout"
        }
      ]
    },
    {
      "cell_type": "markdown",
      "metadata": {
        "id": "X_QwdbT_GqnQ"
      },
      "source": [
        "# Project Tasks\n",
        "\n",
        "**Complete the tasks below! Keep in mind is usually more than one way to complete the task! Enjoy**\n",
        "\n",
        "-----\n",
        "------\n",
        "\n",
        "# Section 1: Exploratory Data Analysis\n",
        "\n",
        "**OVERALL GOAL: Get an understanding for which variables are important, view summary statistics, and visualize the data**\n",
        "\n",
        "\n",
        "----"
      ]
    },
    {
      "cell_type": "markdown",
      "metadata": {
        "id": "XtjHL-f5GqnR"
      },
      "source": [
        "**TASK: Since we will be attempting to predict loan_status, create a countplot as shown below.**"
      ]
    },
    {
      "cell_type": "code",
      "metadata": {
        "colab": {
          "base_uri": "https://localhost:8080/",
          "height": 297
        },
        "id": "CZSVR36kGqnR",
        "outputId": "389f8423-f124-4893-dce2-34d7eaa122d1"
      },
      "source": [
        "sns.countplot(x=df['loan_status'])"
      ],
      "execution_count": 12,
      "outputs": [
        {
          "output_type": "execute_result",
          "data": {
            "text/plain": [
              "<matplotlib.axes._subplots.AxesSubplot at 0x7f6bab9496d0>"
            ]
          },
          "metadata": {
            "tags": []
          },
          "execution_count": 12
        },
        {
          "output_type": "display_data",
          "data": {
            "image/png": "[encoded data removed]",
            "text/plain": [
              "<Figure size 432x288 with 1 Axes>"
            ]
          },
          "metadata": {
            "tags": [],
            "needs_background": "light"
          }
        }
      ]
    },
    {
      "cell_type": "markdown",
      "metadata": {
        "id": "ulaHdIYYGqnR"
      },
      "source": [
        "**TASK: Create a histogram of the loan_amnt column.**"
      ]
    },
    {
      "cell_type": "code",
      "metadata": {
        "id": "5TIcZ0FGGqnS",
        "colab": {
          "base_uri": "https://localhost:8080/",
          "height": 350
        },
        "outputId": "906f603d-e384-45aa-d34f-a81658079deb"
      },
      "source": [
        "# CODE HERE\n",
        "plt.figure(figsize=(12,4))\n",
        "sns.distplot(df['loan_amnt'],kde=False,bins=45)#kde to avoid line over the plots"
      ],
      "execution_count": 13,
      "outputs": [
        {
          "output_type": "stream",
          "text": [
            "/usr/local/lib/python3.7/dist-packages/seaborn/distributions.py:2557: FutureWarning: `distplot` is a deprecated function and will be removed in a future version. Please adapt your code to use either `displot` (a figure-level function with similar flexibility) or `histplot` (an axes-level function for histograms).\n",
            "  warnings.warn(msg, FutureWarning)\n"
          ],
          "name": "stderr"
        },
        {
          "output_type": "execute_result",
          "data": {
            "text/plain": [
              "<matplotlib.axes._subplots.AxesSubplot at 0x7f6ba745acd0>"
            ]
          },
          "metadata": {
            "tags": []
          },
          "execution_count": 13
        },
        {
          "output_type": "display_data",
          "data": {
            "image/png": "[encoded data removed]",
            "text/plain": [
              "<Figure size 864x288 with 1 Axes>"
            ]
          },
          "metadata": {
            "tags": [],
            "needs_background": "light"
          }
        }
      ]
    },
    {
      "cell_type": "markdown",
      "metadata": {
        "id": "qkJqkiEUGqnS"
      },
      "source": [
        "**TASK: Let's explore correlation between the continuous feature variables. Calculate the correlation between all continuous numeric variables using .corr() method.**"
      ]
    },
    {
      "cell_type": "code",
      "metadata": {
        "id": "-DT9OUyIGqnS",
        "colab": {
          "base_uri": "https://localhost:8080/",
          "height": 402
        },
        "outputId": "a9fe7786-b2b9-4cfc-aa2e-9969b03784f3"
      },
      "source": [
        "# CODE HERE\n",
        "df.corr()"
      ],
      "execution_count": 14,
      "outputs": [
        {
          "output_type": "execute_result",
          "data": {
            "text/html": [
              "<div>\n",
              "<style scoped>\n",
              "    .dataframe tbody tr th:only-of-type {\n",
              "        vertical-align: middle;\n",
              "    }\n",
              "\n",
              "    .dataframe tbody tr th {\n",
              "        vertical-align: top;\n",
              "    }\n",
              "\n",
              "    .dataframe thead th {\n",
              "        text-align: right;\n",
              "    }\n",
              "</style>\n",
              "<table border=\"1\" class=\"dataframe\">\n",
              "  <thead>\n",
              "    <tr style=\"text-align: right;\">\n",
              "      <th></th>\n",
              "      <th>loan_amnt</th>\n",
              "      <th>int_rate</th>\n",
              "      <th>installment</th>\n",
              "      <th>annual_inc</th>\n",
              "      <th>dti</th>\n",
              "      <th>open_acc</th>\n",
              "      <th>pub_rec</th>\n",
              "      <th>revol_bal</th>\n",
              "      <th>revol_util</th>\n",
              "      <th>total_acc</th>\n",
              "      <th>mort_acc</th>\n",
              "      <th>pub_rec_bankruptcies</th>\n",
              "    </tr>\n",
              "  </thead>\n",
              "  <tbody>\n",
              "    <tr>\n",
              "      <th>loan_amnt</th>\n",
              "      <td>1.000000</td>\n",
              "      <td>0.168921</td>\n",
              "      <td>0.953929</td>\n",
              "      <td>0.336887</td>\n",
              "      <td>0.016636</td>\n",
              "      <td>0.198556</td>\n",
              "      <td>-0.077779</td>\n",
              "      <td>0.328320</td>\n",
              "      <td>0.099911</td>\n",
              "      <td>0.223886</td>\n",
              "      <td>0.222315</td>\n",
              "      <td>-0.106539</td>\n",
              "    </tr>\n",
              "    <tr>\n",
              "      <th>int_rate</th>\n",
              "      <td>0.168921</td>\n",
              "      <td>1.000000</td>\n",
              "      <td>0.162758</td>\n",
              "      <td>-0.056771</td>\n",
              "      <td>0.079038</td>\n",
              "      <td>0.011649</td>\n",
              "      <td>0.060986</td>\n",
              "      <td>-0.011280</td>\n",
              "      <td>0.293659</td>\n",
              "      <td>-0.036404</td>\n",
              "      <td>-0.082583</td>\n",
              "      <td>0.057450</td>\n",
              "    </tr>\n",
              "    <tr>\n",
              "      <th>installment</th>\n",
              "      <td>0.953929</td>\n",
              "      <td>0.162758</td>\n",
              "      <td>1.000000</td>\n",
              "      <td>0.330381</td>\n",
              "      <td>0.015786</td>\n",
              "      <td>0.188973</td>\n",
              "      <td>-0.067892</td>\n",
              "      <td>0.316455</td>\n",
              "      <td>0.123915</td>\n",
              "      <td>0.202430</td>\n",
              "      <td>0.193694</td>\n",
              "      <td>-0.098628</td>\n",
              "    </tr>\n",
              "    <tr>\n",
              "      <th>annual_inc</th>\n",
              "      <td>0.336887</td>\n",
              "      <td>-0.056771</td>\n",
              "      <td>0.330381</td>\n",
              "      <td>1.000000</td>\n",
              "      <td>-0.081685</td>\n",
              "      <td>0.136150</td>\n",
              "      <td>-0.013720</td>\n",
              "      <td>0.299773</td>\n",
              "      <td>0.027871</td>\n",
              "      <td>0.193023</td>\n",
              "      <td>0.236320</td>\n",
              "      <td>-0.050162</td>\n",
              "    </tr>\n",
              "    <tr>\n",
              "      <th>dti</th>\n",
              "      <td>0.016636</td>\n",
              "      <td>0.079038</td>\n",
              "      <td>0.015786</td>\n",
              "      <td>-0.081685</td>\n",
              "      <td>1.000000</td>\n",
              "      <td>0.136181</td>\n",
              "      <td>-0.017639</td>\n",
              "      <td>0.063571</td>\n",
              "      <td>0.088375</td>\n",
              "      <td>0.102128</td>\n",
              "      <td>-0.025439</td>\n",
              "      <td>-0.014558</td>\n",
              "    </tr>\n",
              "    <tr>\n",
              "      <th>open_acc</th>\n",
              "      <td>0.198556</td>\n",
              "      <td>0.011649</td>\n",
              "      <td>0.188973</td>\n",
              "      <td>0.136150</td>\n",
              "      <td>0.136181</td>\n",
              "      <td>1.000000</td>\n",
              "      <td>-0.018392</td>\n",
              "      <td>0.221192</td>\n",
              "      <td>-0.131420</td>\n",
              "      <td>0.680728</td>\n",
              "      <td>0.109205</td>\n",
              "      <td>-0.027732</td>\n",
              "    </tr>\n",
              "    <tr>\n",
              "      <th>pub_rec</th>\n",
              "      <td>-0.077779</td>\n",
              "      <td>0.060986</td>\n",
              "      <td>-0.067892</td>\n",
              "      <td>-0.013720</td>\n",
              "      <td>-0.017639</td>\n",
              "      <td>-0.018392</td>\n",
              "      <td>1.000000</td>\n",
              "      <td>-0.101664</td>\n",
              "      <td>-0.075910</td>\n",
              "      <td>0.019723</td>\n",
              "      <td>0.011552</td>\n",
              "      <td>0.699408</td>\n",
              "    </tr>\n",
              "    <tr>\n",
              "      <th>revol_bal</th>\n",
              "      <td>0.328320</td>\n",
              "      <td>-0.011280</td>\n",
              "      <td>0.316455</td>\n",
              "      <td>0.299773</td>\n",
              "      <td>0.063571</td>\n",
              "      <td>0.221192</td>\n",
              "      <td>-0.101664</td>\n",
              "      <td>1.000000</td>\n",
              "      <td>0.226346</td>\n",
              "      <td>0.191616</td>\n",
              "      <td>0.194925</td>\n",
              "      <td>-0.124532</td>\n",
              "    </tr>\n",
              "    <tr>\n",
              "      <th>revol_util</th>\n",
              "      <td>0.099911</td>\n",
              "      <td>0.293659</td>\n",
              "      <td>0.123915</td>\n",
              "      <td>0.027871</td>\n",
              "      <td>0.088375</td>\n",
              "      <td>-0.131420</td>\n",
              "      <td>-0.075910</td>\n",
              "      <td>0.226346</td>\n",
              "      <td>1.000000</td>\n",
              "      <td>-0.104273</td>\n",
              "      <td>0.007514</td>\n",
              "      <td>-0.086751</td>\n",
              "    </tr>\n",
              "    <tr>\n",
              "      <th>total_acc</th>\n",
              "      <td>0.223886</td>\n",
              "      <td>-0.036404</td>\n",
              "      <td>0.202430</td>\n",
              "      <td>0.193023</td>\n",
              "      <td>0.102128</td>\n",
              "      <td>0.680728</td>\n",
              "      <td>0.019723</td>\n",
              "      <td>0.191616</td>\n",
              "      <td>-0.104273</td>\n",
              "      <td>1.000000</td>\n",
              "      <td>0.381072</td>\n",
              "      <td>0.042035</td>\n",
              "    </tr>\n",
              "    <tr>\n",
              "      <th>mort_acc</th>\n",
              "      <td>0.222315</td>\n",
              "      <td>-0.082583</td>\n",
              "      <td>0.193694</td>\n",
              "      <td>0.236320</td>\n",
              "      <td>-0.025439</td>\n",
              "      <td>0.109205</td>\n",
              "      <td>0.011552</td>\n",
              "      <td>0.194925</td>\n",
              "      <td>0.007514</td>\n",
              "      <td>0.381072</td>\n",
              "      <td>1.000000</td>\n",
              "      <td>0.027239</td>\n",
              "    </tr>\n",
              "    <tr>\n",
              "      <th>pub_rec_bankruptcies</th>\n",
              "      <td>-0.106539</td>\n",
              "      <td>0.057450</td>\n",
              "      <td>-0.098628</td>\n",
              "      <td>-0.050162</td>\n",
              "      <td>-0.014558</td>\n",
              "      <td>-0.027732</td>\n",
              "      <td>0.699408</td>\n",
              "      <td>-0.124532</td>\n",
              "      <td>-0.086751</td>\n",
              "      <td>0.042035</td>\n",
              "      <td>0.027239</td>\n",
              "      <td>1.000000</td>\n",
              "    </tr>\n",
              "  </tbody>\n",
              "</table>\n",
              "</div>"
            ],
            "text/plain": [
              "                      loan_amnt  int_rate  ...  mort_acc  pub_rec_bankruptcies\n",
              "loan_amnt              1.000000  0.168921  ...  0.222315             -0.106539\n",
              "int_rate               0.168921  1.000000  ... -0.082583              0.057450\n",
              "installment            0.953929  0.162758  ...  0.193694             -0.098628\n",
              "annual_inc             0.336887 -0.056771  ...  0.236320             -0.050162\n",
              "dti                    0.016636  0.079038  ... -0.025439             -0.014558\n",
              "open_acc               0.198556  0.011649  ...  0.109205             -0.027732\n",
              "pub_rec               -0.077779  0.060986  ...  0.011552              0.699408\n",
              "revol_bal              0.328320 -0.011280  ...  0.194925             -0.124532\n",
              "revol_util             0.099911  0.293659  ...  0.007514             -0.086751\n",
              "total_acc              0.223886 -0.036404  ...  0.381072              0.042035\n",
              "mort_acc               0.222315 -0.082583  ...  1.000000              0.027239\n",
              "pub_rec_bankruptcies  -0.106539  0.057450  ...  0.027239              1.000000\n",
              "\n",
              "[12 rows x 12 columns]"
            ]
          },
          "metadata": {
            "tags": []
          },
          "execution_count": 14
        }
      ]
    },
    {
      "cell_type": "markdown",
      "metadata": {
        "id": "mSyK5CihGqnT"
      },
      "source": [
        "**TASK: Visualize this using a heatmap. Depending on your version of matplotlib, you may need to manually adjust the heatmap.**\n",
        "\n",
        "* [Heatmap info](https://seaborn.pydata.org/generated/seaborn.heatmap.html#seaborn.heatmap)\n",
        "* [Help with resizing](https://stackoverflow.com/questions/56942670/matplotlib-seaborn-first-and-last-row-cut-in-half-of-heatmap-plot)"
      ]
    },
    {
      "cell_type": "code",
      "metadata": {
        "id": "kK5G-1QiGqnT",
        "colab": {
          "base_uri": "https://localhost:8080/",
          "height": 450
        },
        "outputId": "bd17281f-01fe-4837-aac4-f06f5b11dbb0"
      },
      "source": [
        "# CODE HERE\n",
        "plt.figure(figsize=(22,7))\n",
        "sns.heatmap(df.corr(),cmap='viridis',linewidths=0.15, linecolor='black',annot=True)"
      ],
      "execution_count": 15,
      "outputs": [
        {
          "output_type": "execute_result",
          "data": {
            "text/plain": [
              "<matplotlib.axes._subplots.AxesSubplot at 0x7f6ba6f0a910>"
            ]
          },
          "metadata": {
            "tags": []
          },
          "execution_count": 15
        },
        {
          "output_type": "display_data",
          "data": {
            "image/png": "[encoded data removed]",
            "text/plain": [
              "<Figure size 1584x504 with 2 Axes>"
            ]
          },
          "metadata": {
            "tags": [],
            "needs_background": "light"
          }
        }
      ]
    },
    {
      "cell_type": "markdown",
      "metadata": {
        "id": "xHcZBqE5GqnT"
      },
      "source": [
        "**TASK: You should have noticed almost perfect correlation with the \"installment\" feature. Explore this feature further. Print out their descriptions and perform a scatterplot between them. Does this relationship make sense to you? Do you think there is duplicate information here?**"
      ]
    },
    {
      "cell_type": "code",
      "metadata": {
        "id": "XbZsNfqwGqnU",
        "colab": {
          "base_uri": "https://localhost:8080/",
          "height": 35
        },
        "outputId": "232d392f-46a3-4bf4-9872-dbdaf9d92ef5"
      },
      "source": [
        "data_info.loc['installment']['Description']"
      ],
      "execution_count": 16,
      "outputs": [
        {
          "output_type": "execute_result",
          "data": {
            "application/vnd.google.colaboratory.intrinsic+json": {
              "type": "string"
            },
            "text/plain": [
              "'The monthly payment owed by the borrower if the loan originates.'"
            ]
          },
          "metadata": {
            "tags": []
          },
          "execution_count": 16
        }
      ]
    },
    {
      "cell_type": "code",
      "metadata": {
        "id": "4NVKmGgwGqnU",
        "colab": {
          "base_uri": "https://localhost:8080/",
          "height": 35
        },
        "outputId": "2d9e3fbf-b4cd-45df-8a2c-626f9619990c"
      },
      "source": [
        "data_info.loc['loan_amnt']['Description']"
      ],
      "execution_count": 17,
      "outputs": [
        {
          "output_type": "execute_result",
          "data": {
            "application/vnd.google.colaboratory.intrinsic+json": {
              "type": "string"
            },
            "text/plain": [
              "'The listed amount of the loan applied for by the borrower. If at some point in time, the credit department reduces the loan amount, then it will be reflected in this value.'"
            ]
          },
          "metadata": {
            "tags": []
          },
          "execution_count": 17
        }
      ]
    },
    {
      "cell_type": "code",
      "metadata": {
        "id": "ittMvpSeGqnU",
        "colab": {
          "base_uri": "https://localhost:8080/",
          "height": 514
        },
        "outputId": "eb409290-9f75-467e-d356-97f67417c0a8"
      },
      "source": [
        "plt.figure(figsize=(12,8))\n",
        "sns.scatterplot(x=df['installment'],y=df['loan_amnt'])"
      ],
      "execution_count": 18,
      "outputs": [
        {
          "output_type": "execute_result",
          "data": {
            "text/plain": [
              "<matplotlib.axes._subplots.AxesSubplot at 0x7f6b9ecd2f10>"
            ]
          },
          "metadata": {
            "tags": []
          },
          "execution_count": 18
        },
        {
          "output_type": "display_data",
          "data": {
            "image/png": "[encoded data removed]",
            "text/plain": [
              "<Figure size 864x576 with 1 Axes>"
            ]
          },
          "metadata": {
            "tags": [],
            "needs_background": "light"
          }
        }
      ]
    },
    {
      "cell_type": "markdown",
      "metadata": {
        "id": "yAzkwA4fGqnU"
      },
      "source": [
        "**TASK: Create a boxplot showing the relationship between the loan_status and the Loan Amount.**"
      ]
    },
    {
      "cell_type": "code",
      "metadata": {
        "id": "RafdjfshGqnV",
        "colab": {
          "base_uri": "https://localhost:8080/",
          "height": 515
        },
        "outputId": "68335b7a-4e8b-4e77-ce21-f1f572f9d84f"
      },
      "source": [
        "# CODE HERE\n",
        "plt.figure(figsize=(10,8))\n",
        "sns.boxenplot(x=df['loan_status'],y=df['loan_amnt'])"
      ],
      "execution_count": 19,
      "outputs": [
        {
          "output_type": "execute_result",
          "data": {
            "text/plain": [
              "<matplotlib.axes._subplots.AxesSubplot at 0x7f6b9ec56c90>"
            ]
          },
          "metadata": {
            "tags": []
          },
          "execution_count": 19
        },
        {
          "output_type": "display_data",
          "data": {
            "image/png": "[encoded data removed]",
            "text/plain": [
              "<Figure size 720x576 with 1 Axes>"
            ]
          },
          "metadata": {
            "tags": [],
            "needs_background": "light"
          }
        }
      ]
    },
    {
      "cell_type": "markdown",
      "metadata": {
        "id": "beqmfUqCGqnV"
      },
      "source": [
        "**TASK: Calculate the summary statistics for the loan amount, grouped by the loan_status.**"
      ]
    },
    {
      "cell_type": "code",
      "metadata": {
        "id": "QDDZpc5VGqnV",
        "colab": {
          "base_uri": "https://localhost:8080/",
          "height": 136
        },
        "outputId": "3263c959-6d98-4c4a-9fe3-f84e006c2e33"
      },
      "source": [
        "# CODE HERE\n",
        "df.groupby('loan_status')['loan_amnt'].describe()"
      ],
      "execution_count": 20,
      "outputs": [
        {
          "output_type": "execute_result",
          "data": {
            "text/html": [
              "<div>\n",
              "<style scoped>\n",
              "    .dataframe tbody tr th:only-of-type {\n",
              "        vertical-align: middle;\n",
              "    }\n",
              "\n",
              "    .dataframe tbody tr th {\n",
              "        vertical-align: top;\n",
              "    }\n",
              "\n",
              "    .dataframe thead th {\n",
              "        text-align: right;\n",
              "    }\n",
              "</style>\n",
              "<table border=\"1\" class=\"dataframe\">\n",
              "  <thead>\n",
              "    <tr style=\"text-align: right;\">\n",
              "      <th></th>\n",
              "      <th>count</th>\n",
              "      <th>mean</th>\n",
              "      <th>std</th>\n",
              "      <th>min</th>\n",
              "      <th>25%</th>\n",
              "      <th>50%</th>\n",
              "      <th>75%</th>\n",
              "      <th>max</th>\n",
              "    </tr>\n",
              "    <tr>\n",
              "      <th>loan_status</th>\n",
              "      <th></th>\n",
              "      <th></th>\n",
              "      <th></th>\n",
              "      <th></th>\n",
              "      <th></th>\n",
              "      <th></th>\n",
              "      <th></th>\n",
              "      <th></th>\n",
              "    </tr>\n",
              "  </thead>\n",
              "  <tbody>\n",
              "    <tr>\n",
              "      <th>Charged Off</th>\n",
              "      <td>77673.0</td>\n",
              "      <td>15126.300967</td>\n",
              "      <td>8505.090557</td>\n",
              "      <td>1000.0</td>\n",
              "      <td>8525.0</td>\n",
              "      <td>14000.0</td>\n",
              "      <td>20000.0</td>\n",
              "      <td>40000.0</td>\n",
              "    </tr>\n",
              "    <tr>\n",
              "      <th>Fully Paid</th>\n",
              "      <td>318357.0</td>\n",
              "      <td>13866.878771</td>\n",
              "      <td>8302.319699</td>\n",
              "      <td>500.0</td>\n",
              "      <td>7500.0</td>\n",
              "      <td>12000.0</td>\n",
              "      <td>19225.0</td>\n",
              "      <td>40000.0</td>\n",
              "    </tr>\n",
              "  </tbody>\n",
              "</table>\n",
              "</div>"
            ],
            "text/plain": [
              "                count          mean          std  ...      50%      75%      max\n",
              "loan_status                                       ...                           \n",
              "Charged Off   77673.0  15126.300967  8505.090557  ...  14000.0  20000.0  40000.0\n",
              "Fully Paid   318357.0  13866.878771  8302.319699  ...  12000.0  19225.0  40000.0\n",
              "\n",
              "[2 rows x 8 columns]"
            ]
          },
          "metadata": {
            "tags": []
          },
          "execution_count": 20
        }
      ]
    },
    {
      "cell_type": "markdown",
      "metadata": {
        "id": "7enJcyNWGqnW"
      },
      "source": [
        "**TASK: Let's explore the Grade and SubGrade columns that LendingClub attributes to the loans. What are the unique possible grades and subgrades?**"
      ]
    },
    {
      "cell_type": "code",
      "metadata": {
        "id": "Ci82mT2zGqnW",
        "colab": {
          "base_uri": "https://localhost:8080/"
        },
        "outputId": "47d9a517-c677-4cab-b185-8bbaee6699f1"
      },
      "source": [
        "# CODE HERE\n",
        "df['grade'].unique()"
      ],
      "execution_count": 21,
      "outputs": [
        {
          "output_type": "execute_result",
          "data": {
            "text/plain": [
              "array(['B', 'A', 'C', 'E', 'D', 'F', 'G'], dtype=object)"
            ]
          },
          "metadata": {
            "tags": []
          },
          "execution_count": 21
        }
      ]
    },
    {
      "cell_type": "code",
      "metadata": {
        "id": "nMumIGUuGqnW",
        "colab": {
          "base_uri": "https://localhost:8080/"
        },
        "outputId": "ab49a334-bd8a-485b-e8c9-0879268debc3"
      },
      "source": [
        "# CODE HERE\n",
        "df['sub_grade'].unique()"
      ],
      "execution_count": 22,
      "outputs": [
        {
          "output_type": "execute_result",
          "data": {
            "text/plain": [
              "array(['B4', 'B5', 'B3', 'A2', 'C5', 'C3', 'A1', 'B2', 'C1', 'A5', 'E4',\n",
              "       'A4', 'A3', 'D1', 'C2', 'B1', 'D3', 'D5', 'D2', 'E1', 'E2', 'E5',\n",
              "       'F4', 'E3', 'D4', 'G1', 'F5', 'G2', 'C4', 'F1', 'F3', 'G5', 'G4',\n",
              "       'F2', 'G3'], dtype=object)"
            ]
          },
          "metadata": {
            "tags": []
          },
          "execution_count": 22
        }
      ]
    },
    {
      "cell_type": "markdown",
      "metadata": {
        "id": "qUIsSWXqGqnW"
      },
      "source": [
        "**TASK: Create a countplot per grade. Set the hue to the loan_status label.**"
      ]
    },
    {
      "cell_type": "code",
      "metadata": {
        "id": "EbY-tPVXGqnX",
        "colab": {
          "base_uri": "https://localhost:8080/",
          "height": 296
        },
        "outputId": "de3a46b6-0287-44eb-a165-3686e8874804"
      },
      "source": [
        "# CODE HERE\n",
        "sns.countplot(x=df['grade'],hue=df['loan_status'])"
      ],
      "execution_count": 23,
      "outputs": [
        {
          "output_type": "execute_result",
          "data": {
            "text/plain": [
              "<matplotlib.axes._subplots.AxesSubplot at 0x7f6b9c0d9e90>"
            ]
          },
          "metadata": {
            "tags": []
          },
          "execution_count": 23
        },
        {
          "output_type": "display_data",
          "data": {
            "image/png": "[encoded data removed]",
            "text/plain": [
              "<Figure size 432x288 with 1 Axes>"
            ]
          },
          "metadata": {
            "tags": [],
            "needs_background": "light"
          }
        }
      ]
    },
    {
      "cell_type": "markdown",
      "metadata": {
        "id": "9BNlPwXBGqnX"
      },
      "source": [
        "**TASK: Display a count plot per subgrade. You may need to resize for this plot and [reorder](https://seaborn.pydata.org/generated/seaborn.countplot.html#seaborn.countplot) the x axis. Feel free to edit the color palette. Explore both all loans made per subgrade as well being separated based on the loan_status. After creating this plot, go ahead and create a similar plot, but set hue=\"loan_status\"**"
      ]
    },
    {
      "cell_type": "code",
      "metadata": {
        "id": "hJl-Ru-2GqnX",
        "colab": {
          "base_uri": "https://localhost:8080/",
          "height": 406
        },
        "outputId": "d342f9ef-b50c-43a0-81e5-5642bc468853"
      },
      "source": [
        "#CODE HERE\n",
        "plt.figure(figsize=(22,6))\n",
        "#Now reorder the axis\n",
        "reorder=sorted(df['sub_grade'].unique())\n",
        "sns.countplot(x=df['sub_grade'],order=reorder)"
      ],
      "execution_count": 24,
      "outputs": [
        {
          "output_type": "execute_result",
          "data": {
            "text/plain": [
              "<matplotlib.axes._subplots.AxesSubplot at 0x7f6b9d3f7b50>"
            ]
          },
          "metadata": {
            "tags": []
          },
          "execution_count": 24
        },
        {
          "output_type": "display_data",
          "data": {
            "image/png": "[encoded data removed]",
            "text/plain": [
              "<Figure size 1584x432 with 1 Axes>"
            ]
          },
          "metadata": {
            "tags": [],
            "needs_background": "light"
          }
        }
      ]
    },
    {
      "cell_type": "code",
      "metadata": {
        "id": "Bk9fNPuUGqnY",
        "colab": {
          "base_uri": "https://localhost:8080/",
          "height": 406
        },
        "outputId": "10788bc5-ee98-463d-ec61-69493b1e45a9"
      },
      "source": [
        "# CODE HERE\n",
        "#CODE HERE\n",
        "plt.figure(figsize=(23,6))\n",
        "#Now reorder the axis\n",
        "reorder=sorted(df['sub_grade'].unique())\n",
        "sns.countplot(x=df['sub_grade'],order=reorder,hue=df['loan_status'],palette='coolwarm')"
      ],
      "execution_count": 25,
      "outputs": [
        {
          "output_type": "execute_result",
          "data": {
            "text/plain": [
              "<matplotlib.axes._subplots.AxesSubplot at 0x7f6b9befa510>"
            ]
          },
          "metadata": {
            "tags": []
          },
          "execution_count": 25
        },
        {
          "output_type": "display_data",
          "data": {
            "image/png": "[encoded data removed]",
            "text/plain": [
              "<Figure size 1656x432 with 1 Axes>"
            ]
          },
          "metadata": {
            "tags": [],
            "needs_background": "light"
          }
        }
      ]
    },
    {
      "cell_type": "markdown",
      "metadata": {
        "id": "9RbNb4ACGqnY"
      },
      "source": [
        "**TASK: It looks like F and G subgrades don't get paid back that often. Isloate those and recreate the countplot just for those subgrades.**"
      ]
    },
    {
      "cell_type": "code",
      "metadata": {
        "id": "AldXA8boGqnY",
        "colab": {
          "base_uri": "https://localhost:8080/",
          "height": 406
        },
        "outputId": "3673a3fc-a23a-4405-d49a-af01e8e12a72"
      },
      "source": [
        "#Just printing for f and g subgrades as they are almost invisible in total mixture\n",
        "df_fg=df[(df['grade']=='F')|(df['grade']=='G')]\n",
        "\n",
        "\n",
        "# CODE HERE\n",
        "plt.figure(figsize=(22,6))\n",
        "#Now reorder the axis\n",
        "reorder=sorted(df_fg['sub_grade'].unique())\n",
        "sns.countplot(x=df_fg['sub_grade'],order=reorder,hue=df_fg['loan_status'],palette='mako')"
      ],
      "execution_count": 26,
      "outputs": [
        {
          "output_type": "execute_result",
          "data": {
            "text/plain": [
              "<matplotlib.axes._subplots.AxesSubplot at 0x7f6b9bf70a50>"
            ]
          },
          "metadata": {
            "tags": []
          },
          "execution_count": 26
        },
        {
          "output_type": "display_data",
          "data": {
            "image/png": "[encoded data removed]",
            "text/plain": [
              "<Figure size 1584x432 with 1 Axes>"
            ]
          },
          "metadata": {
            "tags": [],
            "needs_background": "light"
          }
        }
      ]
    },
    {
      "cell_type": "markdown",
      "metadata": {
        "id": "63ehUiM9GqnZ"
      },
      "source": [
        "**TASK: Create a new column called 'loan_repaid' which will contain a 1 if the loan status was \"Fully Paid\" and a 0 if it was \"Charged Off\".**"
      ]
    },
    {
      "cell_type": "code",
      "metadata": {
        "id": "toMMzNz1GqnZ",
        "colab": {
          "base_uri": "https://localhost:8080/"
        },
        "outputId": "c41010a8-d2e8-43af-800a-149f9cfa9b3e"
      },
      "source": [
        "# CODE HERE\n",
        "df['loan_status'].unique()"
      ],
      "execution_count": 27,
      "outputs": [
        {
          "output_type": "execute_result",
          "data": {
            "text/plain": [
              "array(['Fully Paid', 'Charged Off'], dtype=object)"
            ]
          },
          "metadata": {
            "tags": []
          },
          "execution_count": 27
        }
      ]
    },
    {
      "cell_type": "code",
      "metadata": {
        "id": "zjhzF164GqnZ",
        "colab": {
          "base_uri": "https://localhost:8080/",
          "height": 402
        },
        "outputId": "bf31a787-f906-4fb0-a462-3379505d4612"
      },
      "source": [
        "#Changing the status to numeric and putting it in a new column\n",
        "df['loan_repaid']=df['loan_status'].map({'Fully Paid':1,'Charged Off':0})\n",
        "df[['loan_repaid','loan_status']]"
      ],
      "execution_count": 28,
      "outputs": [
        {
          "output_type": "execute_result",
          "data": {
            "text/html": [
              "<div>\n",
              "<style scoped>\n",
              "    .dataframe tbody tr th:only-of-type {\n",
              "        vertical-align: middle;\n",
              "    }\n",
              "\n",
              "    .dataframe tbody tr th {\n",
              "        vertical-align: top;\n",
              "    }\n",
              "\n",
              "    .dataframe thead th {\n",
              "        text-align: right;\n",
              "    }\n",
              "</style>\n",
              "<table border=\"1\" class=\"dataframe\">\n",
              "  <thead>\n",
              "    <tr style=\"text-align: right;\">\n",
              "      <th></th>\n",
              "      <th>loan_repaid</th>\n",
              "      <th>loan_status</th>\n",
              "    </tr>\n",
              "  </thead>\n",
              "  <tbody>\n",
              "    <tr>\n",
              "      <th>0</th>\n",
              "      <td>1</td>\n",
              "      <td>Fully Paid</td>\n",
              "    </tr>\n",
              "    <tr>\n",
              "      <th>1</th>\n",
              "      <td>1</td>\n",
              "      <td>Fully Paid</td>\n",
              "    </tr>\n",
              "    <tr>\n",
              "      <th>2</th>\n",
              "      <td>1</td>\n",
              "      <td>Fully Paid</td>\n",
              "    </tr>\n",
              "    <tr>\n",
              "      <th>3</th>\n",
              "      <td>1</td>\n",
              "      <td>Fully Paid</td>\n",
              "    </tr>\n",
              "    <tr>\n",
              "      <th>4</th>\n",
              "      <td>0</td>\n",
              "      <td>Charged Off</td>\n",
              "    </tr>\n",
              "    <tr>\n",
              "      <th>...</th>\n",
              "      <td>...</td>\n",
              "      <td>...</td>\n",
              "    </tr>\n",
              "    <tr>\n",
              "      <th>396025</th>\n",
              "      <td>1</td>\n",
              "      <td>Fully Paid</td>\n",
              "    </tr>\n",
              "    <tr>\n",
              "      <th>396026</th>\n",
              "      <td>1</td>\n",
              "      <td>Fully Paid</td>\n",
              "    </tr>\n",
              "    <tr>\n",
              "      <th>396027</th>\n",
              "      <td>1</td>\n",
              "      <td>Fully Paid</td>\n",
              "    </tr>\n",
              "    <tr>\n",
              "      <th>396028</th>\n",
              "      <td>1</td>\n",
              "      <td>Fully Paid</td>\n",
              "    </tr>\n",
              "    <tr>\n",
              "      <th>396029</th>\n",
              "      <td>1</td>\n",
              "      <td>Fully Paid</td>\n",
              "    </tr>\n",
              "  </tbody>\n",
              "</table>\n",
              "<p>396030 rows × 2 columns</p>\n",
              "</div>"
            ],
            "text/plain": [
              "        loan_repaid  loan_status\n",
              "0                 1   Fully Paid\n",
              "1                 1   Fully Paid\n",
              "2                 1   Fully Paid\n",
              "3                 1   Fully Paid\n",
              "4                 0  Charged Off\n",
              "...             ...          ...\n",
              "396025            1   Fully Paid\n",
              "396026            1   Fully Paid\n",
              "396027            1   Fully Paid\n",
              "396028            1   Fully Paid\n",
              "396029            1   Fully Paid\n",
              "\n",
              "[396030 rows x 2 columns]"
            ]
          },
          "metadata": {
            "tags": []
          },
          "execution_count": 28
        }
      ]
    },
    {
      "cell_type": "markdown",
      "metadata": {
        "id": "F9aqPgVKGqnZ"
      },
      "source": [
        "**CHALLENGE TASK: (Note this is hard, but can be done in one line!) Create a bar plot showing the correlation of the numeric features to the new loan_repaid column. [Helpful Link](https://pandas.pydata.org/pandas-docs/stable/reference/api/pandas.DataFrame.plot.bar.html)**"
      ]
    },
    {
      "cell_type": "code",
      "metadata": {
        "id": "YuFX-a6vGqna",
        "colab": {
          "base_uri": "https://localhost:8080/",
          "height": 382
        },
        "outputId": "41ca6827-4bc5-428e-cf3f-feff1138ff11"
      },
      "source": [
        "#CODE HERE\n",
        "df.corr()['loan_repaid'][:-1].sort_values().plot(kind='bar')#For removing last one as it would be always 1"
      ],
      "execution_count": 29,
      "outputs": [
        {
          "output_type": "execute_result",
          "data": {
            "text/plain": [
              "<matplotlib.axes._subplots.AxesSubplot at 0x7f6b9bc72490>"
            ]
          },
          "metadata": {
            "tags": []
          },
          "execution_count": 29
        },
        {
          "output_type": "display_data",
          "data": {
            "image/png": "[encoded data removed]",
            "text/plain": [
              "<Figure size 432x288 with 1 Axes>"
            ]
          },
          "metadata": {
            "tags": [],
            "needs_background": "light"
          }
        }
      ]
    },
    {
      "cell_type": "markdown",
      "metadata": {
        "id": "A0yNJlxmGqna"
      },
      "source": [
        "---\n",
        "---\n",
        "# Section 2: Data PreProcessing\n",
        "\n",
        "**Section Goals: Remove or fill any missing data. Remove unnecessary or repetitive features. Convert categorical string features to dummy variables.**\n",
        "\n"
      ]
    },
    {
      "cell_type": "code",
      "metadata": {
        "id": "Nw-BSmB_Gqna",
        "colab": {
          "base_uri": "https://localhost:8080/",
          "height": 383
        },
        "outputId": "27d93c70-e44b-4785-9a16-ada0bda10585"
      },
      "source": [
        "df.head()"
      ],
      "execution_count": 30,
      "outputs": [
        {
          "output_type": "execute_result",
          "data": {
            "text/html": [
              "<div>\n",
              "<style scoped>\n",
              "    .dataframe tbody tr th:only-of-type {\n",
              "        vertical-align: middle;\n",
              "    }\n",
              "\n",
              "    .dataframe tbody tr th {\n",
              "        vertical-align: top;\n",
              "    }\n",
              "\n",
              "    .dataframe thead th {\n",
              "        text-align: right;\n",
              "    }\n",
              "</style>\n",
              "<table border=\"1\" class=\"dataframe\">\n",
              "  <thead>\n",
              "    <tr style=\"text-align: right;\">\n",
              "      <th></th>\n",
              "      <th>loan_amnt</th>\n",
              "      <th>term</th>\n",
              "      <th>int_rate</th>\n",
              "      <th>installment</th>\n",
              "      <th>grade</th>\n",
              "      <th>sub_grade</th>\n",
              "      <th>emp_title</th>\n",
              "      <th>emp_length</th>\n",
              "      <th>home_ownership</th>\n",
              "      <th>annual_inc</th>\n",
              "      <th>verification_status</th>\n",
              "      <th>issue_d</th>\n",
              "      <th>loan_status</th>\n",
              "      <th>purpose</th>\n",
              "      <th>title</th>\n",
              "      <th>dti</th>\n",
              "      <th>earliest_cr_line</th>\n",
              "      <th>open_acc</th>\n",
              "      <th>pub_rec</th>\n",
              "      <th>revol_bal</th>\n",
              "      <th>revol_util</th>\n",
              "      <th>total_acc</th>\n",
              "      <th>initial_list_status</th>\n",
              "      <th>application_type</th>\n",
              "      <th>mort_acc</th>\n",
              "      <th>pub_rec_bankruptcies</th>\n",
              "      <th>address</th>\n",
              "      <th>loan_repaid</th>\n",
              "    </tr>\n",
              "  </thead>\n",
              "  <tbody>\n",
              "    <tr>\n",
              "      <th>0</th>\n",
              "      <td>10000.0</td>\n",
              "      <td>36 months</td>\n",
              "      <td>11.44</td>\n",
              "      <td>329.48</td>\n",
              "      <td>B</td>\n",
              "      <td>B4</td>\n",
              "      <td>Marketing</td>\n",
              "      <td>10+ years</td>\n",
              "      <td>RENT</td>\n",
              "      <td>117000.0</td>\n",
              "      <td>Not Verified</td>\n",
              "      <td>Jan-2015</td>\n",
              "      <td>Fully Paid</td>\n",
              "      <td>vacation</td>\n",
              "      <td>Vacation</td>\n",
              "      <td>26.24</td>\n",
              "      <td>Jun-1990</td>\n",
              "      <td>16.0</td>\n",
              "      <td>0.0</td>\n",
              "      <td>36369.0</td>\n",
              "      <td>41.8</td>\n",
              "      <td>25.0</td>\n",
              "      <td>w</td>\n",
              "      <td>INDIVIDUAL</td>\n",
              "      <td>0.0</td>\n",
              "      <td>0.0</td>\n",
              "      <td>0174 Michelle Gateway\\r\\nMendozaberg, OK 22690</td>\n",
              "      <td>1</td>\n",
              "    </tr>\n",
              "    <tr>\n",
              "      <th>1</th>\n",
              "      <td>8000.0</td>\n",
              "      <td>36 months</td>\n",
              "      <td>11.99</td>\n",
              "      <td>265.68</td>\n",
              "      <td>B</td>\n",
              "      <td>B5</td>\n",
              "      <td>Credit analyst</td>\n",
              "      <td>4 years</td>\n",
              "      <td>MORTGAGE</td>\n",
              "      <td>65000.0</td>\n",
              "      <td>Not Verified</td>\n",
              "      <td>Jan-2015</td>\n",
              "      <td>Fully Paid</td>\n",
              "      <td>debt_consolidation</td>\n",
              "      <td>Debt consolidation</td>\n",
              "      <td>22.05</td>\n",
              "      <td>Jul-2004</td>\n",
              "      <td>17.0</td>\n",
              "      <td>0.0</td>\n",
              "      <td>20131.0</td>\n",
              "      <td>53.3</td>\n",
              "      <td>27.0</td>\n",
              "      <td>f</td>\n",
              "      <td>INDIVIDUAL</td>\n",
              "      <td>3.0</td>\n",
              "      <td>0.0</td>\n",
              "      <td>1076 Carney Fort Apt. 347\\r\\nLoganmouth, SD 05113</td>\n",
              "      <td>1</td>\n",
              "    </tr>\n",
              "    <tr>\n",
              "      <th>2</th>\n",
              "      <td>15600.0</td>\n",
              "      <td>36 months</td>\n",
              "      <td>10.49</td>\n",
              "      <td>506.97</td>\n",
              "      <td>B</td>\n",
              "      <td>B3</td>\n",
              "      <td>Statistician</td>\n",
              "      <td>&lt; 1 year</td>\n",
              "      <td>RENT</td>\n",
              "      <td>43057.0</td>\n",
              "      <td>Source Verified</td>\n",
              "      <td>Jan-2015</td>\n",
              "      <td>Fully Paid</td>\n",
              "      <td>credit_card</td>\n",
              "      <td>Credit card refinancing</td>\n",
              "      <td>12.79</td>\n",
              "      <td>Aug-2007</td>\n",
              "      <td>13.0</td>\n",
              "      <td>0.0</td>\n",
              "      <td>11987.0</td>\n",
              "      <td>92.2</td>\n",
              "      <td>26.0</td>\n",
              "      <td>f</td>\n",
              "      <td>INDIVIDUAL</td>\n",
              "      <td>0.0</td>\n",
              "      <td>0.0</td>\n",
              "      <td>87025 Mark Dale Apt. 269\\r\\nNew Sabrina, WV 05113</td>\n",
              "      <td>1</td>\n",
              "    </tr>\n",
              "    <tr>\n",
              "      <th>3</th>\n",
              "      <td>7200.0</td>\n",
              "      <td>36 months</td>\n",
              "      <td>6.49</td>\n",
              "      <td>220.65</td>\n",
              "      <td>A</td>\n",
              "      <td>A2</td>\n",
              "      <td>Client Advocate</td>\n",
              "      <td>6 years</td>\n",
              "      <td>RENT</td>\n",
              "      <td>54000.0</td>\n",
              "      <td>Not Verified</td>\n",
              "      <td>Nov-2014</td>\n",
              "      <td>Fully Paid</td>\n",
              "      <td>credit_card</td>\n",
              "      <td>Credit card refinancing</td>\n",
              "      <td>2.60</td>\n",
              "      <td>Sep-2006</td>\n",
              "      <td>6.0</td>\n",
              "      <td>0.0</td>\n",
              "      <td>5472.0</td>\n",
              "      <td>21.5</td>\n",
              "      <td>13.0</td>\n",
              "      <td>f</td>\n",
              "      <td>INDIVIDUAL</td>\n",
              "      <td>0.0</td>\n",
              "      <td>0.0</td>\n",
              "      <td>823 Reid Ford\\r\\nDelacruzside, MA 00813</td>\n",
              "      <td>1</td>\n",
              "    </tr>\n",
              "    <tr>\n",
              "      <th>4</th>\n",
              "      <td>24375.0</td>\n",
              "      <td>60 months</td>\n",
              "      <td>17.27</td>\n",
              "      <td>609.33</td>\n",
              "      <td>C</td>\n",
              "      <td>C5</td>\n",
              "      <td>Destiny Management Inc.</td>\n",
              "      <td>9 years</td>\n",
              "      <td>MORTGAGE</td>\n",
              "      <td>55000.0</td>\n",
              "      <td>Verified</td>\n",
              "      <td>Apr-2013</td>\n",
              "      <td>Charged Off</td>\n",
              "      <td>credit_card</td>\n",
              "      <td>Credit Card Refinance</td>\n",
              "      <td>33.95</td>\n",
              "      <td>Mar-1999</td>\n",
              "      <td>13.0</td>\n",
              "      <td>0.0</td>\n",
              "      <td>24584.0</td>\n",
              "      <td>69.8</td>\n",
              "      <td>43.0</td>\n",
              "      <td>f</td>\n",
              "      <td>INDIVIDUAL</td>\n",
              "      <td>1.0</td>\n",
              "      <td>0.0</td>\n",
              "      <td>679 Luna Roads\\r\\nGreggshire, VA 11650</td>\n",
              "      <td>0</td>\n",
              "    </tr>\n",
              "  </tbody>\n",
              "</table>\n",
              "</div>"
            ],
            "text/plain": [
              "   loan_amnt  ... loan_repaid\n",
              "0    10000.0  ...           1\n",
              "1     8000.0  ...           1\n",
              "2    15600.0  ...           1\n",
              "3     7200.0  ...           1\n",
              "4    24375.0  ...           0\n",
              "\n",
              "[5 rows x 28 columns]"
            ]
          },
          "metadata": {
            "tags": []
          },
          "execution_count": 30
        }
      ]
    },
    {
      "cell_type": "markdown",
      "metadata": {
        "id": "-cgSJQcUGqna"
      },
      "source": [
        "# Missing Data\n",
        "\n",
        "**Let's explore this missing data columns. We use a variety of factors to decide whether or not they would be useful, to see if we should keep, discard, or fill in the missing data.**"
      ]
    },
    {
      "cell_type": "markdown",
      "metadata": {
        "id": "_zQr526yGqnb"
      },
      "source": [
        "**TASK: What is the length of the dataframe?**"
      ]
    },
    {
      "cell_type": "code",
      "metadata": {
        "id": "09qpMf2BGqnb",
        "colab": {
          "base_uri": "https://localhost:8080/"
        },
        "outputId": "e0e77b2b-c486-43f8-ad4b-2f96dc741a3a"
      },
      "source": [
        "len(df)"
      ],
      "execution_count": 31,
      "outputs": [
        {
          "output_type": "execute_result",
          "data": {
            "text/plain": [
              "396030"
            ]
          },
          "metadata": {
            "tags": []
          },
          "execution_count": 31
        }
      ]
    },
    {
      "cell_type": "markdown",
      "metadata": {
        "id": "gizdNR3SGqnb"
      },
      "source": [
        "**TASK: Create a Series that displays the total count of missing values per column.**"
      ]
    },
    {
      "cell_type": "code",
      "metadata": {
        "id": "SPNb65sUGqnb",
        "colab": {
          "base_uri": "https://localhost:8080/"
        },
        "outputId": "0bdebc9c-0bee-466b-f571-72e2af30d73d"
      },
      "source": [
        "# CODE HERE\n",
        "df.isnull().sum()"
      ],
      "execution_count": 32,
      "outputs": [
        {
          "output_type": "execute_result",
          "data": {
            "text/plain": [
              "loan_amnt                   0\n",
              "term                        0\n",
              "int_rate                    0\n",
              "installment                 0\n",
              "grade                       0\n",
              "sub_grade                   0\n",
              "emp_title               22927\n",
              "emp_length              18301\n",
              "home_ownership              0\n",
              "annual_inc                  0\n",
              "verification_status         0\n",
              "issue_d                     0\n",
              "loan_status                 0\n",
              "purpose                     0\n",
              "title                    1755\n",
              "dti                         0\n",
              "earliest_cr_line            0\n",
              "open_acc                    0\n",
              "pub_rec                     0\n",
              "revol_bal                   0\n",
              "revol_util                276\n",
              "total_acc                   0\n",
              "initial_list_status         0\n",
              "application_type            0\n",
              "mort_acc                37795\n",
              "pub_rec_bankruptcies      535\n",
              "address                     0\n",
              "loan_repaid                 0\n",
              "dtype: int64"
            ]
          },
          "metadata": {
            "tags": []
          },
          "execution_count": 32
        }
      ]
    },
    {
      "cell_type": "markdown",
      "metadata": {
        "id": "dqg4kPDTGqnf"
      },
      "source": [
        "**TASK: Convert this Series to be in term of percentage of the total DataFrame**"
      ]
    },
    {
      "cell_type": "code",
      "metadata": {
        "id": "BqY9f4K1Gqnf",
        "colab": {
          "base_uri": "https://localhost:8080/"
        },
        "outputId": "0813e733-54be-439b-dc0c-b5f4ac1ee3d6"
      },
      "source": [
        "(df.isnull().sum()/len(df))*100"
      ],
      "execution_count": 33,
      "outputs": [
        {
          "output_type": "execute_result",
          "data": {
            "text/plain": [
              "loan_amnt               0.000000\n",
              "term                    0.000000\n",
              "int_rate                0.000000\n",
              "installment             0.000000\n",
              "grade                   0.000000\n",
              "sub_grade               0.000000\n",
              "emp_title               5.789208\n",
              "emp_length              4.621115\n",
              "home_ownership          0.000000\n",
              "annual_inc              0.000000\n",
              "verification_status     0.000000\n",
              "issue_d                 0.000000\n",
              "loan_status             0.000000\n",
              "purpose                 0.000000\n",
              "title                   0.443148\n",
              "dti                     0.000000\n",
              "earliest_cr_line        0.000000\n",
              "open_acc                0.000000\n",
              "pub_rec                 0.000000\n",
              "revol_bal               0.000000\n",
              "revol_util              0.069692\n",
              "total_acc               0.000000\n",
              "initial_list_status     0.000000\n",
              "application_type        0.000000\n",
              "mort_acc                9.543469\n",
              "pub_rec_bankruptcies    0.135091\n",
              "address                 0.000000\n",
              "loan_repaid             0.000000\n",
              "dtype: float64"
            ]
          },
          "metadata": {
            "tags": []
          },
          "execution_count": 33
        }
      ]
    },
    {
      "cell_type": "code",
      "metadata": {
        "colab": {
          "base_uri": "https://localhost:8080/",
          "height": 718
        },
        "id": "oFI-jG_rBnhq",
        "outputId": "1460125a-8964-4500-853f-185f7c856c26"
      },
      "source": [
        "plt.figure(figsize=(12,8))\n",
        "msno.matrix(df)"
      ],
      "execution_count": 34,
      "outputs": [
        {
          "output_type": "execute_result",
          "data": {
            "text/plain": [
              "<matplotlib.axes._subplots.AxesSubplot at 0x7f6b9bb5c1d0>"
            ]
          },
          "metadata": {
            "tags": []
          },
          "execution_count": 34
        },
        {
          "output_type": "display_data",
          "data": {
            "text/plain": [
              "<Figure size 864x576 with 0 Axes>"
            ]
          },
          "metadata": {
            "tags": []
          }
        },
        {
          "output_type": "display_data",
          "data": {
            "image/png": "[encoded data removed]",
            "text/plain": [
              "<Figure size 1800x720 with 2 Axes>"
            ]
          },
          "metadata": {
            "tags": [],
            "needs_background": "light"
          }
        }
      ]
    },
    {
      "cell_type": "markdown",
      "metadata": {
        "id": "oZJNPU94Gqnf"
      },
      "source": [
        "**TASK: Let's examine emp_title and emp_length to see whether it will be okay to drop them. Print out their feature information using the feat_info() function from the top of this notebook.**"
      ]
    },
    {
      "cell_type": "code",
      "metadata": {
        "id": "HyLQ894MGqng",
        "colab": {
          "base_uri": "https://localhost:8080/"
        },
        "outputId": "e1b1a4fa-54d9-4eee-8cc6-9832a9a4d55e"
      },
      "source": [
        "print(feat_info('emp_title'))\n",
        "print(feat_info('emp_length'))"
      ],
      "execution_count": 35,
      "outputs": [
        {
          "output_type": "stream",
          "text": [
            "The job title supplied by the Borrower when applying for the loan.*\n",
            "None\n",
            "Employment length in years. Possible values are between 0 and 10 where 0 means less than one year and 10 means ten or more years. \n",
            "None\n"
          ],
          "name": "stdout"
        }
      ]
    },
    {
      "cell_type": "markdown",
      "metadata": {
        "id": "NyQfInW0Gqng"
      },
      "source": [
        "**TASK: How many unique employment job titles are there?**"
      ]
    },
    {
      "cell_type": "code",
      "metadata": {
        "id": "RK-E_tekGqng",
        "colab": {
          "base_uri": "https://localhost:8080/"
        },
        "outputId": "cb530ddd-2b7e-4782-88c0-b162c2a4d9c5"
      },
      "source": [
        "df['emp_title'].nunique()"
      ],
      "execution_count": 36,
      "outputs": [
        {
          "output_type": "execute_result",
          "data": {
            "text/plain": [
              "173105"
            ]
          },
          "metadata": {
            "tags": []
          },
          "execution_count": 36
        }
      ]
    },
    {
      "cell_type": "code",
      "metadata": {
        "id": "DSJJwKG-Gqng",
        "colab": {
          "base_uri": "https://localhost:8080/"
        },
        "outputId": "d70fc206-3cc1-4f2b-eadf-90b2c0f51db1"
      },
      "source": [
        "df['emp_title'].value_counts()"
      ],
      "execution_count": 37,
      "outputs": [
        {
          "output_type": "execute_result",
          "data": {
            "text/plain": [
              "Teacher                              4389\n",
              "Manager                              4250\n",
              "Registered Nurse                     1856\n",
              "RN                                   1846\n",
              "Supervisor                           1830\n",
              "                                     ... \n",
              "MokiMobility                            1\n",
              "Kadels autobody                         1\n",
              "Kee's Auto Body                         1\n",
              "Consumer Underwriting Supervisor        1\n",
              "mayo clinic health system-mankato       1\n",
              "Name: emp_title, Length: 173105, dtype: int64"
            ]
          },
          "metadata": {
            "tags": []
          },
          "execution_count": 37
        }
      ]
    },
    {
      "cell_type": "markdown",
      "metadata": {
        "id": "tFWJL4vaGqnh"
      },
      "source": [
        "**TASK: Realistically there are too many unique job titles to try to convert this to a dummy variable feature. Let's remove that emp_title column.**"
      ]
    },
    {
      "cell_type": "code",
      "metadata": {
        "id": "8xR8_xOcGqnh"
      },
      "source": [
        "df.drop(['emp_title'],axis=1,inplace=True)"
      ],
      "execution_count": 38,
      "outputs": []
    },
    {
      "cell_type": "markdown",
      "metadata": {
        "id": "M7Uhu1ZRGqnh"
      },
      "source": [
        "**TASK: Create a count plot of the emp_length feature column. Challenge: Sort the order of the values.**"
      ]
    },
    {
      "cell_type": "code",
      "metadata": {
        "id": "SklFW2GwGqnh",
        "colab": {
          "base_uri": "https://localhost:8080/"
        },
        "outputId": "379bfbc0-e501-4bae-fad2-a41cf21cf977"
      },
      "source": [
        "sorted(df['emp_length'].dropna().unique())#After removing null values\n",
        "#Remember by dropping null values it is possible to sort but in other condition it is not possible"
      ],
      "execution_count": 39,
      "outputs": [
        {
          "output_type": "execute_result",
          "data": {
            "text/plain": [
              "['1 year',\n",
              " '10+ years',\n",
              " '2 years',\n",
              " '3 years',\n",
              " '4 years',\n",
              " '5 years',\n",
              " '6 years',\n",
              " '7 years',\n",
              " '8 years',\n",
              " '9 years',\n",
              " '< 1 year']"
            ]
          },
          "metadata": {
            "tags": []
          },
          "execution_count": 39
        }
      ]
    },
    {
      "cell_type": "code",
      "metadata": {
        "id": "A3s3vAba3uTh"
      },
      "source": [
        "df_eml=[\n",
        " '< 1 year',\n",
        " '1 year',\n",
        " '2 years',\n",
        " '3 years',\n",
        " '4 years',\n",
        " '5 years',\n",
        " '6 years',\n",
        " '7 years',\n",
        " '8 years',\n",
        " '9 years',\n",
        " '10+ years']"
      ],
      "execution_count": 40,
      "outputs": []
    },
    {
      "cell_type": "code",
      "metadata": {
        "colab": {
          "base_uri": "https://localhost:8080/",
          "height": 460
        },
        "id": "CXASY3z53-qa",
        "outputId": "4ca11447-6e72-41df-f326-2eba4d7e906e"
      },
      "source": [
        "plt.figure(figsize=(18,7))\n",
        "sns.countplot(x='emp_length',data=df,order=df_eml)"
      ],
      "execution_count": 41,
      "outputs": [
        {
          "output_type": "execute_result",
          "data": {
            "text/plain": [
              "<matplotlib.axes._subplots.AxesSubplot at 0x7f6b9bee8750>"
            ]
          },
          "metadata": {
            "tags": []
          },
          "execution_count": 41
        },
        {
          "output_type": "display_data",
          "data": {
            "image/png": "[encoded data removed]",
            "text/plain": [
              "<Figure size 1296x504 with 1 Axes>"
            ]
          },
          "metadata": {
            "tags": [],
            "needs_background": "light"
          }
        }
      ]
    },
    {
      "cell_type": "markdown",
      "metadata": {
        "id": "T7Psb-sfGqni"
      },
      "source": [
        "**TASK: Plot out the countplot with a hue separating Fully Paid vs Charged Off**"
      ]
    },
    {
      "cell_type": "code",
      "metadata": {
        "id": "ipOLoRQ9Gqni",
        "colab": {
          "base_uri": "https://localhost:8080/",
          "height": 460
        },
        "outputId": "4b8361ea-5614-410c-de23-75d489c400fe"
      },
      "source": [
        "# CODE HERE\n",
        "plt.figure(figsize=(18,7))\n",
        "sns.countplot(x='emp_length',data=df,order=df_eml,hue='loan_status',palette='mako')"
      ],
      "execution_count": 42,
      "outputs": [
        {
          "output_type": "execute_result",
          "data": {
            "text/plain": [
              "<matplotlib.axes._subplots.AxesSubplot at 0x7f6b9bbd7ed0>"
            ]
          },
          "metadata": {
            "tags": []
          },
          "execution_count": 42
        },
        {
          "output_type": "display_data",
          "data": {
            "image/png": "[encoded data removed]",
            "text/plain": [
              "<Figure size 1296x504 with 1 Axes>"
            ]
          },
          "metadata": {
            "tags": [],
            "needs_background": "light"
          }
        }
      ]
    },
    {
      "cell_type": "markdown",
      "metadata": {
        "id": "24llkIbgGqni"
      },
      "source": [
        "**CHALLENGE TASK: This still doesn't really inform us if there is a strong relationship between employment length and being charged off, what we want is the percentage of charge offs per category. Essentially informing us what percent of people per employment category didn't pay back their loan. There are a multitude of ways to create this Series. Once you've created it, see if visualize it with a [bar plot](https://pandas.pydata.org/pandas-docs/version/0.23.4/generated/pandas.DataFrame.plot.html). This may be tricky, refer to solutions if you get stuck on creating this Series.**"
      ]
    },
    {
      "cell_type": "code",
      "metadata": {
        "id": "Pa6LBOdPGqnj"
      },
      "source": [
        "emp_co=df[df['loan_status']=='Charged Off'].groupby(\"emp_length\").count()['loan_status']"
      ],
      "execution_count": 43,
      "outputs": []
    },
    {
      "cell_type": "code",
      "metadata": {
        "id": "fvNzeC6fGqnj"
      },
      "source": [
        "emp_fp=df[df['loan_status']=='Fully Paid'].groupby(\"emp_length\").count()['loan_status']"
      ],
      "execution_count": 44,
      "outputs": []
    },
    {
      "cell_type": "code",
      "metadata": {
        "id": "nD7p0YPNGqnj",
        "colab": {
          "base_uri": "https://localhost:8080/"
        },
        "outputId": "f039daa4-d9c2-4ac7-8ddc-bbbfb734f5fb"
      },
      "source": [
        "abd=emp_co/(emp_fp+emp_co)\n",
        "abd"
      ],
      "execution_count": 45,
      "outputs": [
        {
          "output_type": "execute_result",
          "data": {
            "text/plain": [
              "emp_length\n",
              "1 year       0.199135\n",
              "10+ years    0.184186\n",
              "2 years      0.193262\n",
              "3 years      0.195231\n",
              "4 years      0.192385\n",
              "5 years      0.192187\n",
              "6 years      0.189194\n",
              "7 years      0.194774\n",
              "8 years      0.199760\n",
              "9 years      0.200470\n",
              "< 1 year     0.206872\n",
              "Name: loan_status, dtype: float64"
            ]
          },
          "metadata": {
            "tags": []
          },
          "execution_count": 45
        }
      ]
    },
    {
      "cell_type": "code",
      "metadata": {
        "id": "OheC-Dc1Gqnj",
        "colab": {
          "base_uri": "https://localhost:8080/",
          "height": 339
        },
        "outputId": "e1897f98-4771-41d0-8933-ec11db4b16fd"
      },
      "source": [
        "abd.plot(kind='bar')"
      ],
      "execution_count": 46,
      "outputs": [
        {
          "output_type": "execute_result",
          "data": {
            "text/plain": [
              "<matplotlib.axes._subplots.AxesSubplot at 0x7f6b9ae9d790>"
            ]
          },
          "metadata": {
            "tags": []
          },
          "execution_count": 46
        },
        {
          "output_type": "display_data",
          "data": {
            "image/png": "[encoded data removed]",
            "text/plain": [
              "<Figure size 432x288 with 1 Axes>"
            ]
          },
          "metadata": {
            "tags": [],
            "needs_background": "light"
          }
        }
      ]
    },
    {
      "cell_type": "markdown",
      "metadata": {
        "id": "VX7wm2qcGqnk"
      },
      "source": [
        "**TASK: Charge off rates are extremely similar across all employment lengths. Go ahead and drop the emp_length column.**"
      ]
    },
    {
      "cell_type": "code",
      "metadata": {
        "id": "yys3IAlKGqnk"
      },
      "source": [
        "# CODE HERE\n",
        "df.drop(['emp_length'],axis=1,inplace=True)"
      ],
      "execution_count": 47,
      "outputs": []
    },
    {
      "cell_type": "markdown",
      "metadata": {
        "id": "QuTRzUVfGqnk"
      },
      "source": [
        "**TASK: Revisit the DataFrame to see what feature columns still have missing data.**"
      ]
    },
    {
      "cell_type": "code",
      "metadata": {
        "id": "vkNbZeHoGqnk",
        "colab": {
          "base_uri": "https://localhost:8080/"
        },
        "outputId": "f9cc32bb-8976-4a88-d960-29cec9241969"
      },
      "source": [
        "df.isnull().sum()"
      ],
      "execution_count": 48,
      "outputs": [
        {
          "output_type": "execute_result",
          "data": {
            "text/plain": [
              "loan_amnt                   0\n",
              "term                        0\n",
              "int_rate                    0\n",
              "installment                 0\n",
              "grade                       0\n",
              "sub_grade                   0\n",
              "home_ownership              0\n",
              "annual_inc                  0\n",
              "verification_status         0\n",
              "issue_d                     0\n",
              "loan_status                 0\n",
              "purpose                     0\n",
              "title                    1755\n",
              "dti                         0\n",
              "earliest_cr_line            0\n",
              "open_acc                    0\n",
              "pub_rec                     0\n",
              "revol_bal                   0\n",
              "revol_util                276\n",
              "total_acc                   0\n",
              "initial_list_status         0\n",
              "application_type            0\n",
              "mort_acc                37795\n",
              "pub_rec_bankruptcies      535\n",
              "address                     0\n",
              "loan_repaid                 0\n",
              "dtype: int64"
            ]
          },
          "metadata": {
            "tags": []
          },
          "execution_count": 48
        }
      ]
    },
    {
      "cell_type": "markdown",
      "metadata": {
        "id": "cIxLvygzGqnl"
      },
      "source": [
        "**TASK: Review the title column vs the purpose column. Is this repeated information?**"
      ]
    },
    {
      "cell_type": "code",
      "metadata": {
        "id": "cKx47dFfGqnl",
        "colab": {
          "base_uri": "https://localhost:8080/"
        },
        "outputId": "f33fea98-1d16-4e94-d3a5-34b41a9c4948"
      },
      "source": [
        "df['purpose'].head(10)"
      ],
      "execution_count": 49,
      "outputs": [
        {
          "output_type": "execute_result",
          "data": {
            "text/plain": [
              "0              vacation\n",
              "1    debt_consolidation\n",
              "2           credit_card\n",
              "3           credit_card\n",
              "4           credit_card\n",
              "5    debt_consolidation\n",
              "6      home_improvement\n",
              "7           credit_card\n",
              "8    debt_consolidation\n",
              "9    debt_consolidation\n",
              "Name: purpose, dtype: object"
            ]
          },
          "metadata": {
            "tags": []
          },
          "execution_count": 49
        }
      ]
    },
    {
      "cell_type": "code",
      "metadata": {
        "id": "lcT0B4pEGqnl",
        "colab": {
          "base_uri": "https://localhost:8080/"
        },
        "outputId": "76d25255-2ecb-49ca-9a42-e83fe38de942"
      },
      "source": [
        "df['title'].head(10)"
      ],
      "execution_count": 50,
      "outputs": [
        {
          "output_type": "execute_result",
          "data": {
            "text/plain": [
              "0                   Vacation\n",
              "1         Debt consolidation\n",
              "2    Credit card refinancing\n",
              "3    Credit card refinancing\n",
              "4      Credit Card Refinance\n",
              "5         Debt consolidation\n",
              "6           Home improvement\n",
              "7       No More Credit Cards\n",
              "8         Debt consolidation\n",
              "9         Debt Consolidation\n",
              "Name: title, dtype: object"
            ]
          },
          "metadata": {
            "tags": []
          },
          "execution_count": 50
        }
      ]
    },
    {
      "cell_type": "markdown",
      "metadata": {
        "id": "k0FbkPdiGqnl"
      },
      "source": [
        "**TASK: The title column is simply a string subcategory/description of the purpose column. Go ahead and drop the title column.**"
      ]
    },
    {
      "cell_type": "code",
      "metadata": {
        "id": "8SpRUflnGqnm"
      },
      "source": [
        "df.drop(['title'],axis=1,inplace=True)"
      ],
      "execution_count": 51,
      "outputs": []
    },
    {
      "cell_type": "markdown",
      "metadata": {
        "id": "OgJFes4qGqnm"
      },
      "source": [
        "**TASK: Find out what the mort_acc feature represents**"
      ]
    },
    {
      "cell_type": "code",
      "metadata": {
        "id": "QkrrDOYLGqnm",
        "colab": {
          "base_uri": "https://localhost:8080/"
        },
        "outputId": "2f282bcc-28cf-45bd-c83b-55e1ed6514b0"
      },
      "source": [
        "feat_info('mort_acc')"
      ],
      "execution_count": 52,
      "outputs": [
        {
          "output_type": "stream",
          "text": [
            "Number of mortgage accounts.\n"
          ],
          "name": "stdout"
        }
      ]
    },
    {
      "cell_type": "markdown",
      "metadata": {
        "id": "S8ZsxR9vGqnm"
      },
      "source": [
        "**TASK: Create a value_counts of the mort_acc column.**"
      ]
    },
    {
      "cell_type": "code",
      "metadata": {
        "id": "2ND7EME6Gqnn",
        "colab": {
          "base_uri": "https://localhost:8080/"
        },
        "outputId": "737884ee-1760-40ca-a6f8-172cbff2d2be"
      },
      "source": [
        "df['mort_acc'].value_counts()"
      ],
      "execution_count": 53,
      "outputs": [
        {
          "output_type": "execute_result",
          "data": {
            "text/plain": [
              "0.0     139777\n",
              "1.0      60416\n",
              "2.0      49948\n",
              "3.0      38049\n",
              "4.0      27887\n",
              "5.0      18194\n",
              "6.0      11069\n",
              "7.0       6052\n",
              "8.0       3121\n",
              "9.0       1656\n",
              "10.0       865\n",
              "11.0       479\n",
              "12.0       264\n",
              "13.0       146\n",
              "14.0       107\n",
              "15.0        61\n",
              "16.0        37\n",
              "17.0        22\n",
              "18.0        18\n",
              "19.0        15\n",
              "20.0        13\n",
              "24.0        10\n",
              "22.0         7\n",
              "21.0         4\n",
              "25.0         4\n",
              "27.0         3\n",
              "23.0         2\n",
              "32.0         2\n",
              "26.0         2\n",
              "31.0         2\n",
              "30.0         1\n",
              "28.0         1\n",
              "34.0         1\n",
              "Name: mort_acc, dtype: int64"
            ]
          },
          "metadata": {
            "tags": []
          },
          "execution_count": 53
        }
      ]
    },
    {
      "cell_type": "markdown",
      "metadata": {
        "id": "m9dDnSp3Gqnn"
      },
      "source": [
        "**TASK: There are many ways we could deal with this missing data. We could attempt to build a simple model to fill it in, such as a linear model, we could just fill it in based on the mean of the other columns, or you could even bin the columns into categories and then set NaN as its own category. There is no 100% correct approach! Let's review the other columns to see which most highly correlates to mort_acc**"
      ]
    },
    {
      "cell_type": "code",
      "metadata": {
        "id": "AKbm65XTGqnn",
        "colab": {
          "base_uri": "https://localhost:8080/"
        },
        "outputId": "14763b53-dcda-4e64-cf20-626b5307db91"
      },
      "source": [
        "df.corr()['mort_acc'].sort_values()"
      ],
      "execution_count": 54,
      "outputs": [
        {
          "output_type": "execute_result",
          "data": {
            "text/plain": [
              "int_rate               -0.082583\n",
              "dti                    -0.025439\n",
              "revol_util              0.007514\n",
              "pub_rec                 0.011552\n",
              "pub_rec_bankruptcies    0.027239\n",
              "loan_repaid             0.073111\n",
              "open_acc                0.109205\n",
              "installment             0.193694\n",
              "revol_bal               0.194925\n",
              "loan_amnt               0.222315\n",
              "annual_inc              0.236320\n",
              "total_acc               0.381072\n",
              "mort_acc                1.000000\n",
              "Name: mort_acc, dtype: float64"
            ]
          },
          "metadata": {
            "tags": []
          },
          "execution_count": 54
        }
      ]
    },
    {
      "cell_type": "markdown",
      "metadata": {
        "id": "QWs6y--YGqnn"
      },
      "source": [
        "**TASK: Looks like the total_acc feature correlates with the mort_acc , this makes sense! Let's try this fillna() approach. We will group the dataframe by the total_acc and calculate the mean value for the mort_acc per total_acc entry. To get the result below:**"
      ]
    },
    {
      "cell_type": "code",
      "metadata": {
        "id": "JrL-pnJyGqno",
        "colab": {
          "base_uri": "https://localhost:8080/"
        },
        "outputId": "1f5bd93c-26b7-4927-fb80-e9f0dc9fb015"
      },
      "source": [
        "total_acc_mean=df.groupby('total_acc').mean()['mort_acc']\n",
        "total_acc_mean\n",
        "#Now one plan is to intechange missing values wrt mean of total_Acc"
      ],
      "execution_count": 55,
      "outputs": [
        {
          "output_type": "execute_result",
          "data": {
            "text/plain": [
              "total_acc\n",
              "2.0      0.000000\n",
              "3.0      0.052023\n",
              "4.0      0.066743\n",
              "5.0      0.103289\n",
              "6.0      0.151293\n",
              "           ...   \n",
              "124.0    1.000000\n",
              "129.0    1.000000\n",
              "135.0    3.000000\n",
              "150.0    2.000000\n",
              "151.0    0.000000\n",
              "Name: mort_acc, Length: 118, dtype: float64"
            ]
          },
          "metadata": {
            "tags": []
          },
          "execution_count": 55
        }
      ]
    },
    {
      "cell_type": "markdown",
      "metadata": {
        "id": "ATBXfTuMGqno"
      },
      "source": [
        "**CHALLENGE TASK: Let's fill in the missing mort_acc values based on their total_acc value. If the mort_acc is missing, then we will fill in that missing value with the mean value corresponding to its total_acc value from the Series we created above. This involves using an .apply() method with two columns. Check out the link below for more info, or review the solutions video/notebook.**\n",
        "\n",
        "[Helpful Link](https://stackoverflow.com/questions/13331698/how-to-apply-a-function-to-two-columns-of-pandas-dataframe) "
      ]
    },
    {
      "cell_type": "code",
      "metadata": {
        "id": "Ky9IUBS2Gqno"
      },
      "source": [
        "# CODE HERE\n",
        "def fill_mort_acc(total_acc,mort_acc):\n",
        "  if np.isnan(mort_acc):\n",
        "    return total_acc_mean[total_acc]\n",
        "  else:\n",
        "    return mort_acc\n"
      ],
      "execution_count": 56,
      "outputs": []
    },
    {
      "cell_type": "code",
      "metadata": {
        "id": "1iZ4AlerGqno"
      },
      "source": [
        "df['mort_acc'] = df.apply(lambda x: fill_mort_acc(x['total_acc'], x['mort_acc']), axis=1)"
      ],
      "execution_count": 57,
      "outputs": []
    },
    {
      "cell_type": "code",
      "metadata": {
        "id": "OxJqV-QTGqno",
        "colab": {
          "base_uri": "https://localhost:8080/"
        },
        "outputId": "fbbd4c57-288a-416e-a716-37ad599fcfd9"
      },
      "source": [
        "df.isnull().sum()"
      ],
      "execution_count": 58,
      "outputs": [
        {
          "output_type": "execute_result",
          "data": {
            "text/plain": [
              "loan_amnt                 0\n",
              "term                      0\n",
              "int_rate                  0\n",
              "installment               0\n",
              "grade                     0\n",
              "sub_grade                 0\n",
              "home_ownership            0\n",
              "annual_inc                0\n",
              "verification_status       0\n",
              "issue_d                   0\n",
              "loan_status               0\n",
              "purpose                   0\n",
              "dti                       0\n",
              "earliest_cr_line          0\n",
              "open_acc                  0\n",
              "pub_rec                   0\n",
              "revol_bal                 0\n",
              "revol_util              276\n",
              "total_acc                 0\n",
              "initial_list_status       0\n",
              "application_type          0\n",
              "mort_acc                  0\n",
              "pub_rec_bankruptcies    535\n",
              "address                   0\n",
              "loan_repaid               0\n",
              "dtype: int64"
            ]
          },
          "metadata": {
            "tags": []
          },
          "execution_count": 58
        }
      ]
    },
    {
      "cell_type": "markdown",
      "metadata": {
        "id": "hpD7-Em9Gqnp"
      },
      "source": [
        "**TASK: revol_util and the pub_rec_bankruptcies have missing data points, but they account for less than 0.5% of the total data. Go ahead and remove the rows that are missing those values in those columns with dropna().**"
      ]
    },
    {
      "cell_type": "code",
      "metadata": {
        "id": "2GLNze9OGqnp"
      },
      "source": [
        "df=df.dropna()"
      ],
      "execution_count": 59,
      "outputs": []
    },
    {
      "cell_type": "code",
      "metadata": {
        "id": "hqRwQDIlGqnq",
        "colab": {
          "base_uri": "https://localhost:8080/",
          "height": 718
        },
        "outputId": "7a8526ef-21da-4e63-b580-dfe80d442d41"
      },
      "source": [
        "plt.figure(figsize=(12,8))\n",
        "msno.matrix(df)"
      ],
      "execution_count": 60,
      "outputs": [
        {
          "output_type": "execute_result",
          "data": {
            "text/plain": [
              "<matplotlib.axes._subplots.AxesSubplot at 0x7f6b9aecad10>"
            ]
          },
          "metadata": {
            "tags": []
          },
          "execution_count": 60
        },
        {
          "output_type": "display_data",
          "data": {
            "text/plain": [
              "<Figure size 864x576 with 0 Axes>"
            ]
          },
          "metadata": {
            "tags": []
          }
        },
        {
          "output_type": "display_data",
          "data": {
            "image/png": "[encoded data removed]",
            "text/plain": [
              "<Figure size 1800x720 with 2 Axes>"
            ]
          },
          "metadata": {
            "tags": [],
            "needs_background": "light"
          }
        }
      ]
    },
    {
      "cell_type": "code",
      "metadata": {
        "id": "1DUM4vEHGqnq",
        "scrolled": true,
        "colab": {
          "base_uri": "https://localhost:8080/"
        },
        "outputId": "f90d4e5e-4a42-4346-f597-6dabc1ed61f8"
      },
      "source": [
        "df.isnull().sum()"
      ],
      "execution_count": 61,
      "outputs": [
        {
          "output_type": "execute_result",
          "data": {
            "text/plain": [
              "loan_amnt               0\n",
              "term                    0\n",
              "int_rate                0\n",
              "installment             0\n",
              "grade                   0\n",
              "sub_grade               0\n",
              "home_ownership          0\n",
              "annual_inc              0\n",
              "verification_status     0\n",
              "issue_d                 0\n",
              "loan_status             0\n",
              "purpose                 0\n",
              "dti                     0\n",
              "earliest_cr_line        0\n",
              "open_acc                0\n",
              "pub_rec                 0\n",
              "revol_bal               0\n",
              "revol_util              0\n",
              "total_acc               0\n",
              "initial_list_status     0\n",
              "application_type        0\n",
              "mort_acc                0\n",
              "pub_rec_bankruptcies    0\n",
              "address                 0\n",
              "loan_repaid             0\n",
              "dtype: int64"
            ]
          },
          "metadata": {
            "tags": []
          },
          "execution_count": 61
        }
      ]
    },
    {
      "cell_type": "markdown",
      "metadata": {
        "id": "ZxumyryhGqnq"
      },
      "source": [
        "## Categorical Variables and Dummy Variables\n",
        "\n",
        "**We're done working with the missing data! Now we just need to deal with the string values due to the categorical columns.**\n",
        "\n",
        "**TASK: List all the columns that are currently non-numeric. [Helpful Link](https://stackoverflow.com/questions/22470690/get-list-of-pandas-dataframe-columns-based-on-data-type)**\n",
        "\n",
        "[Another very useful method call](https://pandas.pydata.org/pandas-docs/stable/reference/api/pandas.DataFrame.select_dtypes.html)"
      ]
    },
    {
      "cell_type": "code",
      "metadata": {
        "id": "cPrSYWFOGqnq",
        "colab": {
          "base_uri": "https://localhost:8080/"
        },
        "outputId": "dfe41dcf-4d39-4eaf-fcbf-2f1bde709df7"
      },
      "source": [
        "df.select_dtypes(['object']).columns"
      ],
      "execution_count": 62,
      "outputs": [
        {
          "output_type": "execute_result",
          "data": {
            "text/plain": [
              "Index(['term', 'grade', 'sub_grade', 'home_ownership', 'verification_status',\n",
              "       'issue_d', 'loan_status', 'purpose', 'earliest_cr_line',\n",
              "       'initial_list_status', 'application_type', 'address'],\n",
              "      dtype='object')"
            ]
          },
          "metadata": {
            "tags": []
          },
          "execution_count": 62
        }
      ]
    },
    {
      "cell_type": "markdown",
      "metadata": {
        "id": "XgzskM1PGqnr"
      },
      "source": [
        "---\n",
        "**Let's now go through all the string features to see what we should do with them.**\n",
        "\n",
        "---\n",
        "\n",
        "\n",
        "### term feature\n",
        "\n",
        "**TASK: Convert the term feature into either a 36 or 60 integer numeric data type using .apply() or .map().**"
      ]
    },
    {
      "cell_type": "code",
      "metadata": {
        "id": "w03vKZJyGqnr",
        "colab": {
          "base_uri": "https://localhost:8080/"
        },
        "outputId": "98851b59-b545-431d-e5ce-e9c23624b94b"
      },
      "source": [
        "df['term'].value_counts()"
      ],
      "execution_count": 63,
      "outputs": [
        {
          "output_type": "execute_result",
          "data": {
            "text/plain": [
              " 36 months    301247\n",
              " 60 months     93972\n",
              "Name: term, dtype: int64"
            ]
          },
          "metadata": {
            "tags": []
          },
          "execution_count": 63
        }
      ]
    },
    {
      "cell_type": "code",
      "metadata": {
        "id": "MLxbuGZbGqnr"
      },
      "source": [
        "df['term']=df['term'].apply(lambda x:int(x[:3]))"
      ],
      "execution_count": 64,
      "outputs": []
    },
    {
      "cell_type": "markdown",
      "metadata": {
        "id": "vSrVspCCGqnr"
      },
      "source": [
        "### grade feature\n",
        "\n",
        "**TASK: We already know grade is part of sub_grade, so just drop the grade feature.**"
      ]
    },
    {
      "cell_type": "code",
      "metadata": {
        "id": "ozA1vb2NGqns"
      },
      "source": [
        "df.drop(['grade'],axis=1,inplace=True)"
      ],
      "execution_count": 65,
      "outputs": []
    },
    {
      "cell_type": "markdown",
      "metadata": {
        "id": "rfmBiXzHGqns"
      },
      "source": [
        "**TASK: Convert the subgrade into dummy variables. Then concatenate these new columns to the original dataframe. Remember to drop the original subgrade column and to add drop_first=True to your get_dummies call.**"
      ]
    },
    {
      "cell_type": "code",
      "metadata": {
        "id": "or8b8-FQGqns"
      },
      "source": [
        "dummies=pd.get_dummies(df['sub_grade'],drop_first=True)\n",
        "\n",
        "df=pd.concat([df.drop('sub_grade',axis=1),dummies],axis=1)#dropping plus concatenating the columns"
      ],
      "execution_count": 66,
      "outputs": []
    },
    {
      "cell_type": "code",
      "metadata": {
        "id": "CvPJqrIoGqns",
        "colab": {
          "base_uri": "https://localhost:8080/",
          "height": 402
        },
        "outputId": "df8f7768-07c2-4ede-9b2c-1e65a31d2bce"
      },
      "source": [
        "dummies"
      ],
      "execution_count": 67,
      "outputs": [
        {
          "output_type": "execute_result",
          "data": {
            "text/html": [
              "<div>\n",
              "<style scoped>\n",
              "    .dataframe tbody tr th:only-of-type {\n",
              "        vertical-align: middle;\n",
              "    }\n",
              "\n",
              "    .dataframe tbody tr th {\n",
              "        vertical-align: top;\n",
              "    }\n",
              "\n",
              "    .dataframe thead th {\n",
              "        text-align: right;\n",
              "    }\n",
              "</style>\n",
              "<table border=\"1\" class=\"dataframe\">\n",
              "  <thead>\n",
              "    <tr style=\"text-align: right;\">\n",
              "      <th></th>\n",
              "      <th>A2</th>\n",
              "      <th>A3</th>\n",
              "      <th>A4</th>\n",
              "      <th>A5</th>\n",
              "      <th>B1</th>\n",
              "      <th>B2</th>\n",
              "      <th>B3</th>\n",
              "      <th>B4</th>\n",
              "      <th>B5</th>\n",
              "      <th>C1</th>\n",
              "      <th>C2</th>\n",
              "      <th>C3</th>\n",
              "      <th>C4</th>\n",
              "      <th>C5</th>\n",
              "      <th>D1</th>\n",
              "      <th>D2</th>\n",
              "      <th>D3</th>\n",
              "      <th>D4</th>\n",
              "      <th>D5</th>\n",
              "      <th>E1</th>\n",
              "      <th>E2</th>\n",
              "      <th>E3</th>\n",
              "      <th>E4</th>\n",
              "      <th>E5</th>\n",
              "      <th>F1</th>\n",
              "      <th>F2</th>\n",
              "      <th>F3</th>\n",
              "      <th>F4</th>\n",
              "      <th>F5</th>\n",
              "      <th>G1</th>\n",
              "      <th>G2</th>\n",
              "      <th>G3</th>\n",
              "      <th>G4</th>\n",
              "      <th>G5</th>\n",
              "    </tr>\n",
              "  </thead>\n",
              "  <tbody>\n",
              "    <tr>\n",
              "      <th>0</th>\n",
              "      <td>0</td>\n",
              "      <td>0</td>\n",
              "      <td>0</td>\n",
              "      <td>0</td>\n",
              "      <td>0</td>\n",
              "      <td>0</td>\n",
              "      <td>0</td>\n",
              "      <td>1</td>\n",
              "      <td>0</td>\n",
              "      <td>0</td>\n",
              "      <td>0</td>\n",
              "      <td>0</td>\n",
              "      <td>0</td>\n",
              "      <td>0</td>\n",
              "      <td>0</td>\n",
              "      <td>0</td>\n",
              "      <td>0</td>\n",
              "      <td>0</td>\n",
              "      <td>0</td>\n",
              "      <td>0</td>\n",
              "      <td>0</td>\n",
              "      <td>0</td>\n",
              "      <td>0</td>\n",
              "      <td>0</td>\n",
              "      <td>0</td>\n",
              "      <td>0</td>\n",
              "      <td>0</td>\n",
              "      <td>0</td>\n",
              "      <td>0</td>\n",
              "      <td>0</td>\n",
              "      <td>0</td>\n",
              "      <td>0</td>\n",
              "      <td>0</td>\n",
              "      <td>0</td>\n",
              "    </tr>\n",
              "    <tr>\n",
              "      <th>1</th>\n",
              "      <td>0</td>\n",
              "      <td>0</td>\n",
              "      <td>0</td>\n",
              "      <td>0</td>\n",
              "      <td>0</td>\n",
              "      <td>0</td>\n",
              "      <td>0</td>\n",
              "      <td>0</td>\n",
              "      <td>1</td>\n",
              "      <td>0</td>\n",
              "      <td>0</td>\n",
              "      <td>0</td>\n",
              "      <td>0</td>\n",
              "      <td>0</td>\n",
              "      <td>0</td>\n",
              "      <td>0</td>\n",
              "      <td>0</td>\n",
              "      <td>0</td>\n",
              "      <td>0</td>\n",
              "      <td>0</td>\n",
              "      <td>0</td>\n",
              "      <td>0</td>\n",
              "      <td>0</td>\n",
              "      <td>0</td>\n",
              "      <td>0</td>\n",
              "      <td>0</td>\n",
              "      <td>0</td>\n",
              "      <td>0</td>\n",
              "      <td>0</td>\n",
              "      <td>0</td>\n",
              "      <td>0</td>\n",
              "      <td>0</td>\n",
              "      <td>0</td>\n",
              "      <td>0</td>\n",
              "    </tr>\n",
              "    <tr>\n",
              "      <th>2</th>\n",
              "      <td>0</td>\n",
              "      <td>0</td>\n",
              "      <td>0</td>\n",
              "      <td>0</td>\n",
              "      <td>0</td>\n",
              "      <td>0</td>\n",
              "      <td>1</td>\n",
              "      <td>0</td>\n",
              "      <td>0</td>\n",
              "      <td>0</td>\n",
              "      <td>0</td>\n",
              "      <td>0</td>\n",
              "      <td>0</td>\n",
              "      <td>0</td>\n",
              "      <td>0</td>\n",
              "      <td>0</td>\n",
              "      <td>0</td>\n",
              "      <td>0</td>\n",
              "      <td>0</td>\n",
              "      <td>0</td>\n",
              "      <td>0</td>\n",
              "      <td>0</td>\n",
              "      <td>0</td>\n",
              "      <td>0</td>\n",
              "      <td>0</td>\n",
              "      <td>0</td>\n",
              "      <td>0</td>\n",
              "      <td>0</td>\n",
              "      <td>0</td>\n",
              "      <td>0</td>\n",
              "      <td>0</td>\n",
              "      <td>0</td>\n",
              "      <td>0</td>\n",
              "      <td>0</td>\n",
              "    </tr>\n",
              "    <tr>\n",
              "      <th>3</th>\n",
              "      <td>1</td>\n",
              "      <td>0</td>\n",
              "      <td>0</td>\n",
              "      <td>0</td>\n",
              "      <td>0</td>\n",
              "      <td>0</td>\n",
              "      <td>0</td>\n",
              "      <td>0</td>\n",
              "      <td>0</td>\n",
              "      <td>0</td>\n",
              "      <td>0</td>\n",
              "      <td>0</td>\n",
              "      <td>0</td>\n",
              "      <td>0</td>\n",
              "      <td>0</td>\n",
              "      <td>0</td>\n",
              "      <td>0</td>\n",
              "      <td>0</td>\n",
              "      <td>0</td>\n",
              "      <td>0</td>\n",
              "      <td>0</td>\n",
              "      <td>0</td>\n",
              "      <td>0</td>\n",
              "      <td>0</td>\n",
              "      <td>0</td>\n",
              "      <td>0</td>\n",
              "      <td>0</td>\n",
              "      <td>0</td>\n",
              "      <td>0</td>\n",
              "      <td>0</td>\n",
              "      <td>0</td>\n",
              "      <td>0</td>\n",
              "      <td>0</td>\n",
              "      <td>0</td>\n",
              "    </tr>\n",
              "    <tr>\n",
              "      <th>4</th>\n",
              "      <td>0</td>\n",
              "      <td>0</td>\n",
              "      <td>0</td>\n",
              "      <td>0</td>\n",
              "      <td>0</td>\n",
              "      <td>0</td>\n",
              "      <td>0</td>\n",
              "      <td>0</td>\n",
              "      <td>0</td>\n",
              "      <td>0</td>\n",
              "      <td>0</td>\n",
              "      <td>0</td>\n",
              "      <td>0</td>\n",
              "      <td>1</td>\n",
              "      <td>0</td>\n",
              "      <td>0</td>\n",
              "      <td>0</td>\n",
              "      <td>0</td>\n",
              "      <td>0</td>\n",
              "      <td>0</td>\n",
              "      <td>0</td>\n",
              "      <td>0</td>\n",
              "      <td>0</td>\n",
              "      <td>0</td>\n",
              "      <td>0</td>\n",
              "      <td>0</td>\n",
              "      <td>0</td>\n",
              "      <td>0</td>\n",
              "      <td>0</td>\n",
              "      <td>0</td>\n",
              "      <td>0</td>\n",
              "      <td>0</td>\n",
              "      <td>0</td>\n",
              "      <td>0</td>\n",
              "    </tr>\n",
              "    <tr>\n",
              "      <th>...</th>\n",
              "      <td>...</td>\n",
              "      <td>...</td>\n",
              "      <td>...</td>\n",
              "      <td>...</td>\n",
              "      <td>...</td>\n",
              "      <td>...</td>\n",
              "      <td>...</td>\n",
              "      <td>...</td>\n",
              "      <td>...</td>\n",
              "      <td>...</td>\n",
              "      <td>...</td>\n",
              "      <td>...</td>\n",
              "      <td>...</td>\n",
              "      <td>...</td>\n",
              "      <td>...</td>\n",
              "      <td>...</td>\n",
              "      <td>...</td>\n",
              "      <td>...</td>\n",
              "      <td>...</td>\n",
              "      <td>...</td>\n",
              "      <td>...</td>\n",
              "      <td>...</td>\n",
              "      <td>...</td>\n",
              "      <td>...</td>\n",
              "      <td>...</td>\n",
              "      <td>...</td>\n",
              "      <td>...</td>\n",
              "      <td>...</td>\n",
              "      <td>...</td>\n",
              "      <td>...</td>\n",
              "      <td>...</td>\n",
              "      <td>...</td>\n",
              "      <td>...</td>\n",
              "      <td>...</td>\n",
              "    </tr>\n",
              "    <tr>\n",
              "      <th>396025</th>\n",
              "      <td>0</td>\n",
              "      <td>0</td>\n",
              "      <td>0</td>\n",
              "      <td>0</td>\n",
              "      <td>0</td>\n",
              "      <td>0</td>\n",
              "      <td>0</td>\n",
              "      <td>1</td>\n",
              "      <td>0</td>\n",
              "      <td>0</td>\n",
              "      <td>0</td>\n",
              "      <td>0</td>\n",
              "      <td>0</td>\n",
              "      <td>0</td>\n",
              "      <td>0</td>\n",
              "      <td>0</td>\n",
              "      <td>0</td>\n",
              "      <td>0</td>\n",
              "      <td>0</td>\n",
              "      <td>0</td>\n",
              "      <td>0</td>\n",
              "      <td>0</td>\n",
              "      <td>0</td>\n",
              "      <td>0</td>\n",
              "      <td>0</td>\n",
              "      <td>0</td>\n",
              "      <td>0</td>\n",
              "      <td>0</td>\n",
              "      <td>0</td>\n",
              "      <td>0</td>\n",
              "      <td>0</td>\n",
              "      <td>0</td>\n",
              "      <td>0</td>\n",
              "      <td>0</td>\n",
              "    </tr>\n",
              "    <tr>\n",
              "      <th>396026</th>\n",
              "      <td>0</td>\n",
              "      <td>0</td>\n",
              "      <td>0</td>\n",
              "      <td>0</td>\n",
              "      <td>0</td>\n",
              "      <td>0</td>\n",
              "      <td>0</td>\n",
              "      <td>0</td>\n",
              "      <td>0</td>\n",
              "      <td>1</td>\n",
              "      <td>0</td>\n",
              "      <td>0</td>\n",
              "      <td>0</td>\n",
              "      <td>0</td>\n",
              "      <td>0</td>\n",
              "      <td>0</td>\n",
              "      <td>0</td>\n",
              "      <td>0</td>\n",
              "      <td>0</td>\n",
              "      <td>0</td>\n",
              "      <td>0</td>\n",
              "      <td>0</td>\n",
              "      <td>0</td>\n",
              "      <td>0</td>\n",
              "      <td>0</td>\n",
              "      <td>0</td>\n",
              "      <td>0</td>\n",
              "      <td>0</td>\n",
              "      <td>0</td>\n",
              "      <td>0</td>\n",
              "      <td>0</td>\n",
              "      <td>0</td>\n",
              "      <td>0</td>\n",
              "      <td>0</td>\n",
              "    </tr>\n",
              "    <tr>\n",
              "      <th>396027</th>\n",
              "      <td>0</td>\n",
              "      <td>0</td>\n",
              "      <td>0</td>\n",
              "      <td>0</td>\n",
              "      <td>1</td>\n",
              "      <td>0</td>\n",
              "      <td>0</td>\n",
              "      <td>0</td>\n",
              "      <td>0</td>\n",
              "      <td>0</td>\n",
              "      <td>0</td>\n",
              "      <td>0</td>\n",
              "      <td>0</td>\n",
              "      <td>0</td>\n",
              "      <td>0</td>\n",
              "      <td>0</td>\n",
              "      <td>0</td>\n",
              "      <td>0</td>\n",
              "      <td>0</td>\n",
              "      <td>0</td>\n",
              "      <td>0</td>\n",
              "      <td>0</td>\n",
              "      <td>0</td>\n",
              "      <td>0</td>\n",
              "      <td>0</td>\n",
              "      <td>0</td>\n",
              "      <td>0</td>\n",
              "      <td>0</td>\n",
              "      <td>0</td>\n",
              "      <td>0</td>\n",
              "      <td>0</td>\n",
              "      <td>0</td>\n",
              "      <td>0</td>\n",
              "      <td>0</td>\n",
              "    </tr>\n",
              "    <tr>\n",
              "      <th>396028</th>\n",
              "      <td>0</td>\n",
              "      <td>0</td>\n",
              "      <td>0</td>\n",
              "      <td>0</td>\n",
              "      <td>0</td>\n",
              "      <td>0</td>\n",
              "      <td>0</td>\n",
              "      <td>0</td>\n",
              "      <td>0</td>\n",
              "      <td>0</td>\n",
              "      <td>1</td>\n",
              "      <td>0</td>\n",
              "      <td>0</td>\n",
              "      <td>0</td>\n",
              "      <td>0</td>\n",
              "      <td>0</td>\n",
              "      <td>0</td>\n",
              "      <td>0</td>\n",
              "      <td>0</td>\n",
              "      <td>0</td>\n",
              "      <td>0</td>\n",
              "      <td>0</td>\n",
              "      <td>0</td>\n",
              "      <td>0</td>\n",
              "      <td>0</td>\n",
              "      <td>0</td>\n",
              "      <td>0</td>\n",
              "      <td>0</td>\n",
              "      <td>0</td>\n",
              "      <td>0</td>\n",
              "      <td>0</td>\n",
              "      <td>0</td>\n",
              "      <td>0</td>\n",
              "      <td>0</td>\n",
              "    </tr>\n",
              "    <tr>\n",
              "      <th>396029</th>\n",
              "      <td>0</td>\n",
              "      <td>0</td>\n",
              "      <td>0</td>\n",
              "      <td>0</td>\n",
              "      <td>0</td>\n",
              "      <td>0</td>\n",
              "      <td>0</td>\n",
              "      <td>0</td>\n",
              "      <td>0</td>\n",
              "      <td>0</td>\n",
              "      <td>1</td>\n",
              "      <td>0</td>\n",
              "      <td>0</td>\n",
              "      <td>0</td>\n",
              "      <td>0</td>\n",
              "      <td>0</td>\n",
              "      <td>0</td>\n",
              "      <td>0</td>\n",
              "      <td>0</td>\n",
              "      <td>0</td>\n",
              "      <td>0</td>\n",
              "      <td>0</td>\n",
              "      <td>0</td>\n",
              "      <td>0</td>\n",
              "      <td>0</td>\n",
              "      <td>0</td>\n",
              "      <td>0</td>\n",
              "      <td>0</td>\n",
              "      <td>0</td>\n",
              "      <td>0</td>\n",
              "      <td>0</td>\n",
              "      <td>0</td>\n",
              "      <td>0</td>\n",
              "      <td>0</td>\n",
              "    </tr>\n",
              "  </tbody>\n",
              "</table>\n",
              "<p>395219 rows × 34 columns</p>\n",
              "</div>"
            ],
            "text/plain": [
              "        A2  A3  A4  A5  B1  B2  B3  B4  B5  ...  F2  F3  F4  F5  G1  G2  G3  G4  G5\n",
              "0        0   0   0   0   0   0   0   1   0  ...   0   0   0   0   0   0   0   0   0\n",
              "1        0   0   0   0   0   0   0   0   1  ...   0   0   0   0   0   0   0   0   0\n",
              "2        0   0   0   0   0   0   1   0   0  ...   0   0   0   0   0   0   0   0   0\n",
              "3        1   0   0   0   0   0   0   0   0  ...   0   0   0   0   0   0   0   0   0\n",
              "4        0   0   0   0   0   0   0   0   0  ...   0   0   0   0   0   0   0   0   0\n",
              "...     ..  ..  ..  ..  ..  ..  ..  ..  ..  ...  ..  ..  ..  ..  ..  ..  ..  ..  ..\n",
              "396025   0   0   0   0   0   0   0   1   0  ...   0   0   0   0   0   0   0   0   0\n",
              "396026   0   0   0   0   0   0   0   0   0  ...   0   0   0   0   0   0   0   0   0\n",
              "396027   0   0   0   0   1   0   0   0   0  ...   0   0   0   0   0   0   0   0   0\n",
              "396028   0   0   0   0   0   0   0   0   0  ...   0   0   0   0   0   0   0   0   0\n",
              "396029   0   0   0   0   0   0   0   0   0  ...   0   0   0   0   0   0   0   0   0\n",
              "\n",
              "[395219 rows x 34 columns]"
            ]
          },
          "metadata": {
            "tags": []
          },
          "execution_count": 67
        }
      ]
    },
    {
      "cell_type": "code",
      "metadata": {
        "id": "5ZFdirVsGqns",
        "colab": {
          "base_uri": "https://localhost:8080/"
        },
        "outputId": "de136d59-1ced-4638-bc96-9a7c5d1f17f0"
      },
      "source": [
        "df.columns"
      ],
      "execution_count": 68,
      "outputs": [
        {
          "output_type": "execute_result",
          "data": {
            "text/plain": [
              "Index(['loan_amnt', 'term', 'int_rate', 'installment', 'home_ownership',\n",
              "       'annual_inc', 'verification_status', 'issue_d', 'loan_status',\n",
              "       'purpose', 'dti', 'earliest_cr_line', 'open_acc', 'pub_rec',\n",
              "       'revol_bal', 'revol_util', 'total_acc', 'initial_list_status',\n",
              "       'application_type', 'mort_acc', 'pub_rec_bankruptcies', 'address',\n",
              "       'loan_repaid', 'A2', 'A3', 'A4', 'A5', 'B1', 'B2', 'B3', 'B4', 'B5',\n",
              "       'C1', 'C2', 'C3', 'C4', 'C5', 'D1', 'D2', 'D3', 'D4', 'D5', 'E1', 'E2',\n",
              "       'E3', 'E4', 'E5', 'F1', 'F2', 'F3', 'F4', 'F5', 'G1', 'G2', 'G3', 'G4',\n",
              "       'G5'],\n",
              "      dtype='object')"
            ]
          },
          "metadata": {
            "tags": []
          },
          "execution_count": 68
        }
      ]
    },
    {
      "cell_type": "markdown",
      "metadata": {
        "id": "azM5tXTwGqnt"
      },
      "source": [
        "### verification_status, application_type,initial_list_status,purpose \n",
        "**TASK: Convert these columns: ['verification_status', 'application_type','initial_list_status','purpose'] into dummy variables and concatenate them with the original dataframe. Remember to set drop_first=True and to drop the original columns.**"
      ]
    },
    {
      "cell_type": "code",
      "metadata": {
        "id": "Zk_HgP7jGqnt"
      },
      "source": [
        "# CODE HERE\n",
        "dummies=pd.get_dummies(df[['verification_status', 'application_type','initial_list_status','purpose']],drop_first=True)\n",
        "\n",
        "df=pd.concat([df.drop(['verification_status', 'application_type','initial_list_status','purpose'],axis=1),dummies],axis=1)#dropping plus concatenating the columns"
      ],
      "execution_count": 69,
      "outputs": []
    },
    {
      "cell_type": "code",
      "metadata": {
        "id": "54F_WHfEGqnt",
        "colab": {
          "base_uri": "https://localhost:8080/"
        },
        "outputId": "e1c882df-aa23-46ef-ac1e-56090b959a11"
      },
      "source": [
        "df.columns"
      ],
      "execution_count": 70,
      "outputs": [
        {
          "output_type": "execute_result",
          "data": {
            "text/plain": [
              "Index(['loan_amnt', 'term', 'int_rate', 'installment', 'home_ownership',\n",
              "       'annual_inc', 'issue_d', 'loan_status', 'dti', 'earliest_cr_line',\n",
              "       'open_acc', 'pub_rec', 'revol_bal', 'revol_util', 'total_acc',\n",
              "       'mort_acc', 'pub_rec_bankruptcies', 'address', 'loan_repaid', 'A2',\n",
              "       'A3', 'A4', 'A5', 'B1', 'B2', 'B3', 'B4', 'B5', 'C1', 'C2', 'C3', 'C4',\n",
              "       'C5', 'D1', 'D2', 'D3', 'D4', 'D5', 'E1', 'E2', 'E3', 'E4', 'E5', 'F1',\n",
              "       'F2', 'F3', 'F4', 'F5', 'G1', 'G2', 'G3', 'G4', 'G5',\n",
              "       'verification_status_Source Verified', 'verification_status_Verified',\n",
              "       'application_type_INDIVIDUAL', 'application_type_JOINT',\n",
              "       'initial_list_status_w', 'purpose_credit_card',\n",
              "       'purpose_debt_consolidation', 'purpose_educational',\n",
              "       'purpose_home_improvement', 'purpose_house', 'purpose_major_purchase',\n",
              "       'purpose_medical', 'purpose_moving', 'purpose_other',\n",
              "       'purpose_renewable_energy', 'purpose_small_business',\n",
              "       'purpose_vacation', 'purpose_wedding'],\n",
              "      dtype='object')"
            ]
          },
          "metadata": {
            "tags": []
          },
          "execution_count": 70
        }
      ]
    },
    {
      "cell_type": "markdown",
      "metadata": {
        "id": "9bftzIovGqnt"
      },
      "source": [
        "### home_ownership\n",
        "**TASK:Review the value_counts for the home_ownership column.**"
      ]
    },
    {
      "cell_type": "code",
      "metadata": {
        "id": "jTAcF9BoGqnu",
        "colab": {
          "base_uri": "https://localhost:8080/"
        },
        "outputId": "77a00d9e-7e9e-4aac-a740-890d4277f53d"
      },
      "source": [
        "df['home_ownership'].value_counts()"
      ],
      "execution_count": 71,
      "outputs": [
        {
          "output_type": "execute_result",
          "data": {
            "text/plain": [
              "MORTGAGE    198022\n",
              "RENT        159395\n",
              "OWN          37660\n",
              "OTHER          110\n",
              "NONE            29\n",
              "ANY              3\n",
              "Name: home_ownership, dtype: int64"
            ]
          },
          "metadata": {
            "tags": []
          },
          "execution_count": 71
        }
      ]
    },
    {
      "cell_type": "markdown",
      "metadata": {
        "id": "7ofHIESrGqnu"
      },
      "source": [
        "**TASK: Convert these to dummy variables, but [replace](https://pandas.pydata.org/pandas-docs/stable/reference/api/pandas.DataFrame.replace.html) NONE and ANY with OTHER, so that we end up with just 4 categories, MORTGAGE, RENT, OWN, OTHER. Then concatenate them with the original dataframe. Remember to set drop_first=True and to drop the original columns.**"
      ]
    },
    {
      "cell_type": "code",
      "metadata": {
        "id": "MApSjBPqGqnu",
        "colab": {
          "base_uri": "https://localhost:8080/"
        },
        "outputId": "197a3015-6a15-4b6f-94f1-d405a6a2dec4"
      },
      "source": [
        "df['home_ownership'].replace(['NONE','ANY'],'OTHER',inplace=True)\n",
        "df['home_ownership'].value_counts()"
      ],
      "execution_count": 72,
      "outputs": [
        {
          "output_type": "execute_result",
          "data": {
            "text/plain": [
              "MORTGAGE    198022\n",
              "RENT        159395\n",
              "OWN          37660\n",
              "OTHER          142\n",
              "Name: home_ownership, dtype: int64"
            ]
          },
          "metadata": {
            "tags": []
          },
          "execution_count": 72
        }
      ]
    },
    {
      "cell_type": "code",
      "metadata": {
        "id": "aqDKfoahTXbX"
      },
      "source": [
        "dummies=pd.get_dummies(df['home_ownership'],drop_first=True)\n",
        "\n",
        "df=pd.concat([df.drop('home_ownership',axis=1),dummies],axis=1)#dropping plus concatenating the columns"
      ],
      "execution_count": 73,
      "outputs": []
    },
    {
      "cell_type": "markdown",
      "metadata": {
        "id": "HLr12Z3WGqnu"
      },
      "source": [
        "### address\n",
        "**TASK: Let's feature engineer a zip code column from the address in the data set. Create a column called 'zip_code' that extracts the zip code from the address column.**"
      ]
    },
    {
      "cell_type": "code",
      "metadata": {
        "id": "027MpBSDGqnv",
        "colab": {
          "base_uri": "https://localhost:8080/"
        },
        "outputId": "7f150a73-c5db-43b3-dd9c-9f3732461ba6"
      },
      "source": [
        "df['address']"
      ],
      "execution_count": 74,
      "outputs": [
        {
          "output_type": "execute_result",
          "data": {
            "text/plain": [
              "0            0174 Michelle Gateway\\r\\nMendozaberg, OK 22690\n",
              "1         1076 Carney Fort Apt. 347\\r\\nLoganmouth, SD 05113\n",
              "2         87025 Mark Dale Apt. 269\\r\\nNew Sabrina, WV 05113\n",
              "3                   823 Reid Ford\\r\\nDelacruzside, MA 00813\n",
              "4                    679 Luna Roads\\r\\nGreggshire, VA 11650\n",
              "                                ...                        \n",
              "396025     12951 Williams Crossing\\r\\nJohnnyville, DC 30723\n",
              "396026    0114 Fowler Field Suite 028\\r\\nRachelborough, ...\n",
              "396027    953 Matthew Points Suite 414\\r\\nReedfort, NY 7...\n",
              "396028    7843 Blake Freeway Apt. 229\\r\\nNew Michael, FL...\n",
              "396029        787 Michelle Causeway\\r\\nBriannaton, AR 48052\n",
              "Name: address, Length: 395219, dtype: object"
            ]
          },
          "metadata": {
            "tags": []
          },
          "execution_count": 74
        }
      ]
    },
    {
      "cell_type": "code",
      "metadata": {
        "id": "w1ORAc5XGqnv",
        "colab": {
          "base_uri": "https://localhost:8080/"
        },
        "outputId": "ccce59a6-5799-45ee-d29f-8497179e460a"
      },
      "source": [
        "df['zip_code']=df['address'].apply(lambda i:i[-5:])\n",
        "df['zip_code']"
      ],
      "execution_count": 75,
      "outputs": [
        {
          "output_type": "execute_result",
          "data": {
            "text/plain": [
              "0         22690\n",
              "1         05113\n",
              "2         05113\n",
              "3         00813\n",
              "4         11650\n",
              "          ...  \n",
              "396025    30723\n",
              "396026    05113\n",
              "396027    70466\n",
              "396028    29597\n",
              "396029    48052\n",
              "Name: zip_code, Length: 395219, dtype: object"
            ]
          },
          "metadata": {
            "tags": []
          },
          "execution_count": 75
        }
      ]
    },
    {
      "cell_type": "markdown",
      "metadata": {
        "id": "mPP4paa3Gqnv"
      },
      "source": [
        "**TASK: Now make this zip_code column into dummy variables using pandas. Concatenate the result and drop the original zip_code column along with dropping the address column.**"
      ]
    },
    {
      "cell_type": "code",
      "metadata": {
        "id": "aUNXk5-kGqnv"
      },
      "source": [
        "dummies=pd.get_dummies(df['zip_code'],drop_first=True)\n",
        "\n",
        "df=pd.concat([df.drop('zip_code',axis=1),dummies],axis=1)#dropping plus concatenating the columns"
      ],
      "execution_count": 76,
      "outputs": []
    },
    {
      "cell_type": "code",
      "metadata": {
        "id": "iASAM_krVdWZ"
      },
      "source": [
        "df=df.drop('address',axis=1)"
      ],
      "execution_count": 77,
      "outputs": []
    },
    {
      "cell_type": "markdown",
      "metadata": {
        "id": "brGCHlkQGqnv"
      },
      "source": [
        "### issue_d \n",
        "\n",
        "**TASK: This would be data leakage, we wouldn't know beforehand whether or not a loan would be issued when using our model, so in theory we wouldn't have an issue_date, drop this feature.**"
      ]
    },
    {
      "cell_type": "code",
      "metadata": {
        "id": "88SYtKY6Gqnw",
        "colab": {
          "base_uri": "https://localhost:8080/"
        },
        "outputId": "fd07d0ab-7f1e-452a-a022-cdf6e371c0e7"
      },
      "source": [
        "feat_info('issue_d')"
      ],
      "execution_count": 78,
      "outputs": [
        {
          "output_type": "stream",
          "text": [
            "The month which the loan was funded\n"
          ],
          "name": "stdout"
        }
      ]
    },
    {
      "cell_type": "code",
      "metadata": {
        "id": "aueE1he-Gqnw"
      },
      "source": [
        "df=df.drop('issue_d',axis=1)"
      ],
      "execution_count": 79,
      "outputs": []
    },
    {
      "cell_type": "markdown",
      "metadata": {
        "id": "YyihRzjDGqnw"
      },
      "source": [
        "### earliest_cr_line\n",
        "**TASK: This appears to be a historical time stamp feature. Extract the year from this feature using a .apply function, then convert it to a numeric feature. Set this new data to a feature column called 'earliest_cr_year'.Then drop the earliest_cr_line feature.**"
      ]
    },
    {
      "cell_type": "code",
      "metadata": {
        "id": "5v9397SDGqnw",
        "colab": {
          "base_uri": "https://localhost:8080/"
        },
        "outputId": "7d5c9735-3295-4006-ed3b-916933e8829c"
      },
      "source": [
        "feat_info('earliest_cr_line')"
      ],
      "execution_count": 80,
      "outputs": [
        {
          "output_type": "stream",
          "text": [
            "The month the borrower's earliest reported credit line was opened\n"
          ],
          "name": "stdout"
        }
      ]
    },
    {
      "cell_type": "code",
      "metadata": {
        "id": "VRyTZxkNGqnw",
        "colab": {
          "base_uri": "https://localhost:8080/"
        },
        "outputId": "b3336727-ddbd-43b7-a313-53fb0afd7882"
      },
      "source": [
        "df['earliest_cr_line'].apply(lambda x:int(x[-4:]))"
      ],
      "execution_count": 88,
      "outputs": [
        {
          "output_type": "execute_result",
          "data": {
            "text/plain": [
              "0         1990\n",
              "1         2004\n",
              "2         2007\n",
              "3         2006\n",
              "4         1999\n",
              "          ... \n",
              "396025    2004\n",
              "396026    2006\n",
              "396027    1997\n",
              "396028    1990\n",
              "396029    1998\n",
              "Name: earliest_cr_line, Length: 395219, dtype: int64"
            ]
          },
          "metadata": {
            "tags": []
          },
          "execution_count": 88
        }
      ]
    },
    {
      "cell_type": "code",
      "metadata": {
        "id": "5qRSsrbxGqnw",
        "colab": {
          "base_uri": "https://localhost:8080/"
        },
        "outputId": "2bb5e476-46ea-4829-f74b-59ef952b63fc"
      },
      "source": [
        "df['earliest_cr_line'].value_counts()"
      ],
      "execution_count": 89,
      "outputs": [
        {
          "output_type": "execute_result",
          "data": {
            "text/plain": [
              "2000    29302\n",
              "2001    29031\n",
              "1999    26444\n",
              "2002    25849\n",
              "2003    23623\n",
              "        ...  \n",
              "1951        3\n",
              "1950        3\n",
              "1953        2\n",
              "1948        1\n",
              "1944        1\n",
              "Name: earliest_cr_line, Length: 65, dtype: int64"
            ]
          },
          "metadata": {
            "tags": []
          },
          "execution_count": 89
        }
      ]
    },
    {
      "cell_type": "markdown",
      "metadata": {
        "id": "UwzhOA1zGqnx"
      },
      "source": [
        "## Train Test Split"
      ]
    },
    {
      "cell_type": "markdown",
      "metadata": {
        "id": "RA9yVEaNGqnx"
      },
      "source": [
        "**TASK: Import train_test_split from sklearn.**"
      ]
    },
    {
      "cell_type": "code",
      "metadata": {
        "id": "W6gl4dkrGqnx"
      },
      "source": [
        "from sklearn.model_selection import train_test_split"
      ],
      "execution_count": 90,
      "outputs": []
    },
    {
      "cell_type": "markdown",
      "metadata": {
        "id": "VQHmwu9bGqnx"
      },
      "source": [
        "**TASK: drop the load_status column we created earlier, since its a duplicate of the loan_repaid column. We'll use the loan_repaid column since its already in 0s and 1s.**"
      ]
    },
    {
      "cell_type": "code",
      "metadata": {
        "id": "SYQXk0rhGqnx"
      },
      "source": [
        "df.drop('loan_status',axis=1,inplace=True)"
      ],
      "execution_count": 91,
      "outputs": []
    },
    {
      "cell_type": "markdown",
      "metadata": {
        "id": "Gh1cMBU9Gqny"
      },
      "source": [
        "**TASK: Set X and y variables to the .values of the features and label.**"
      ]
    },
    {
      "cell_type": "code",
      "metadata": {
        "id": "zmhCUi3CGqny"
      },
      "source": [
        "X=df.drop('loan_repaid',axis=1).values\n",
        "y=df['loan_repaid'].values"
      ],
      "execution_count": 92,
      "outputs": []
    },
    {
      "cell_type": "markdown",
      "metadata": {
        "id": "q69rc-QMGqny"
      },
      "source": [
        "----\n",
        "----\n",
        "\n",
        "# OPTIONAL\n",
        "\n",
        "## Grabbing a Sample for Training Time\n",
        "\n",
        "### OPTIONAL: Use .sample() to grab a sample of the 490k+ entries to save time on training. Highly recommended for lower RAM computers or if you are not using GPU.\n",
        "\n",
        "----\n",
        "----"
      ]
    },
    {
      "cell_type": "code",
      "metadata": {
        "id": "jGf8OwefGqny",
        "colab": {
          "base_uri": "https://localhost:8080/"
        },
        "outputId": "c04840dc-b2e8-43e5-ed2d-622ecae65070"
      },
      "source": [
        "# df = df.sample(frac=0.1,random_state=101) ->for lower memory\n",
        "print(len(df))"
      ],
      "execution_count": 93,
      "outputs": [
        {
          "output_type": "stream",
          "text": [
            "395219\n"
          ],
          "name": "stdout"
        }
      ]
    },
    {
      "cell_type": "markdown",
      "metadata": {
        "id": "Kcd_yNy6Gqnz"
      },
      "source": [
        "* **TASK: Perform a train/test split**"
      ]
    },
    {
      "cell_type": "code",
      "metadata": {
        "id": "Unav0bIaGqnz"
      },
      "source": [
        "X_train, X_test, y_train, y_test = train_test_split(X, y, test_size=0.2, random_state=101)"
      ],
      "execution_count": 94,
      "outputs": []
    },
    {
      "cell_type": "code",
      "metadata": {
        "id": "xyVDo7x3Gqnz",
        "colab": {
          "base_uri": "https://localhost:8080/"
        },
        "outputId": "9f681d9a-628b-4325-da41-59fd24add70f"
      },
      "source": [
        "X_train.shape"
      ],
      "execution_count": 95,
      "outputs": [
        {
          "output_type": "execute_result",
          "data": {
            "text/plain": [
              "(316175, 78)"
            ]
          },
          "metadata": {
            "tags": []
          },
          "execution_count": 95
        }
      ]
    },
    {
      "cell_type": "code",
      "metadata": {
        "colab": {
          "base_uri": "https://localhost:8080/"
        },
        "id": "1iCcSLfSDhU6",
        "outputId": "fb01da9e-dbdb-4706-c041-2980f06ae50d"
      },
      "source": [
        "X_test.shape"
      ],
      "execution_count": 96,
      "outputs": [
        {
          "output_type": "execute_result",
          "data": {
            "text/plain": [
              "(79044, 78)"
            ]
          },
          "metadata": {
            "tags": []
          },
          "execution_count": 96
        }
      ]
    },
    {
      "cell_type": "code",
      "metadata": {
        "colab": {
          "base_uri": "https://localhost:8080/"
        },
        "id": "GIhCSxiLDjw4",
        "outputId": "606c6305-868e-44e2-d1e0-8437cd7679f5"
      },
      "source": [
        "y_train.shape"
      ],
      "execution_count": 97,
      "outputs": [
        {
          "output_type": "execute_result",
          "data": {
            "text/plain": [
              "(316175,)"
            ]
          },
          "metadata": {
            "tags": []
          },
          "execution_count": 97
        }
      ]
    },
    {
      "cell_type": "code",
      "metadata": {
        "colab": {
          "base_uri": "https://localhost:8080/"
        },
        "id": "CP6mUKuDDj8y",
        "outputId": "938b5a5d-6e1f-46f0-e584-e4b7aa98e2fb"
      },
      "source": [
        "y_test.shape"
      ],
      "execution_count": 98,
      "outputs": [
        {
          "output_type": "execute_result",
          "data": {
            "text/plain": [
              "(79044,)"
            ]
          },
          "metadata": {
            "tags": []
          },
          "execution_count": 98
        }
      ]
    },
    {
      "cell_type": "markdown",
      "metadata": {
        "id": "g1RX0oIRGqnz"
      },
      "source": [
        "## Normalizing the Data\n",
        "\n",
        "**TASK: Use a MinMaxScaler to normalize the feature data X_train and X_test. Recall we don't want data leakge from the test set so we only fit on the X_train data.**"
      ]
    },
    {
      "cell_type": "code",
      "metadata": {
        "id": "bPNa0ln8Gqnz"
      },
      "source": [
        "from sklearn.preprocessing import MinMaxScaler"
      ],
      "execution_count": 99,
      "outputs": []
    },
    {
      "cell_type": "code",
      "metadata": {
        "id": "kk3SMxlZGqnz"
      },
      "source": [
        "scaler=MinMaxScaler()"
      ],
      "execution_count": 100,
      "outputs": []
    },
    {
      "cell_type": "code",
      "metadata": {
        "id": "xeMRqGjdGqn0"
      },
      "source": [
        "X_train=scaler.fit_transform(X_train)"
      ],
      "execution_count": 102,
      "outputs": []
    },
    {
      "cell_type": "code",
      "metadata": {
        "id": "PBkRS3sMGqn0"
      },
      "source": [
        "X_test=scaler.transform(X_test)"
      ],
      "execution_count": 103,
      "outputs": []
    },
    {
      "cell_type": "code",
      "metadata": {
        "id": "zyorf9fcGqn0",
        "colab": {
          "base_uri": "https://localhost:8080/"
        },
        "outputId": "0dd74d1a-37ba-43fe-bfc6-e451b7cda1ee"
      },
      "source": [
        "X_train"
      ],
      "execution_count": 104,
      "outputs": [
        {
          "output_type": "execute_result",
          "data": {
            "text/plain": [
              "array([[0.22307692, 0.        , 0.46552396, ..., 0.        , 0.        ,\n",
              "        0.        ],\n",
              "       [0.48717949, 0.        , 0.32450331, ..., 0.        , 0.        ,\n",
              "        0.        ],\n",
              "       [0.31666667, 1.        , 0.46552396, ..., 0.        , 0.        ,\n",
              "        0.        ],\n",
              "       ...,\n",
              "       [0.19358974, 0.        , 0.16945851, ..., 0.        , 0.        ,\n",
              "        0.        ],\n",
              "       [0.28205128, 1.        , 0.4253993 , ..., 0.        , 0.        ,\n",
              "        0.        ],\n",
              "       [0.87179487, 0.        , 0.57148422, ..., 0.        , 0.        ,\n",
              "        0.        ]])"
            ]
          },
          "metadata": {
            "tags": []
          },
          "execution_count": 104
        }
      ]
    },
    {
      "cell_type": "code",
      "metadata": {
        "colab": {
          "base_uri": "https://localhost:8080/"
        },
        "id": "hxKMyPqCEJV9",
        "outputId": "daaee941-6c32-4953-dcbb-8598ca257573"
      },
      "source": [
        "X_test"
      ],
      "execution_count": 105,
      "outputs": [
        {
          "output_type": "execute_result",
          "data": {
            "text/plain": [
              "array([[0.35384615, 0.        , 0.51305025, ..., 0.        , 0.        ,\n",
              "        0.        ],\n",
              "       [0.76923077, 1.        , 0.47721075, ..., 0.        , 0.        ,\n",
              "        0.        ],\n",
              "       [0.53846154, 1.        , 0.10011687, ..., 0.        , 0.        ,\n",
              "        0.        ],\n",
              "       ...,\n",
              "       [0.1025641 , 0.        , 0.2384106 , ..., 0.        , 0.        ,\n",
              "        0.        ],\n",
              "       [0.48974359, 1.        , 0.74678613, ..., 0.        , 0.        ,\n",
              "        0.        ],\n",
              "       [0.34358974, 1.        , 0.16945851, ..., 0.        , 1.        ,\n",
              "        0.        ]])"
            ]
          },
          "metadata": {
            "tags": []
          },
          "execution_count": 105
        }
      ]
    },
    {
      "cell_type": "markdown",
      "metadata": {
        "id": "Mv_hW7LDGqn0"
      },
      "source": [
        "# Creating the Model\n",
        "\n",
        "**TASK: Run the cell below to import the necessary Keras functions.**"
      ]
    },
    {
      "cell_type": "code",
      "metadata": {
        "id": "TzAmNBrpGqn0"
      },
      "source": [
        "import tensorflow as tf\n",
        "from tensorflow.keras.models import Sequential\n",
        "from tensorflow.keras.layers import Dense,Dropout"
      ],
      "execution_count": 106,
      "outputs": []
    },
    {
      "cell_type": "markdown",
      "metadata": {
        "id": "h92RNLnCGqn0"
      },
      "source": [
        "**TASK: Build a sequential model to will be trained on the data. You have unlimited options here, but here is what the solution uses: a model that goes 78 --> 39 --> 19--> 9-->1 output neuron. OPTIONAL: Explore adding [Dropout layers](https://keras.io/layers/core/) [1](https://en.wikipedia.org/wiki/Dropout_(neural_networks)) [2](https://towardsdatascience.com/machine-learning-part-20-dropout-keras-layers-explained-8c9f6dc4c9ab)**"
      ]
    },
    {
      "cell_type": "code",
      "metadata": {
        "id": "9OWfqjiBGqn1"
      },
      "source": [
        "# CODE HERE\n",
        "model = Sequential()\n",
        "\n",
        "model.add(Dense(78,activation='relu'))#As X_train.shape has 78 in 2nd one. So basic rule is to start with that process\n",
        "model.add(Dropout(0.2))\n",
        "\n",
        "model.add(Dense(39,activation='relu'))\n",
        "model.add(Dropout(0.4))\n",
        "\n",
        "model.add(Dense(19,activation='relu'))\n",
        "model.add(Dropout(0.3))\n",
        "\n",
        "model.add(Dense(9,activation='relu'))\n",
        "model.add(Dropout(0.4))\n",
        "\n",
        "# Choose whatever number of layers/neurons you want.\n",
        "\n",
        "model.add(Dense(1,activation='sigmoid'))\n",
        "\n",
        "# https://stats.stackexchange.com/questions/181/how-to-choose-the-number-of-hidden-layers-and-nodes-in-a-feedforward-neural-netw\n",
        "\n",
        "# Remember to compile()\n",
        "model.compile(loss='binary_crossentropy',optimizer='adam')"
      ],
      "execution_count": 110,
      "outputs": []
    },
    {
      "cell_type": "markdown",
      "metadata": {
        "id": "kRRmY5z3RZeP"
      },
      "source": [
        "**TASK: Fit the model to the training data for at least 300 epochs. Also add in the validation data for later plotting. Optional: add in a batch_size of 256.**"
      ]
    },
    {
      "cell_type": "code",
      "metadata": {
        "colab": {
          "base_uri": "https://localhost:8080/"
        },
        "id": "BYvSoxsdFuWh",
        "outputId": "1aac9fc8-dde1-41dc-cf4c-1924c2988261"
      },
      "source": [
        "# CODE HERE\n",
        "model.fit(x=X_train,y=y_train,epochs=300,batch_size=256,validation_data=(X_test,y_test))"
      ],
      "execution_count": 112,
      "outputs": [
        {
          "output_type": "stream",
          "text": [
            "Epoch 1/300\n",
            "1236/1236 [==============================] - 5s 4ms/step - loss: 0.2808 - val_loss: 0.2652\n",
            "Epoch 2/300\n",
            "1236/1236 [==============================] - 5s 4ms/step - loss: 0.2800 - val_loss: 0.2643\n",
            "Epoch 3/300\n",
            "1236/1236 [==============================] - 5s 4ms/step - loss: 0.2796 - val_loss: 0.2639\n",
            "Epoch 4/300\n",
            "1236/1236 [==============================] - 5s 4ms/step - loss: 0.2789 - val_loss: 0.2633\n",
            "Epoch 5/300\n",
            "1236/1236 [==============================] - 5s 4ms/step - loss: 0.2791 - val_loss: 0.2633\n",
            "Epoch 6/300\n",
            "1236/1236 [==============================] - 4s 4ms/step - loss: 0.2782 - val_loss: 0.2632\n",
            "Epoch 7/300\n",
            "1236/1236 [==============================] - 5s 4ms/step - loss: 0.2779 - val_loss: 0.2626\n",
            "Epoch 8/300\n",
            "1236/1236 [==============================] - 5s 4ms/step - loss: 0.2782 - val_loss: 0.2639\n",
            "Epoch 9/300\n",
            "1236/1236 [==============================] - 5s 4ms/step - loss: 0.2777 - val_loss: 0.2629\n",
            "Epoch 10/300\n",
            "1236/1236 [==============================] - 5s 4ms/step - loss: 0.2773 - val_loss: 0.2631\n",
            "Epoch 11/300\n",
            "1236/1236 [==============================] - 5s 4ms/step - loss: 0.2774 - val_loss: 0.2624\n",
            "Epoch 12/300\n",
            "1236/1236 [==============================] - 5s 4ms/step - loss: 0.2769 - val_loss: 0.2625\n",
            "Epoch 13/300\n",
            "1236/1236 [==============================] - 4s 4ms/step - loss: 0.2768 - val_loss: 0.2619\n",
            "Epoch 14/300\n",
            "1236/1236 [==============================] - 4s 4ms/step - loss: 0.2771 - val_loss: 0.2629\n",
            "Epoch 15/300\n",
            "1236/1236 [==============================] - 4s 4ms/step - loss: 0.2764 - val_loss: 0.2628\n",
            "Epoch 16/300\n",
            "1236/1236 [==============================] - 4s 4ms/step - loss: 0.2764 - val_loss: 0.2626\n",
            "Epoch 17/300\n",
            "1236/1236 [==============================] - 4s 3ms/step - loss: 0.2765 - val_loss: 0.2629\n",
            "Epoch 18/300\n",
            "1236/1236 [==============================] - 4s 3ms/step - loss: 0.2761 - val_loss: 0.2625\n",
            "Epoch 19/300\n",
            "1236/1236 [==============================] - 4s 3ms/step - loss: 0.2759 - val_loss: 0.2617\n",
            "Epoch 20/300\n",
            "1236/1236 [==============================] - 4s 3ms/step - loss: 0.2765 - val_loss: 0.2630\n",
            "Epoch 21/300\n",
            "1236/1236 [==============================] - 4s 3ms/step - loss: 0.2761 - val_loss: 0.2621\n",
            "Epoch 22/300\n",
            "1236/1236 [==============================] - 4s 3ms/step - loss: 0.2759 - val_loss: 0.2617\n",
            "Epoch 23/300\n",
            "1236/1236 [==============================] - 4s 3ms/step - loss: 0.2759 - val_loss: 0.2637\n",
            "Epoch 24/300\n",
            "1236/1236 [==============================] - 4s 3ms/step - loss: 0.2756 - val_loss: 0.2626\n",
            "Epoch 25/300\n",
            "1236/1236 [==============================] - 4s 3ms/step - loss: 0.2755 - val_loss: 0.2624\n",
            "Epoch 26/300\n",
            "1236/1236 [==============================] - 4s 4ms/step - loss: 0.2754 - val_loss: 0.2626\n",
            "Epoch 27/300\n",
            "1236/1236 [==============================] - 4s 3ms/step - loss: 0.2756 - val_loss: 0.2629\n",
            "Epoch 28/300\n",
            "1236/1236 [==============================] - 4s 3ms/step - loss: 0.2749 - val_loss: 0.2622\n",
            "Epoch 29/300\n",
            "1236/1236 [==============================] - 4s 3ms/step - loss: 0.2746 - val_loss: 0.2625\n",
            "Epoch 30/300\n",
            "1236/1236 [==============================] - 4s 3ms/step - loss: 0.2749 - val_loss: 0.2622\n",
            "Epoch 31/300\n",
            "1236/1236 [==============================] - 4s 3ms/step - loss: 0.2753 - val_loss: 0.2627\n",
            "Epoch 32/300\n",
            "1236/1236 [==============================] - 4s 3ms/step - loss: 0.2742 - val_loss: 0.2627\n",
            "Epoch 33/300\n",
            "1236/1236 [==============================] - 4s 4ms/step - loss: 0.2746 - val_loss: 0.2627\n",
            "Epoch 34/300\n",
            "1236/1236 [==============================] - 4s 4ms/step - loss: 0.2747 - val_loss: 0.2626\n",
            "Epoch 35/300\n",
            "1236/1236 [==============================] - 4s 3ms/step - loss: 0.2747 - val_loss: 0.2636\n",
            "Epoch 36/300\n",
            "1236/1236 [==============================] - 4s 3ms/step - loss: 0.2742 - val_loss: 0.2628\n",
            "Epoch 37/300\n",
            "1236/1236 [==============================] - 4s 3ms/step - loss: 0.2747 - val_loss: 0.2630\n",
            "Epoch 38/300\n",
            "1236/1236 [==============================] - 4s 4ms/step - loss: 0.2742 - val_loss: 0.2624\n",
            "Epoch 39/300\n",
            "1236/1236 [==============================] - 4s 4ms/step - loss: 0.2741 - val_loss: 0.2633\n",
            "Epoch 40/300\n",
            "1236/1236 [==============================] - 4s 4ms/step - loss: 0.2738 - val_loss: 0.2634\n",
            "Epoch 41/300\n",
            "1236/1236 [==============================] - 4s 4ms/step - loss: 0.2737 - val_loss: 0.2628\n",
            "Epoch 42/300\n",
            "1236/1236 [==============================] - 4s 4ms/step - loss: 0.2743 - val_loss: 0.2620\n",
            "Epoch 43/300\n",
            "1236/1236 [==============================] - 4s 3ms/step - loss: 0.2737 - val_loss: 0.2619\n",
            "Epoch 44/300\n",
            "1236/1236 [==============================] - 4s 3ms/step - loss: 0.2738 - val_loss: 0.2626\n",
            "Epoch 45/300\n",
            "1236/1236 [==============================] - 4s 4ms/step - loss: 0.2734 - val_loss: 0.2627\n",
            "Epoch 46/300\n",
            "1236/1236 [==============================] - 4s 4ms/step - loss: 0.2733 - val_loss: 0.2633\n",
            "Epoch 47/300\n",
            "1236/1236 [==============================] - 4s 4ms/step - loss: 0.2736 - val_loss: 0.2636\n",
            "Epoch 48/300\n",
            "1236/1236 [==============================] - 4s 4ms/step - loss: 0.2732 - val_loss: 0.2621\n",
            "Epoch 49/300\n",
            "1236/1236 [==============================] - 4s 4ms/step - loss: 0.2732 - val_loss: 0.2626\n",
            "Epoch 50/300\n",
            "1236/1236 [==============================] - 4s 4ms/step - loss: 0.2738 - val_loss: 0.2629\n",
            "Epoch 51/300\n",
            "1236/1236 [==============================] - 4s 4ms/step - loss: 0.2731 - val_loss: 0.2628\n",
            "Epoch 52/300\n",
            "1236/1236 [==============================] - 4s 4ms/step - loss: 0.2727 - val_loss: 0.2623\n",
            "Epoch 53/300\n",
            "1236/1236 [==============================] - 4s 4ms/step - loss: 0.2727 - val_loss: 0.2637\n",
            "Epoch 54/300\n",
            "1236/1236 [==============================] - 4s 3ms/step - loss: 0.2729 - val_loss: 0.2630\n",
            "Epoch 55/300\n",
            "1236/1236 [==============================] - 4s 3ms/step - loss: 0.2730 - val_loss: 0.2630\n",
            "Epoch 56/300\n",
            "1236/1236 [==============================] - 4s 4ms/step - loss: 0.2727 - val_loss: 0.2629\n",
            "Epoch 57/300\n",
            "1236/1236 [==============================] - 4s 3ms/step - loss: 0.2727 - val_loss: 0.2626\n",
            "Epoch 58/300\n",
            "1236/1236 [==============================] - 4s 3ms/step - loss: 0.2733 - val_loss: 0.2628\n",
            "Epoch 59/300\n",
            "1236/1236 [==============================] - 4s 3ms/step - loss: 0.2729 - val_loss: 0.2634\n",
            "Epoch 60/300\n",
            "1236/1236 [==============================] - 4s 4ms/step - loss: 0.2730 - val_loss: 0.2630\n",
            "Epoch 61/300\n",
            "1236/1236 [==============================] - 4s 3ms/step - loss: 0.2724 - val_loss: 0.2632\n",
            "Epoch 62/300\n",
            "1236/1236 [==============================] - 4s 4ms/step - loss: 0.2721 - val_loss: 0.2644\n",
            "Epoch 63/300\n",
            "1236/1236 [==============================] - 4s 3ms/step - loss: 0.2728 - val_loss: 0.2636\n",
            "Epoch 64/300\n",
            "1236/1236 [==============================] - 4s 3ms/step - loss: 0.2724 - val_loss: 0.2636\n",
            "Epoch 65/300\n",
            "1236/1236 [==============================] - 4s 3ms/step - loss: 0.2721 - val_loss: 0.2643\n",
            "Epoch 66/300\n",
            "1236/1236 [==============================] - 4s 4ms/step - loss: 0.2723 - val_loss: 0.2630\n",
            "Epoch 67/300\n",
            "1236/1236 [==============================] - 4s 3ms/step - loss: 0.2719 - val_loss: 0.2629\n",
            "Epoch 68/300\n",
            "1236/1236 [==============================] - 4s 4ms/step - loss: 0.2716 - val_loss: 0.2634\n",
            "Epoch 69/300\n",
            "1236/1236 [==============================] - 4s 3ms/step - loss: 0.2726 - val_loss: 0.2636\n",
            "Epoch 70/300\n",
            "1236/1236 [==============================] - 4s 3ms/step - loss: 0.2721 - val_loss: 0.2649\n",
            "Epoch 71/300\n",
            "1236/1236 [==============================] - 4s 3ms/step - loss: 0.2724 - val_loss: 0.2647\n",
            "Epoch 72/300\n",
            "1236/1236 [==============================] - 4s 4ms/step - loss: 0.2718 - val_loss: 0.2629\n",
            "Epoch 73/300\n",
            "1236/1236 [==============================] - 4s 4ms/step - loss: 0.2717 - val_loss: 0.2631\n",
            "Epoch 74/300\n",
            "1236/1236 [==============================] - 4s 4ms/step - loss: 0.2717 - val_loss: 0.2641\n",
            "Epoch 75/300\n",
            "1236/1236 [==============================] - 4s 3ms/step - loss: 0.2715 - val_loss: 0.2647\n",
            "Epoch 76/300\n",
            "1236/1236 [==============================] - 4s 4ms/step - loss: 0.2716 - val_loss: 0.2646\n",
            "Epoch 77/300\n",
            "1236/1236 [==============================] - 4s 4ms/step - loss: 0.2719 - val_loss: 0.2637\n",
            "Epoch 78/300\n",
            "1236/1236 [==============================] - 5s 4ms/step - loss: 0.2711 - val_loss: 0.2645\n",
            "Epoch 79/300\n",
            "1236/1236 [==============================] - 5s 4ms/step - loss: 0.2715 - val_loss: 0.2639\n",
            "Epoch 80/300\n",
            "1236/1236 [==============================] - 5s 4ms/step - loss: 0.2711 - val_loss: 0.2642\n",
            "Epoch 81/300\n",
            "1236/1236 [==============================] - 5s 4ms/step - loss: 0.2719 - val_loss: 0.2638\n",
            "Epoch 82/300\n",
            "1236/1236 [==============================] - 5s 4ms/step - loss: 0.2713 - val_loss: 0.2650\n",
            "Epoch 83/300\n",
            "1236/1236 [==============================] - 5s 4ms/step - loss: 0.2717 - val_loss: 0.2639\n",
            "Epoch 84/300\n",
            "1236/1236 [==============================] - 4s 4ms/step - loss: 0.2709 - val_loss: 0.2646\n",
            "Epoch 85/300\n",
            "1236/1236 [==============================] - 5s 4ms/step - loss: 0.2718 - val_loss: 0.2639\n",
            "Epoch 86/300\n",
            "1236/1236 [==============================] - 5s 4ms/step - loss: 0.2710 - val_loss: 0.2640\n",
            "Epoch 87/300\n",
            "1236/1236 [==============================] - 5s 4ms/step - loss: 0.2714 - val_loss: 0.2633\n",
            "Epoch 88/300\n",
            "1236/1236 [==============================] - 5s 4ms/step - loss: 0.2709 - val_loss: 0.2635\n",
            "Epoch 89/300\n",
            "1236/1236 [==============================] - 5s 4ms/step - loss: 0.2712 - val_loss: 0.2638\n",
            "Epoch 90/300\n",
            "1236/1236 [==============================] - 5s 4ms/step - loss: 0.2707 - val_loss: 0.2643\n",
            "Epoch 91/300\n",
            "1236/1236 [==============================] - 5s 4ms/step - loss: 0.2713 - val_loss: 0.2634\n",
            "Epoch 92/300\n",
            "1236/1236 [==============================] - 4s 4ms/step - loss: 0.2713 - val_loss: 0.2649\n",
            "Epoch 93/300\n",
            "1236/1236 [==============================] - 4s 4ms/step - loss: 0.2715 - val_loss: 0.2644\n",
            "Epoch 94/300\n",
            "1236/1236 [==============================] - 4s 3ms/step - loss: 0.2706 - val_loss: 0.2648\n",
            "Epoch 95/300\n",
            "1236/1236 [==============================] - 4s 4ms/step - loss: 0.2703 - val_loss: 0.2646\n",
            "Epoch 96/300\n",
            "1236/1236 [==============================] - 4s 4ms/step - loss: 0.2710 - val_loss: 0.2648\n",
            "Epoch 97/300\n",
            "1236/1236 [==============================] - 4s 4ms/step - loss: 0.2714 - val_loss: 0.2654\n",
            "Epoch 98/300\n",
            "1236/1236 [==============================] - 4s 4ms/step - loss: 0.2711 - val_loss: 0.2644\n",
            "Epoch 99/300\n",
            "1236/1236 [==============================] - 4s 4ms/step - loss: 0.2707 - val_loss: 0.2652\n",
            "Epoch 100/300\n",
            "1236/1236 [==============================] - 4s 4ms/step - loss: 0.2709 - val_loss: 0.2650\n",
            "Epoch 101/300\n",
            "1236/1236 [==============================] - 4s 4ms/step - loss: 0.2708 - val_loss: 0.2644\n",
            "Epoch 102/300\n",
            "1236/1236 [==============================] - 5s 4ms/step - loss: 0.2711 - val_loss: 0.2655\n",
            "Epoch 103/300\n",
            "1236/1236 [==============================] - 4s 3ms/step - loss: 0.2711 - val_loss: 0.2663\n",
            "Epoch 104/300\n",
            "1236/1236 [==============================] - 4s 4ms/step - loss: 0.2704 - val_loss: 0.2660\n",
            "Epoch 105/300\n",
            "1236/1236 [==============================] - 5s 4ms/step - loss: 0.2705 - val_loss: 0.2651\n",
            "Epoch 106/300\n",
            "1236/1236 [==============================] - 4s 4ms/step - loss: 0.2712 - val_loss: 0.2642\n",
            "Epoch 107/300\n",
            "1236/1236 [==============================] - 4s 4ms/step - loss: 0.2707 - val_loss: 0.2662\n",
            "Epoch 108/300\n",
            "1236/1236 [==============================] - 5s 4ms/step - loss: 0.2707 - val_loss: 0.2664\n",
            "Epoch 109/300\n",
            "1236/1236 [==============================] - 5s 4ms/step - loss: 0.2707 - val_loss: 0.2651\n",
            "Epoch 110/300\n",
            "1236/1236 [==============================] - 4s 4ms/step - loss: 0.2700 - val_loss: 0.2661\n",
            "Epoch 111/300\n",
            "1236/1236 [==============================] - 4s 3ms/step - loss: 0.2708 - val_loss: 0.2651\n",
            "Epoch 112/300\n",
            "1236/1236 [==============================] - 4s 4ms/step - loss: 0.2705 - val_loss: 0.2650\n",
            "Epoch 113/300\n",
            "1236/1236 [==============================] - 4s 4ms/step - loss: 0.2704 - val_loss: 0.2648\n",
            "Epoch 114/300\n",
            "1236/1236 [==============================] - 4s 4ms/step - loss: 0.2709 - val_loss: 0.2654\n",
            "Epoch 115/300\n",
            "1236/1236 [==============================] - 4s 4ms/step - loss: 0.2698 - val_loss: 0.2656\n",
            "Epoch 116/300\n",
            "1236/1236 [==============================] - 5s 4ms/step - loss: 0.2703 - val_loss: 0.2668\n",
            "Epoch 117/300\n",
            "1236/1236 [==============================] - 4s 3ms/step - loss: 0.2705 - val_loss: 0.2658\n",
            "Epoch 118/300\n",
            "1236/1236 [==============================] - 4s 4ms/step - loss: 0.2702 - val_loss: 0.2661\n",
            "Epoch 119/300\n",
            "1236/1236 [==============================] - 5s 4ms/step - loss: 0.2700 - val_loss: 0.2671\n",
            "Epoch 120/300\n",
            "1236/1236 [==============================] - 4s 4ms/step - loss: 0.2702 - val_loss: 0.2658\n",
            "Epoch 121/300\n",
            "1236/1236 [==============================] - 5s 4ms/step - loss: 0.2702 - val_loss: 0.2666\n",
            "Epoch 122/300\n",
            "1236/1236 [==============================] - 5s 4ms/step - loss: 0.2699 - val_loss: 0.2662\n",
            "Epoch 123/300\n",
            "1236/1236 [==============================] - 5s 4ms/step - loss: 0.2699 - val_loss: 0.2657\n",
            "Epoch 124/300\n",
            "1236/1236 [==============================] - 5s 4ms/step - loss: 0.2696 - val_loss: 0.2667\n",
            "Epoch 125/300\n",
            "1236/1236 [==============================] - 5s 4ms/step - loss: 0.2700 - val_loss: 0.2661\n",
            "Epoch 126/300\n",
            "1236/1236 [==============================] - 5s 4ms/step - loss: 0.2706 - val_loss: 0.2665\n",
            "Epoch 127/300\n",
            "1236/1236 [==============================] - 5s 4ms/step - loss: 0.2704 - val_loss: 0.2675\n",
            "Epoch 128/300\n",
            "1236/1236 [==============================] - 5s 4ms/step - loss: 0.2701 - val_loss: 0.2667\n",
            "Epoch 129/300\n",
            "1236/1236 [==============================] - 4s 4ms/step - loss: 0.2704 - val_loss: 0.2673\n",
            "Epoch 130/300\n",
            "1236/1236 [==============================] - 4s 4ms/step - loss: 0.2703 - val_loss: 0.2677\n",
            "Epoch 131/300\n",
            "1236/1236 [==============================] - 5s 4ms/step - loss: 0.2705 - val_loss: 0.2671\n",
            "Epoch 132/300\n",
            "1236/1236 [==============================] - 5s 4ms/step - loss: 0.2705 - val_loss: 0.2677\n",
            "Epoch 133/300\n",
            "1236/1236 [==============================] - 4s 4ms/step - loss: 0.2702 - val_loss: 0.2674\n",
            "Epoch 134/300\n",
            "1236/1236 [==============================] - 5s 4ms/step - loss: 0.2705 - val_loss: 0.2680\n",
            "Epoch 135/300\n",
            "1236/1236 [==============================] - 5s 4ms/step - loss: 0.2700 - val_loss: 0.2681\n",
            "Epoch 136/300\n",
            "1236/1236 [==============================] - 5s 4ms/step - loss: 0.2697 - val_loss: 0.2667\n",
            "Epoch 137/300\n",
            "1236/1236 [==============================] - 5s 4ms/step - loss: 0.2698 - val_loss: 0.2671\n",
            "Epoch 138/300\n",
            "1236/1236 [==============================] - 4s 4ms/step - loss: 0.2699 - val_loss: 0.2672\n",
            "Epoch 139/300\n",
            "1236/1236 [==============================] - 5s 4ms/step - loss: 0.2697 - val_loss: 0.2673\n",
            "Epoch 140/300\n",
            "1236/1236 [==============================] - 5s 4ms/step - loss: 0.2696 - val_loss: 0.2654\n",
            "Epoch 141/300\n",
            "1236/1236 [==============================] - 5s 4ms/step - loss: 0.2697 - val_loss: 0.2668\n",
            "Epoch 142/300\n",
            "1236/1236 [==============================] - 5s 4ms/step - loss: 0.2703 - val_loss: 0.2663\n",
            "Epoch 143/300\n",
            "1236/1236 [==============================] - 5s 4ms/step - loss: 0.2697 - val_loss: 0.2673\n",
            "Epoch 144/300\n",
            "1236/1236 [==============================] - 5s 4ms/step - loss: 0.2703 - val_loss: 0.2690\n",
            "Epoch 145/300\n",
            "1236/1236 [==============================] - 5s 4ms/step - loss: 0.2698 - val_loss: 0.2662\n",
            "Epoch 146/300\n",
            "1236/1236 [==============================] - 5s 4ms/step - loss: 0.2697 - val_loss: 0.2672\n",
            "Epoch 147/300\n",
            "1236/1236 [==============================] - 5s 4ms/step - loss: 0.2698 - val_loss: 0.2671\n",
            "Epoch 148/300\n",
            "1236/1236 [==============================] - 5s 4ms/step - loss: 0.2694 - val_loss: 0.2671\n",
            "Epoch 149/300\n",
            "1236/1236 [==============================] - 5s 4ms/step - loss: 0.2691 - val_loss: 0.2680\n",
            "Epoch 150/300\n",
            "1236/1236 [==============================] - 5s 4ms/step - loss: 0.2695 - val_loss: 0.2678\n",
            "Epoch 151/300\n",
            "1236/1236 [==============================] - 5s 4ms/step - loss: 0.2697 - val_loss: 0.2671\n",
            "Epoch 152/300\n",
            "1236/1236 [==============================] - 5s 4ms/step - loss: 0.2699 - val_loss: 0.2685\n",
            "Epoch 153/300\n",
            "1236/1236 [==============================] - 5s 4ms/step - loss: 0.2694 - val_loss: 0.2684\n",
            "Epoch 154/300\n",
            "1236/1236 [==============================] - 5s 4ms/step - loss: 0.2699 - val_loss: 0.2678\n",
            "Epoch 155/300\n",
            "1236/1236 [==============================] - 5s 4ms/step - loss: 0.2697 - val_loss: 0.2652\n",
            "Epoch 156/300\n",
            "1236/1236 [==============================] - 4s 4ms/step - loss: 0.2696 - val_loss: 0.2674\n",
            "Epoch 157/300\n",
            "1236/1236 [==============================] - 5s 4ms/step - loss: 0.2693 - val_loss: 0.2659\n",
            "Epoch 158/300\n",
            "1236/1236 [==============================] - 5s 4ms/step - loss: 0.2692 - val_loss: 0.2675\n",
            "Epoch 159/300\n",
            "1236/1236 [==============================] - 5s 4ms/step - loss: 0.2696 - val_loss: 0.2664\n",
            "Epoch 160/300\n",
            "1236/1236 [==============================] - 5s 4ms/step - loss: 0.2698 - val_loss: 0.2673\n",
            "Epoch 161/300\n",
            "1236/1236 [==============================] - 5s 4ms/step - loss: 0.2693 - val_loss: 0.2677\n",
            "Epoch 162/300\n",
            "1236/1236 [==============================] - 5s 4ms/step - loss: 0.2693 - val_loss: 0.2664\n",
            "Epoch 163/300\n",
            "1236/1236 [==============================] - 5s 4ms/step - loss: 0.2695 - val_loss: 0.2683\n",
            "Epoch 164/300\n",
            "1236/1236 [==============================] - 5s 4ms/step - loss: 0.2689 - val_loss: 0.2684\n",
            "Epoch 165/300\n",
            "1236/1236 [==============================] - 5s 4ms/step - loss: 0.2699 - val_loss: 0.2675\n",
            "Epoch 166/300\n",
            "1236/1236 [==============================] - 5s 4ms/step - loss: 0.2696 - val_loss: 0.2674\n",
            "Epoch 167/300\n",
            "1236/1236 [==============================] - 5s 4ms/step - loss: 0.2692 - val_loss: 0.2681\n",
            "Epoch 168/300\n",
            "1236/1236 [==============================] - 5s 4ms/step - loss: 0.2694 - val_loss: 0.2676\n",
            "Epoch 169/300\n",
            "1236/1236 [==============================] - 5s 4ms/step - loss: 0.2692 - val_loss: 0.2678\n",
            "Epoch 170/300\n",
            "1236/1236 [==============================] - 5s 4ms/step - loss: 0.2696 - val_loss: 0.2679\n",
            "Epoch 171/300\n",
            "1236/1236 [==============================] - 5s 4ms/step - loss: 0.2695 - val_loss: 0.2679\n",
            "Epoch 172/300\n",
            "1236/1236 [==============================] - 5s 4ms/step - loss: 0.2691 - val_loss: 0.2677\n",
            "Epoch 173/300\n",
            "1236/1236 [==============================] - 5s 4ms/step - loss: 0.2687 - val_loss: 0.2683\n",
            "Epoch 174/300\n",
            "1236/1236 [==============================] - 5s 4ms/step - loss: 0.2693 - val_loss: 0.2675\n",
            "Epoch 175/300\n",
            "1236/1236 [==============================] - 5s 4ms/step - loss: 0.2691 - val_loss: 0.2689\n",
            "Epoch 176/300\n",
            "1236/1236 [==============================] - 5s 4ms/step - loss: 0.2694 - val_loss: 0.2695\n",
            "Epoch 177/300\n",
            "1236/1236 [==============================] - 5s 4ms/step - loss: 0.2691 - val_loss: 0.2689\n",
            "Epoch 178/300\n",
            "1236/1236 [==============================] - 5s 4ms/step - loss: 0.2692 - val_loss: 0.2694\n",
            "Epoch 179/300\n",
            "1236/1236 [==============================] - 5s 4ms/step - loss: 0.2693 - val_loss: 0.2665\n",
            "Epoch 180/300\n",
            "1236/1236 [==============================] - 5s 4ms/step - loss: 0.2687 - val_loss: 0.2685\n",
            "Epoch 181/300\n",
            "1236/1236 [==============================] - 5s 4ms/step - loss: 0.2685 - val_loss: 0.2682\n",
            "Epoch 182/300\n",
            "1236/1236 [==============================] - 5s 4ms/step - loss: 0.2687 - val_loss: 0.2679\n",
            "Epoch 183/300\n",
            "1236/1236 [==============================] - 5s 4ms/step - loss: 0.2688 - val_loss: 0.2693\n",
            "Epoch 184/300\n",
            "1236/1236 [==============================] - 5s 4ms/step - loss: 0.2690 - val_loss: 0.2682\n",
            "Epoch 185/300\n",
            "1236/1236 [==============================] - 5s 4ms/step - loss: 0.2690 - val_loss: 0.2684\n",
            "Epoch 186/300\n",
            "1236/1236 [==============================] - 5s 4ms/step - loss: 0.2687 - val_loss: 0.2707\n",
            "Epoch 187/300\n",
            "1236/1236 [==============================] - 5s 4ms/step - loss: 0.2687 - val_loss: 0.2684\n",
            "Epoch 188/300\n",
            "1236/1236 [==============================] - 5s 4ms/step - loss: 0.2691 - val_loss: 0.2697\n",
            "Epoch 189/300\n",
            "1236/1236 [==============================] - 5s 4ms/step - loss: 0.2693 - val_loss: 0.2683\n",
            "Epoch 190/300\n",
            "1236/1236 [==============================] - 5s 4ms/step - loss: 0.2688 - val_loss: 0.2707\n",
            "Epoch 191/300\n",
            "1236/1236 [==============================] - 5s 4ms/step - loss: 0.2690 - val_loss: 0.2690\n",
            "Epoch 192/300\n",
            "1236/1236 [==============================] - 5s 4ms/step - loss: 0.2687 - val_loss: 0.2706\n",
            "Epoch 193/300\n",
            "1236/1236 [==============================] - 5s 4ms/step - loss: 0.2686 - val_loss: 0.2722\n",
            "Epoch 194/300\n",
            "1236/1236 [==============================] - 5s 4ms/step - loss: 0.2689 - val_loss: 0.2716\n",
            "Epoch 195/300\n",
            "1236/1236 [==============================] - 5s 4ms/step - loss: 0.2690 - val_loss: 0.2699\n",
            "Epoch 196/300\n",
            "1236/1236 [==============================] - 5s 4ms/step - loss: 0.2684 - val_loss: 0.2686\n",
            "Epoch 197/300\n",
            "1236/1236 [==============================] - 5s 4ms/step - loss: 0.2685 - val_loss: 0.2720\n",
            "Epoch 198/300\n",
            "1236/1236 [==============================] - 5s 4ms/step - loss: 0.2690 - val_loss: 0.2699\n",
            "Epoch 199/300\n",
            "1236/1236 [==============================] - 5s 4ms/step - loss: 0.2690 - val_loss: 0.2721\n",
            "Epoch 200/300\n",
            "1236/1236 [==============================] - 5s 4ms/step - loss: 0.2689 - val_loss: 0.2709\n",
            "Epoch 201/300\n",
            "1236/1236 [==============================] - 5s 4ms/step - loss: 0.2687 - val_loss: 0.2700\n",
            "Epoch 202/300\n",
            "1236/1236 [==============================] - 5s 4ms/step - loss: 0.2690 - val_loss: 0.2691\n",
            "Epoch 203/300\n",
            "1236/1236 [==============================] - 5s 4ms/step - loss: 0.2688 - val_loss: 0.2700\n",
            "Epoch 204/300\n",
            "1236/1236 [==============================] - 5s 4ms/step - loss: 0.2690 - val_loss: 0.2690\n",
            "Epoch 205/300\n",
            "1236/1236 [==============================] - 5s 4ms/step - loss: 0.2690 - val_loss: 0.2693\n",
            "Epoch 206/300\n",
            "1236/1236 [==============================] - 5s 4ms/step - loss: 0.2688 - val_loss: 0.2691\n",
            "Epoch 207/300\n",
            "1236/1236 [==============================] - 5s 4ms/step - loss: 0.2685 - val_loss: 0.2713\n",
            "Epoch 208/300\n",
            "1236/1236 [==============================] - 5s 4ms/step - loss: 0.2682 - val_loss: 0.2690\n",
            "Epoch 209/300\n",
            "1236/1236 [==============================] - 5s 4ms/step - loss: 0.2691 - val_loss: 0.2705\n",
            "Epoch 210/300\n",
            "1236/1236 [==============================] - 5s 4ms/step - loss: 0.2686 - val_loss: 0.2693\n",
            "Epoch 211/300\n",
            "1236/1236 [==============================] - 5s 4ms/step - loss: 0.2686 - val_loss: 0.2714\n",
            "Epoch 212/300\n",
            "1236/1236 [==============================] - 5s 4ms/step - loss: 0.2687 - val_loss: 0.2695\n",
            "Epoch 213/300\n",
            "1236/1236 [==============================] - 5s 4ms/step - loss: 0.2689 - val_loss: 0.2719\n",
            "Epoch 214/300\n",
            "1236/1236 [==============================] - 5s 4ms/step - loss: 0.2693 - val_loss: 0.2698\n",
            "Epoch 215/300\n",
            "1236/1236 [==============================] - 5s 4ms/step - loss: 0.2684 - val_loss: 0.2712\n",
            "Epoch 216/300\n",
            "1236/1236 [==============================] - 5s 4ms/step - loss: 0.2686 - val_loss: 0.2716\n",
            "Epoch 217/300\n",
            "1236/1236 [==============================] - 5s 4ms/step - loss: 0.2685 - val_loss: 0.2717\n",
            "Epoch 218/300\n",
            "1236/1236 [==============================] - 5s 4ms/step - loss: 0.2687 - val_loss: 0.2705\n",
            "Epoch 219/300\n",
            "1236/1236 [==============================] - 5s 4ms/step - loss: 0.2689 - val_loss: 0.2704\n",
            "Epoch 220/300\n",
            "1236/1236 [==============================] - 5s 4ms/step - loss: 0.2681 - val_loss: 0.2699\n",
            "Epoch 221/300\n",
            "1236/1236 [==============================] - 5s 4ms/step - loss: 0.2686 - val_loss: 0.2734\n",
            "Epoch 222/300\n",
            "1236/1236 [==============================] - 5s 4ms/step - loss: 0.2687 - val_loss: 0.2703\n",
            "Epoch 223/300\n",
            "1236/1236 [==============================] - 5s 4ms/step - loss: 0.2685 - val_loss: 0.2727\n",
            "Epoch 224/300\n",
            "1236/1236 [==============================] - 5s 4ms/step - loss: 0.2688 - val_loss: 0.2713\n",
            "Epoch 225/300\n",
            "1236/1236 [==============================] - 5s 4ms/step - loss: 0.2690 - val_loss: 0.2708\n",
            "Epoch 226/300\n",
            "1236/1236 [==============================] - 5s 4ms/step - loss: 0.2689 - val_loss: 0.2701\n",
            "Epoch 227/300\n",
            "1236/1236 [==============================] - 5s 4ms/step - loss: 0.2685 - val_loss: 0.2702\n",
            "Epoch 228/300\n",
            "1236/1236 [==============================] - 5s 4ms/step - loss: 0.2689 - val_loss: 0.2743\n",
            "Epoch 229/300\n",
            "1236/1236 [==============================] - 5s 4ms/step - loss: 0.2687 - val_loss: 0.2709\n",
            "Epoch 230/300\n",
            "1236/1236 [==============================] - 5s 4ms/step - loss: 0.2684 - val_loss: 0.2735\n",
            "Epoch 231/300\n",
            "1236/1236 [==============================] - 5s 4ms/step - loss: 0.2686 - val_loss: 0.2705\n",
            "Epoch 232/300\n",
            "1236/1236 [==============================] - 5s 4ms/step - loss: 0.2690 - val_loss: 0.2722\n",
            "Epoch 233/300\n",
            "1236/1236 [==============================] - 5s 4ms/step - loss: 0.2685 - val_loss: 0.2734\n",
            "Epoch 234/300\n",
            "1236/1236 [==============================] - 5s 4ms/step - loss: 0.2684 - val_loss: 0.2740\n",
            "Epoch 235/300\n",
            "1236/1236 [==============================] - 5s 4ms/step - loss: 0.2687 - val_loss: 0.2702\n",
            "Epoch 236/300\n",
            "1236/1236 [==============================] - 5s 4ms/step - loss: 0.2686 - val_loss: 0.2713\n",
            "Epoch 237/300\n",
            "1236/1236 [==============================] - 5s 4ms/step - loss: 0.2684 - val_loss: 0.2714\n",
            "Epoch 238/300\n",
            "1236/1236 [==============================] - 5s 4ms/step - loss: 0.2691 - val_loss: 0.2721\n",
            "Epoch 239/300\n",
            "1236/1236 [==============================] - 5s 4ms/step - loss: 0.2681 - val_loss: 0.2698\n",
            "Epoch 240/300\n",
            "1236/1236 [==============================] - 5s 4ms/step - loss: 0.2681 - val_loss: 0.2717\n",
            "Epoch 241/300\n",
            "1236/1236 [==============================] - 5s 4ms/step - loss: 0.2686 - val_loss: 0.2725\n",
            "Epoch 242/300\n",
            "1236/1236 [==============================] - 5s 4ms/step - loss: 0.2692 - val_loss: 0.2727\n",
            "Epoch 243/300\n",
            "1236/1236 [==============================] - 5s 4ms/step - loss: 0.2679 - val_loss: 0.2722\n",
            "Epoch 244/300\n",
            "1236/1236 [==============================] - 5s 4ms/step - loss: 0.2687 - val_loss: 0.2735\n",
            "Epoch 245/300\n",
            "1236/1236 [==============================] - 5s 4ms/step - loss: 0.2683 - val_loss: 0.2715\n",
            "Epoch 246/300\n",
            "1236/1236 [==============================] - 5s 4ms/step - loss: 0.2686 - val_loss: 0.2716\n",
            "Epoch 247/300\n",
            "1236/1236 [==============================] - 5s 4ms/step - loss: 0.2687 - val_loss: 0.2731\n",
            "Epoch 248/300\n",
            "1236/1236 [==============================] - 5s 4ms/step - loss: 0.2683 - val_loss: 0.2717\n",
            "Epoch 249/300\n",
            "1236/1236 [==============================] - 5s 4ms/step - loss: 0.2684 - val_loss: 0.2713\n",
            "Epoch 250/300\n",
            "1236/1236 [==============================] - 5s 4ms/step - loss: 0.2686 - val_loss: 0.2707\n",
            "Epoch 251/300\n",
            "1236/1236 [==============================] - 5s 4ms/step - loss: 0.2685 - val_loss: 0.2724\n",
            "Epoch 252/300\n",
            "1236/1236 [==============================] - 5s 4ms/step - loss: 0.2680 - val_loss: 0.2696\n",
            "Epoch 253/300\n",
            "1236/1236 [==============================] - 5s 4ms/step - loss: 0.2683 - val_loss: 0.2723\n",
            "Epoch 254/300\n",
            "1236/1236 [==============================] - 5s 4ms/step - loss: 0.2686 - val_loss: 0.2761\n",
            "Epoch 255/300\n",
            "1236/1236 [==============================] - 5s 4ms/step - loss: 0.2681 - val_loss: 0.2734\n",
            "Epoch 256/300\n",
            "1236/1236 [==============================] - 5s 4ms/step - loss: 0.2684 - val_loss: 0.2715\n",
            "Epoch 257/300\n",
            "1236/1236 [==============================] - 5s 4ms/step - loss: 0.2678 - val_loss: 0.2720\n",
            "Epoch 258/300\n",
            "1236/1236 [==============================] - 5s 4ms/step - loss: 0.2682 - val_loss: 0.2716\n",
            "Epoch 259/300\n",
            "1236/1236 [==============================] - 5s 4ms/step - loss: 0.2681 - val_loss: 0.2700\n",
            "Epoch 260/300\n",
            "1236/1236 [==============================] - 5s 4ms/step - loss: 0.2681 - val_loss: 0.2711\n",
            "Epoch 261/300\n",
            "1236/1236 [==============================] - 5s 4ms/step - loss: 0.2682 - val_loss: 0.2704\n",
            "Epoch 262/300\n",
            "1236/1236 [==============================] - 5s 4ms/step - loss: 0.2678 - val_loss: 0.2694\n",
            "Epoch 263/300\n",
            "1236/1236 [==============================] - 5s 4ms/step - loss: 0.2680 - val_loss: 0.2727\n",
            "Epoch 264/300\n",
            "1236/1236 [==============================] - 5s 4ms/step - loss: 0.2679 - val_loss: 0.2738\n",
            "Epoch 265/300\n",
            "1236/1236 [==============================] - 5s 4ms/step - loss: 0.2682 - val_loss: 0.2716\n",
            "Epoch 266/300\n",
            "1236/1236 [==============================] - 5s 4ms/step - loss: 0.2685 - val_loss: 0.2713\n",
            "Epoch 267/300\n",
            "1236/1236 [==============================] - 5s 4ms/step - loss: 0.2681 - val_loss: 0.2733\n",
            "Epoch 268/300\n",
            "1236/1236 [==============================] - 5s 4ms/step - loss: 0.2679 - val_loss: 0.2741\n",
            "Epoch 269/300\n",
            "1236/1236 [==============================] - 5s 4ms/step - loss: 0.2682 - val_loss: 0.2729\n",
            "Epoch 270/300\n",
            "1236/1236 [==============================] - 5s 4ms/step - loss: 0.2685 - val_loss: 0.2716\n",
            "Epoch 271/300\n",
            "1236/1236 [==============================] - 5s 4ms/step - loss: 0.2685 - val_loss: 0.2722\n",
            "Epoch 272/300\n",
            "1236/1236 [==============================] - 5s 4ms/step - loss: 0.2679 - val_loss: 0.2715\n",
            "Epoch 273/300\n",
            "1236/1236 [==============================] - 5s 4ms/step - loss: 0.2685 - val_loss: 0.2716\n",
            "Epoch 274/300\n",
            "1236/1236 [==============================] - 5s 4ms/step - loss: 0.2680 - val_loss: 0.2724\n",
            "Epoch 275/300\n",
            "1236/1236 [==============================] - 5s 4ms/step - loss: 0.2680 - val_loss: 0.2702\n",
            "Epoch 276/300\n",
            "1236/1236 [==============================] - 5s 4ms/step - loss: 0.2684 - val_loss: 0.2728\n",
            "Epoch 277/300\n",
            "1236/1236 [==============================] - 5s 4ms/step - loss: 0.2687 - val_loss: 0.2730\n",
            "Epoch 278/300\n",
            "1236/1236 [==============================] - 5s 4ms/step - loss: 0.2685 - val_loss: 0.2735\n",
            "Epoch 279/300\n",
            "1236/1236 [==============================] - 5s 4ms/step - loss: 0.2682 - val_loss: 0.2722\n",
            "Epoch 280/300\n",
            "1236/1236 [==============================] - 5s 4ms/step - loss: 0.2682 - val_loss: 0.2759\n",
            "Epoch 281/300\n",
            "1236/1236 [==============================] - 5s 4ms/step - loss: 0.2679 - val_loss: 0.2749\n",
            "Epoch 282/300\n",
            "1236/1236 [==============================] - 5s 4ms/step - loss: 0.2675 - val_loss: 0.2773\n",
            "Epoch 283/300\n",
            "1236/1236 [==============================] - 5s 4ms/step - loss: 0.2676 - val_loss: 0.2734\n",
            "Epoch 284/300\n",
            "1236/1236 [==============================] - 5s 4ms/step - loss: 0.2684 - val_loss: 0.2746\n",
            "Epoch 285/300\n",
            "1236/1236 [==============================] - 5s 4ms/step - loss: 0.2675 - val_loss: 0.2773\n",
            "Epoch 286/300\n",
            "1236/1236 [==============================] - 5s 4ms/step - loss: 0.2677 - val_loss: 0.2754\n",
            "Epoch 287/300\n",
            "1236/1236 [==============================] - 5s 4ms/step - loss: 0.2678 - val_loss: 0.2735\n",
            "Epoch 288/300\n",
            "1236/1236 [==============================] - 5s 4ms/step - loss: 0.2685 - val_loss: 0.2742\n",
            "Epoch 289/300\n",
            "1236/1236 [==============================] - 5s 4ms/step - loss: 0.2678 - val_loss: 0.2762\n",
            "Epoch 290/300\n",
            "1236/1236 [==============================] - 5s 4ms/step - loss: 0.2680 - val_loss: 0.2741\n",
            "Epoch 291/300\n",
            "1236/1236 [==============================] - 5s 4ms/step - loss: 0.2684 - val_loss: 0.2738\n",
            "Epoch 292/300\n",
            "1236/1236 [==============================] - 5s 4ms/step - loss: 0.2679 - val_loss: 0.2747\n",
            "Epoch 293/300\n",
            "1236/1236 [==============================] - 5s 4ms/step - loss: 0.2679 - val_loss: 0.2751\n",
            "Epoch 294/300\n",
            "1236/1236 [==============================] - 5s 4ms/step - loss: 0.2678 - val_loss: 0.2740\n",
            "Epoch 295/300\n",
            "1236/1236 [==============================] - 5s 4ms/step - loss: 0.2677 - val_loss: 0.2742\n",
            "Epoch 296/300\n",
            "1236/1236 [==============================] - 5s 4ms/step - loss: 0.2677 - val_loss: 0.2741\n",
            "Epoch 297/300\n",
            "1236/1236 [==============================] - 5s 4ms/step - loss: 0.2674 - val_loss: 0.2755\n",
            "Epoch 298/300\n",
            "1236/1236 [==============================] - 5s 4ms/step - loss: 0.2679 - val_loss: 0.2749\n",
            "Epoch 299/300\n",
            "1236/1236 [==============================] - 5s 4ms/step - loss: 0.2678 - val_loss: 0.2788\n",
            "Epoch 300/300\n",
            "1236/1236 [==============================] - 5s 4ms/step - loss: 0.2677 - val_loss: 0.2761\n"
          ],
          "name": "stdout"
        },
        {
          "output_type": "execute_result",
          "data": {
            "text/plain": [
              "<tensorflow.python.keras.callbacks.History at 0x7f6b5558b310>"
            ]
          },
          "metadata": {
            "tags": []
          },
          "execution_count": 112
        }
      ]
    },
    {
      "cell_type": "code",
      "metadata": {
        "colab": {
          "base_uri": "https://localhost:8080/",
          "height": 402
        },
        "id": "G-PDq-QQMZqe",
        "outputId": "4572da1f-39dd-4be4-dae5-7528f2a5a8e1"
      },
      "source": [
        "model_loss = pd.DataFrame(model.history.history)\n",
        "model_loss"
      ],
      "execution_count": 115,
      "outputs": [
        {
          "output_type": "execute_result",
          "data": {
            "text/html": [
              "<div>\n",
              "<style scoped>\n",
              "    .dataframe tbody tr th:only-of-type {\n",
              "        vertical-align: middle;\n",
              "    }\n",
              "\n",
              "    .dataframe tbody tr th {\n",
              "        vertical-align: top;\n",
              "    }\n",
              "\n",
              "    .dataframe thead th {\n",
              "        text-align: right;\n",
              "    }\n",
              "</style>\n",
              "<table border=\"1\" class=\"dataframe\">\n",
              "  <thead>\n",
              "    <tr style=\"text-align: right;\">\n",
              "      <th></th>\n",
              "      <th>loss</th>\n",
              "      <th>val_loss</th>\n",
              "    </tr>\n",
              "  </thead>\n",
              "  <tbody>\n",
              "    <tr>\n",
              "      <th>0</th>\n",
              "      <td>0.280786</td>\n",
              "      <td>0.265213</td>\n",
              "    </tr>\n",
              "    <tr>\n",
              "      <th>1</th>\n",
              "      <td>0.280006</td>\n",
              "      <td>0.264280</td>\n",
              "    </tr>\n",
              "    <tr>\n",
              "      <th>2</th>\n",
              "      <td>0.279551</td>\n",
              "      <td>0.263944</td>\n",
              "    </tr>\n",
              "    <tr>\n",
              "      <th>3</th>\n",
              "      <td>0.278926</td>\n",
              "      <td>0.263288</td>\n",
              "    </tr>\n",
              "    <tr>\n",
              "      <th>4</th>\n",
              "      <td>0.279062</td>\n",
              "      <td>0.263259</td>\n",
              "    </tr>\n",
              "    <tr>\n",
              "      <th>...</th>\n",
              "      <td>...</td>\n",
              "      <td>...</td>\n",
              "    </tr>\n",
              "    <tr>\n",
              "      <th>295</th>\n",
              "      <td>0.267697</td>\n",
              "      <td>0.274147</td>\n",
              "    </tr>\n",
              "    <tr>\n",
              "      <th>296</th>\n",
              "      <td>0.267437</td>\n",
              "      <td>0.275469</td>\n",
              "    </tr>\n",
              "    <tr>\n",
              "      <th>297</th>\n",
              "      <td>0.267926</td>\n",
              "      <td>0.274877</td>\n",
              "    </tr>\n",
              "    <tr>\n",
              "      <th>298</th>\n",
              "      <td>0.267761</td>\n",
              "      <td>0.278795</td>\n",
              "    </tr>\n",
              "    <tr>\n",
              "      <th>299</th>\n",
              "      <td>0.267734</td>\n",
              "      <td>0.276119</td>\n",
              "    </tr>\n",
              "  </tbody>\n",
              "</table>\n",
              "<p>300 rows × 2 columns</p>\n",
              "</div>"
            ],
            "text/plain": [
              "         loss  val_loss\n",
              "0    0.280786  0.265213\n",
              "1    0.280006  0.264280\n",
              "2    0.279551  0.263944\n",
              "3    0.278926  0.263288\n",
              "4    0.279062  0.263259\n",
              "..        ...       ...\n",
              "295  0.267697  0.274147\n",
              "296  0.267437  0.275469\n",
              "297  0.267926  0.274877\n",
              "298  0.267761  0.278795\n",
              "299  0.267734  0.276119\n",
              "\n",
              "[300 rows x 2 columns]"
            ]
          },
          "metadata": {
            "tags": []
          },
          "execution_count": 115
        }
      ]
    },
    {
      "cell_type": "code",
      "metadata": {
        "colab": {
          "base_uri": "https://localhost:8080/",
          "height": 282
        },
        "id": "I_xm8DTpMjLi",
        "outputId": "564fd9bd-2b1e-4574-b27f-4411e6aea6af"
      },
      "source": [
        "model_loss.plot()"
      ],
      "execution_count": 116,
      "outputs": [
        {
          "output_type": "execute_result",
          "data": {
            "text/plain": [
              "<matplotlib.axes._subplots.AxesSubplot at 0x7f6b51b16910>"
            ]
          },
          "metadata": {
            "tags": []
          },
          "execution_count": 116
        },
        {
          "output_type": "display_data",
          "data": {
            "image/png": "[encoded data removed]",
            "text/plain": [
              "<Figure size 432x288 with 1 Axes>"
            ]
          },
          "metadata": {
            "tags": [],
            "needs_background": "light"
          }
        }
      ]
    },
    {
      "cell_type": "markdown",
      "metadata": {
        "id": "ygIrD97GM5s0"
      },
      "source": [
        "**Early Stopping**\n",
        "\n",
        "We obviously trained too much! Let's use early stopping to track the val_loss and stop training once it begins increasing too much!"
      ]
    },
    {
      "cell_type": "code",
      "metadata": {
        "id": "3JiC7nr8NUZY"
      },
      "source": [
        "from tensorflow.keras.callbacks import EarlyStopping"
      ],
      "execution_count": 117,
      "outputs": []
    },
    {
      "cell_type": "code",
      "metadata": {
        "id": "QWB760tiNX3X"
      },
      "source": [
        "call_back = EarlyStopping(monitor='val_loss', mode='min', verbose=1, patience=20)"
      ],
      "execution_count": 118,
      "outputs": []
    },
    {
      "cell_type": "code",
      "metadata": {
        "colab": {
          "base_uri": "https://localhost:8080/"
        },
        "id": "vlRdWwItNdIM",
        "outputId": "5b01dfeb-ae97-471f-b882-d2ae98478435"
      },
      "source": [
        "model.fit(x=X_train, \n",
        "          y=y_train, \n",
        "          epochs=200,\n",
        "          validation_data=(X_test, y_test), verbose=1,\n",
        "          callbacks=[call_back]\n",
        "          )"
      ],
      "execution_count": 119,
      "outputs": [
        {
          "output_type": "stream",
          "text": [
            "Epoch 1/200\n",
            "9881/9881 [==============================] - 21s 2ms/step - loss: 0.2728 - val_loss: 0.2676\n",
            "Epoch 2/200\n",
            "9881/9881 [==============================] - 20s 2ms/step - loss: 0.2725 - val_loss: 0.2662\n",
            "Epoch 3/200\n",
            "9881/9881 [==============================] - 20s 2ms/step - loss: 0.2735 - val_loss: 0.2681\n",
            "Epoch 4/200\n",
            "9881/9881 [==============================] - 20s 2ms/step - loss: 0.2729 - val_loss: 0.2672\n",
            "Epoch 5/200\n",
            "9881/9881 [==============================] - 20s 2ms/step - loss: 0.2731 - val_loss: 0.2651\n",
            "Epoch 6/200\n",
            "9881/9881 [==============================] - 21s 2ms/step - loss: 0.2732 - val_loss: 0.2641\n",
            "Epoch 7/200\n",
            "9881/9881 [==============================] - 21s 2ms/step - loss: 0.2730 - val_loss: 0.2645\n",
            "Epoch 8/200\n",
            "9881/9881 [==============================] - 22s 2ms/step - loss: 0.2733 - val_loss: 0.2639\n",
            "Epoch 9/200\n",
            "9881/9881 [==============================] - 22s 2ms/step - loss: 0.2734 - val_loss: 0.2644\n",
            "Epoch 10/200\n",
            "9881/9881 [==============================] - 23s 2ms/step - loss: 0.2734 - val_loss: 0.2650\n",
            "Epoch 11/200\n",
            "9881/9881 [==============================] - 21s 2ms/step - loss: 0.2737 - val_loss: 0.2650\n",
            "Epoch 12/200\n",
            "9881/9881 [==============================] - 20s 2ms/step - loss: 0.2734 - val_loss: 0.2631\n",
            "Epoch 13/200\n",
            "9881/9881 [==============================] - 21s 2ms/step - loss: 0.2735 - val_loss: 0.2645\n",
            "Epoch 14/200\n",
            "9881/9881 [==============================] - 21s 2ms/step - loss: 0.2736 - val_loss: 0.2642\n",
            "Epoch 15/200\n",
            "9881/9881 [==============================] - 22s 2ms/step - loss: 0.2741 - val_loss: 0.2659\n",
            "Epoch 16/200\n",
            "9881/9881 [==============================] - 22s 2ms/step - loss: 0.2734 - val_loss: 0.2641\n",
            "Epoch 17/200\n",
            "9881/9881 [==============================] - 22s 2ms/step - loss: 0.2739 - val_loss: 0.2647\n",
            "Epoch 18/200\n",
            "9881/9881 [==============================] - 22s 2ms/step - loss: 0.2734 - val_loss: 0.2651\n",
            "Epoch 19/200\n",
            "9881/9881 [==============================] - 22s 2ms/step - loss: 0.2735 - val_loss: 0.2643\n",
            "Epoch 20/200\n",
            "9881/9881 [==============================] - 21s 2ms/step - loss: 0.2736 - val_loss: 0.2645\n",
            "Epoch 21/200\n",
            "9881/9881 [==============================] - 22s 2ms/step - loss: 0.2741 - val_loss: 0.2629\n",
            "Epoch 22/200\n",
            "9881/9881 [==============================] - 21s 2ms/step - loss: 0.2738 - val_loss: 0.2646\n",
            "Epoch 23/200\n",
            "9881/9881 [==============================] - 21s 2ms/step - loss: 0.2736 - val_loss: 0.2642\n",
            "Epoch 24/200\n",
            "9881/9881 [==============================] - 22s 2ms/step - loss: 0.2739 - val_loss: 0.2653\n",
            "Epoch 25/200\n",
            "9881/9881 [==============================] - 24s 2ms/step - loss: 0.2744 - val_loss: 0.2630\n",
            "Epoch 26/200\n",
            "9881/9881 [==============================] - 23s 2ms/step - loss: 0.2743 - val_loss: 0.2635\n",
            "Epoch 27/200\n",
            "9881/9881 [==============================] - 22s 2ms/step - loss: 0.2739 - val_loss: 0.2648\n",
            "Epoch 28/200\n",
            "9881/9881 [==============================] - 21s 2ms/step - loss: 0.2743 - val_loss: 0.2633\n",
            "Epoch 29/200\n",
            "9881/9881 [==============================] - 21s 2ms/step - loss: 0.2738 - val_loss: 0.2633\n",
            "Epoch 30/200\n",
            "9881/9881 [==============================] - 22s 2ms/step - loss: 0.2741 - val_loss: 0.2632\n",
            "Epoch 31/200\n",
            "9881/9881 [==============================] - 22s 2ms/step - loss: 0.2735 - val_loss: 0.2632\n",
            "Epoch 32/200\n",
            "9881/9881 [==============================] - 22s 2ms/step - loss: 0.2740 - val_loss: 0.2644\n",
            "Epoch 33/200\n",
            "9881/9881 [==============================] - 22s 2ms/step - loss: 0.2738 - val_loss: 0.2630\n",
            "Epoch 34/200\n",
            "9881/9881 [==============================] - 22s 2ms/step - loss: 0.2735 - val_loss: 0.2639\n",
            "Epoch 35/200\n",
            "9881/9881 [==============================] - 22s 2ms/step - loss: 0.2738 - val_loss: 0.2649\n",
            "Epoch 36/200\n",
            "9881/9881 [==============================] - 21s 2ms/step - loss: 0.2744 - val_loss: 0.2653\n",
            "Epoch 37/200\n",
            "9881/9881 [==============================] - 21s 2ms/step - loss: 0.2738 - val_loss: 0.2647\n",
            "Epoch 38/200\n",
            "9881/9881 [==============================] - 22s 2ms/step - loss: 0.2743 - val_loss: 0.2662\n",
            "Epoch 39/200\n",
            "9881/9881 [==============================] - 22s 2ms/step - loss: 0.2742 - val_loss: 0.2643\n",
            "Epoch 40/200\n",
            "9881/9881 [==============================] - 22s 2ms/step - loss: 0.2743 - val_loss: 0.2648\n",
            "Epoch 41/200\n",
            "9881/9881 [==============================] - 22s 2ms/step - loss: 0.2741 - val_loss: 0.2651\n",
            "Epoch 00041: early stopping\n"
          ],
          "name": "stdout"
        },
        {
          "output_type": "execute_result",
          "data": {
            "text/plain": [
              "<tensorflow.python.keras.callbacks.History at 0x7f6b5c08ee50>"
            ]
          },
          "metadata": {
            "tags": []
          },
          "execution_count": 119
        }
      ]
    },
    {
      "cell_type": "markdown",
      "metadata": {
        "id": "6jdrIH9uSB0I"
      },
      "source": [
        "# Section 3: Evaluating Model Performance.\n",
        "\n",
        "**TASK: Plot out the validation loss versus the training loss.**"
      ]
    },
    {
      "cell_type": "code",
      "metadata": {
        "colab": {
          "base_uri": "https://localhost:8080/",
          "height": 282
        },
        "id": "KolnL3WPRKsJ",
        "outputId": "43a2ada2-d79d-4be0-a62e-a064aa8fceb7"
      },
      "source": [
        "model_loss = pd.DataFrame(model.history.history)\n",
        "model_loss.plot()"
      ],
      "execution_count": 120,
      "outputs": [
        {
          "output_type": "execute_result",
          "data": {
            "text/plain": [
              "<matplotlib.axes._subplots.AxesSubplot at 0x7f6b55ebc310>"
            ]
          },
          "metadata": {
            "tags": []
          },
          "execution_count": 120
        },
        {
          "output_type": "display_data",
          "data": {
            "image/png": "[encoded data removed]",
            "text/plain": [
              "<Figure size 432x288 with 1 Axes>"
            ]
          },
          "metadata": {
            "tags": [],
            "needs_background": "light"
          }
        }
      ]
    },
    {
      "cell_type": "markdown",
      "metadata": {
        "id": "fVkldtxpGqn2"
      },
      "source": [
        "**TASK: OPTIONAL: Save your model.**"
      ]
    },
    {
      "cell_type": "code",
      "metadata": {
        "id": "hhmBACypGqn2"
      },
      "source": [
        "# CODE HERE\n",
        "from tensorflow.keras.models import load_model"
      ],
      "execution_count": 121,
      "outputs": []
    },
    {
      "cell_type": "code",
      "metadata": {
        "id": "phP7mvRRGqn2"
      },
      "source": [
        "model.save('Keras Model.h5')"
      ],
      "execution_count": 122,
      "outputs": []
    },
    {
      "cell_type": "markdown",
      "metadata": {
        "id": "nYdy79f3Gqn3"
      },
      "source": [
        "**TASK: Create predictions from the X_test set and display a classification report and confusion matrix for the X_test set.**"
      ]
    },
    {
      "cell_type": "code",
      "metadata": {
        "id": "TZFgfhy4Gqn4"
      },
      "source": [
        "from sklearn.metrics import classification_report,confusion_matrix"
      ],
      "execution_count": 123,
      "outputs": []
    },
    {
      "cell_type": "code",
      "metadata": {
        "id": "plj-qZJcGqn4"
      },
      "source": [
        "y_pred=model.predict(X_test)"
      ],
      "execution_count": 141,
      "outputs": []
    },
    {
      "cell_type": "code",
      "metadata": {
        "id": "8ZadTIlgGqn4",
        "colab": {
          "base_uri": "https://localhost:8080/"
        },
        "outputId": "7e266597-5927-4673-b2d4-f923b7638207"
      },
      "source": [
        "print(classification_report(y_test,y_pred))"
      ],
      "execution_count": 125,
      "outputs": [
        {
          "output_type": "stream",
          "text": [
            "              precision    recall  f1-score   support\n",
            "\n",
            "           0       1.00      0.43      0.60     15658\n",
            "           1       0.88      1.00      0.93     63386\n",
            "\n",
            "    accuracy                           0.89     79044\n",
            "   macro avg       0.94      0.71      0.77     79044\n",
            "weighted avg       0.90      0.89      0.87     79044\n",
            "\n"
          ],
          "name": "stdout"
        }
      ]
    },
    {
      "cell_type": "code",
      "metadata": {
        "id": "7pzCVL8_Gqn5",
        "colab": {
          "base_uri": "https://localhost:8080/"
        },
        "outputId": "d32a3346-54f1-4625-d8a2-3e61a1f71c23"
      },
      "source": [
        "print(confusion_matrix(y_test,y_pred))"
      ],
      "execution_count": 126,
      "outputs": [
        {
          "output_type": "stream",
          "text": [
            "[[ 6722  8936]\n",
            " [    0 63386]]\n"
          ],
          "name": "stdout"
        }
      ]
    },
    {
      "cell_type": "code",
      "metadata": {
        "colab": {
          "base_uri": "https://localhost:8080/"
        },
        "id": "4dk97o5yS3QX",
        "outputId": "c42646c4-c3d0-48bb-f165-c7192cec4bcf"
      },
      "source": [
        "df['loan_repaid'].value_counts()#That's the reason behind less value of recall as the dataset has imbalanced or one sided greater values"
      ],
      "execution_count": 127,
      "outputs": [
        {
          "output_type": "execute_result",
          "data": {
            "text/plain": [
              "1    317696\n",
              "0     77523\n",
              "Name: loan_repaid, dtype: int64"
            ]
          },
          "metadata": {
            "tags": []
          },
          "execution_count": 127
        }
      ]
    },
    {
      "cell_type": "code",
      "metadata": {
        "colab": {
          "base_uri": "https://localhost:8080/"
        },
        "id": "YU9KIpF2TI2U",
        "outputId": "83fc3d51-8bf9-48bb-bc0b-372a57fa624d"
      },
      "source": [
        "df['loan_repaid'].value_counts()/len(df)#In percentage"
      ],
      "execution_count": 129,
      "outputs": [
        {
          "output_type": "execute_result",
          "data": {
            "text/plain": [
              "1    0.803848\n",
              "0    0.196152\n",
              "Name: loan_repaid, dtype: float64"
            ]
          },
          "metadata": {
            "tags": []
          },
          "execution_count": 129
        }
      ]
    },
    {
      "cell_type": "markdown",
      "metadata": {
        "id": "jRa7hqViGqn5"
      },
      "source": [
        "**TASK: Given the customer below, would you offer this person a loan?**"
      ]
    },
    {
      "cell_type": "code",
      "metadata": {
        "id": "yXlPKDoIGqn5",
        "colab": {
          "base_uri": "https://localhost:8080/"
        },
        "outputId": "b94a9a73-d06a-4bed-b551-079e4905253a"
      },
      "source": [
        "import random\n",
        "random.seed(42)\n",
        "random_ind = random.randint(0,len(df))\n",
        "\n",
        "new_customer = df.drop('loan_repaid',axis=1).iloc[random_ind]\n",
        "new_customer"
      ],
      "execution_count": 143,
      "outputs": [
        {
          "output_type": "execute_result",
          "data": {
            "text/plain": [
              "loan_amnt      22000.00\n",
              "term              36.00\n",
              "int_rate           6.62\n",
              "installment      675.49\n",
              "annual_inc     77431.00\n",
              "                 ...   \n",
              "30723              0.00\n",
              "48052              1.00\n",
              "70466              0.00\n",
              "86630              0.00\n",
              "93700              0.00\n",
              "Name: 335936, Length: 78, dtype: float64"
            ]
          },
          "metadata": {
            "tags": []
          },
          "execution_count": 143
        }
      ]
    },
    {
      "cell_type": "code",
      "metadata": {
        "id": "MKZ74zb6Gqn5",
        "colab": {
          "base_uri": "https://localhost:8080/"
        },
        "outputId": "8cfcf955-ad00-4792-c4e4-c24c79633926"
      },
      "source": [
        "new_customer=new_customer.values.reshape(1,78)\n",
        "new_customer"
      ],
      "execution_count": 144,
      "outputs": [
        {
          "output_type": "execute_result",
          "data": {
            "text/plain": [
              "array([[2.2000e+04, 3.6000e+01, 6.6200e+00, 6.7549e+02, 7.7431e+04,\n",
              "        2.9580e+01, 1.9870e+03, 1.4000e+01, 0.0000e+00, 1.4411e+04,\n",
              "        3.1300e+01, 3.5000e+01, 3.0000e+00, 0.0000e+00, 1.0000e+00,\n",
              "        0.0000e+00, 0.0000e+00, 0.0000e+00, 0.0000e+00, 0.0000e+00,\n",
              "        0.0000e+00, 0.0000e+00, 0.0000e+00, 0.0000e+00, 0.0000e+00,\n",
              "        0.0000e+00, 0.0000e+00, 0.0000e+00, 0.0000e+00, 0.0000e+00,\n",
              "        0.0000e+00, 0.0000e+00, 0.0000e+00, 0.0000e+00, 0.0000e+00,\n",
              "        0.0000e+00, 0.0000e+00, 0.0000e+00, 0.0000e+00, 0.0000e+00,\n",
              "        0.0000e+00, 0.0000e+00, 0.0000e+00, 0.0000e+00, 0.0000e+00,\n",
              "        0.0000e+00, 0.0000e+00, 0.0000e+00, 0.0000e+00, 1.0000e+00,\n",
              "        1.0000e+00, 0.0000e+00, 0.0000e+00, 0.0000e+00, 1.0000e+00,\n",
              "        0.0000e+00, 0.0000e+00, 0.0000e+00, 0.0000e+00, 0.0000e+00,\n",
              "        0.0000e+00, 0.0000e+00, 0.0000e+00, 0.0000e+00, 0.0000e+00,\n",
              "        0.0000e+00, 0.0000e+00, 0.0000e+00, 0.0000e+00, 0.0000e+00,\n",
              "        0.0000e+00, 0.0000e+00, 0.0000e+00, 0.0000e+00, 1.0000e+00,\n",
              "        0.0000e+00, 0.0000e+00, 0.0000e+00]])"
            ]
          },
          "metadata": {
            "tags": []
          },
          "execution_count": 144
        }
      ]
    },
    {
      "cell_type": "code",
      "metadata": {
        "id": "vaTvTnCuGqn6",
        "colab": {
          "base_uri": "https://localhost:8080/"
        },
        "outputId": "34a86540-6003-4aaa-b9c9-9b45dba47a9c"
      },
      "source": [
        "model.predict(new_customer)"
      ],
      "execution_count": 145,
      "outputs": [
        {
          "output_type": "execute_result",
          "data": {
            "text/plain": [
              "array([[1.]], dtype=float32)"
            ]
          },
          "metadata": {
            "tags": []
          },
          "execution_count": 145
        }
      ]
    },
    {
      "cell_type": "markdown",
      "metadata": {
        "id": "TW1Vx6r5Gqn6"
      },
      "source": [
        "**TASK: Now check, did this person actually end up paying back their loan?**"
      ]
    },
    {
      "cell_type": "code",
      "metadata": {
        "id": "CRTKrWLkGqn6",
        "colab": {
          "base_uri": "https://localhost:8080/"
        },
        "outputId": "0267a6e1-e6b2-4692-d408-48ef339d5927"
      },
      "source": [
        "# CODE HERE\n",
        "df.iloc[random_ind]['loan_repaid']"
      ],
      "execution_count": 146,
      "outputs": [
        {
          "output_type": "execute_result",
          "data": {
            "text/plain": [
              "1.0"
            ]
          },
          "metadata": {
            "tags": []
          },
          "execution_count": 146
        }
      ]
    }
  ]
}